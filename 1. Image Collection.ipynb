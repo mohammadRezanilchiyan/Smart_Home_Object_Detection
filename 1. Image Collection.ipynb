{
 "cells": [
  {
   "cell_type": "markdown",
   "metadata": {},
   "source": [
    "# 1. Import Dependencies"
   ]
  },
  {
   "cell_type": "code",
   "execution_count": 1,
   "metadata": {},
   "outputs": [
    {
     "name": "stdout",
     "output_type": "stream",
     "text": [
      "Requirement already satisfied: opencv-python in d:\\youtube\\od\\tfodcourse\\tfod\\lib\\site-packages (4.5.1.48)\n",
      "Requirement already satisfied: numpy>=1.14.5 in d:\\youtube\\od\\tfodcourse\\tfod\\lib\\site-packages (from opencv-python) (1.20.2)\n"
     ]
    }
   ],
   "source": [
    "!pip install opencv-python"
   ]
  },
  {
   "cell_type": "code",
   "execution_count": 3,
   "metadata": {},
   "outputs": [],
   "source": [
    "# Import opencv\n",
    "import cv2 \n",
    "\n",
    "# Import uuid\n",
    "import uuid\n",
    "\n",
    "# Import Operating System\n",
    "import os\n",
    "\n",
    "# Import time\n",
    "import time"
   ]
  },
  {
   "cell_type": "code",
   "execution_count": 4,
   "metadata": {},
   "outputs": [
    {
     "name": "stdout",
     "output_type": "stream",
     "text": [
      "Python 3.8.2\r\n"
     ]
    }
   ],
   "source": [
    "!python --version"
   ]
  },
  {
   "cell_type": "markdown",
   "metadata": {},
   "source": [
    "# 2. Define Images to Collect"
   ]
  },
  {
   "cell_type": "code",
   "execution_count": 5,
   "metadata": {},
   "outputs": [],
   "source": [
    "labels = ['thumbsup', 'thumbsdown', 'thankyou', 'livelong']\n",
    "number_imgs = 5"
   ]
  },
  {
   "cell_type": "markdown",
   "metadata": {},
   "source": [
    "# 3. Setup Folders "
   ]
  },
  {
   "cell_type": "code",
   "execution_count": 6,
   "metadata": {},
   "outputs": [],
   "source": [
    "#IMAGES_PATH = os.chdir('/Users/user/Desktop/Tensorflow Object Detection/TFODCourse/')\n",
    "IMAGES_PATH = os.path.join('Tensorflow', 'workspace', 'images', 'collectedimages')"
   ]
  },
  {
   "cell_type": "code",
   "execution_count": 17,
   "metadata": {},
   "outputs": [],
   "source": [
    "if not os.path.exists(IMAGES_PATH):\n",
    "    if os.name == 'posix':\n",
    "        !mkdir -p {IMAGES_PATH}\n",
    "    if os.name == 'nt':\n",
    "         !mkdir {IMAGES_PATH}\n",
    "for label in labels:\n",
    "    path = os.path.join(IMAGES_PATH, label)\n",
    "    if not os.path.exists(path):\n",
    "        !mkdir {path}"
   ]
  },
  {
   "cell_type": "code",
   "execution_count": 7,
   "metadata": {},
   "outputs": [
    {
     "name": "stdout",
     "output_type": "stream",
     "text": [
      "/Users/user/Desktop/Tensorflow Object Detection/TFODCourse\n"
     ]
    }
   ],
   "source": [
    "print(os.getcwd())"
   ]
  },
  {
   "cell_type": "markdown",
   "metadata": {},
   "source": [
    "# 4. Capture Images"
   ]
  },
  {
   "cell_type": "code",
   "execution_count": 18,
   "metadata": {},
   "outputs": [
    {
     "name": "stdout",
     "output_type": "stream",
     "text": [
      "Collecting images for thumbsup\n",
      "Collecting image 0\n",
      "Collecting image 1\n",
      "Collecting image 2\n",
      "Collecting image 3\n",
      "Collecting image 4\n"
     ]
    }
   ],
   "source": [
    "for label in labels:\n",
    "    cap = cv2.VideoCapture(0)\n",
    "    print('Collecting images for {}'.format(label))\n",
    "    time.sleep(5)\n",
    "    for imgnum in range(number_imgs):\n",
    "        print('Collecting image {}'.format(imgnum))\n",
    "        ret, frame = cap.read()\n",
    "        imgname = os.path.join(IMAGES_PATH,label,label+'.'+'{}.jpg'.format(str(uuid.uuid1())))\n",
    "        cv2.imwrite(imgname, frame)\n",
    "        cv2.imshow('frame', frame)\n",
    "        time.sleep(2)\n",
    "\n",
    "        if cv2.waitKey(1) & 0xFF == ord('q'):\n",
    "            break\n",
    "cap.release()\n",
    "cv2.destroyAllWindows()"
   ]
  },
  {
   "cell_type": "markdown",
   "metadata": {},
   "source": [
    "# 5. Image Labelling"
   ]
  },
  {
   "cell_type": "code",
   "execution_count": 17,
   "metadata": {
    "scrolled": true
   },
   "outputs": [
    {
     "name": "stdout",
     "output_type": "stream",
     "text": [
      "Requirement already satisfied: pyqt5 in /Users/user/Desktop/Tensorflow Object Detection/TFODCourse/tfod/lib/python3.8/site-packages (5.15.9)\r\n",
      "Requirement already satisfied: lxml in /Users/user/Desktop/Tensorflow Object Detection/TFODCourse/tfod/lib/python3.8/site-packages (4.9.2)\r\n",
      "Requirement already satisfied: PyQt5-sip<13,>=12.11 in /Users/user/Desktop/Tensorflow Object Detection/TFODCourse/tfod/lib/python3.8/site-packages (from pyqt5) (12.12.1)\r\n",
      "Requirement already satisfied: PyQt5-Qt5>=5.15.2 in /Users/user/Desktop/Tensorflow Object Detection/TFODCourse/tfod/lib/python3.8/site-packages (from pyqt5) (5.15.2)\r\n"
     ]
    }
   ],
   "source": [
    "## From MAIN Writer\n",
    "#!pip install --upgrade pyqt5 lxml\n",
    "\n",
    "## From ME\n",
    "!pip3 install pyqt5 lxml \n",
    "\n",
    "## Check List the library\n",
    "#!pip3 list\n",
    "# pip list"
   ]
  },
  {
   "cell_type": "code",
   "execution_count": 19,
   "metadata": {},
   "outputs": [],
   "source": [
    "LABELIMG_PATH = os.path.join('Tensorflow', 'labelimg')"
   ]
  },
  {
   "cell_type": "code",
   "execution_count": 12,
   "metadata": {},
   "outputs": [
    {
     "name": "stderr",
     "output_type": "stream",
     "text": [
      "Cloning into 'Tensorflow\\labelimg'...\n"
     ]
    }
   ],
   "source": [
    "if not os.path.exists(LABELIMG_PATH):\n",
    "    !mkdir {LABELIMG_PATH}\n",
    "    !git clone https://github.com/tzutalin/labelImg {LABELIMG_PATH}"
   ]
  },
  {
   "cell_type": "code",
   "execution_count": 20,
   "metadata": {},
   "outputs": [
    {
     "data": {
      "text/plain": [
       "'Tensorflow/labelimg'"
      ]
     },
     "execution_count": 20,
     "metadata": {},
     "output_type": "execute_result"
    }
   ],
   "source": [
    "LABELIMG_PATH"
   ]
  },
  {
   "cell_type": "code",
   "execution_count": 21,
   "metadata": {},
   "outputs": [],
   "source": [
    "##### From MAIN Writer\n",
    "#if os.name == 'posix':\n",
    "    #!make qt5py3\n",
    "    #!cd {LABELIMG_PATH} && qt5py3\n",
    "#if os.name =='nt':\n",
    "    #!cd {LABELIMG_PATH} && pyrcc5 -o libs/resources.py resources.qrc"
   ]
  },
  {
   "cell_type": "code",
   "execution_count": 22,
   "metadata": {},
   "outputs": [
    {
     "name": "stdout",
     "output_type": "stream",
     "text": [
      "Image:/Users/user/Desktop/Tensorflow Object Detection/TFODCourse/Tensorflow/workspace/images/collectedimages/livelong/livelong.72b2b532-1980-11ee-a857-a8206647eb22.jpg -> Annotation:/Users/user/Desktop/Tensorflow Object Detection/TFODCourse/Tensorflow/workspace/images/collectedimages/livelong/livelong.72b2b532-1980-11ee-a857-a8206647eb22.xml\n",
      "Image:/Users/user/Desktop/Tensorflow Object Detection/TFODCourse/Tensorflow/workspace/images/collectedimages/livelong/livelong.779d7ae6-1980-11ee-a857-a8206647eb22.jpg -> Annotation:/Users/user/Desktop/Tensorflow Object Detection/TFODCourse/Tensorflow/workspace/images/collectedimages/livelong/livelong.779d7ae6-1980-11ee-a857-a8206647eb22.xml\n",
      "Image:/Users/user/Desktop/Tensorflow Object Detection/TFODCourse/Tensorflow/workspace/images/collectedimages/livelong/livelong.76612a38-1980-11ee-a857-a8206647eb22.jpg -> Annotation:/Users/user/Desktop/Tensorflow Object Detection/TFODCourse/Tensorflow/workspace/images/collectedimages/livelong/livelong.76612a38-1980-11ee-a857-a8206647eb22.xml\n",
      "Image:/Users/user/Desktop/Tensorflow Object Detection/TFODCourse/Tensorflow/workspace/images/collectedimages/livelong/livelong.db0067ea-1982-11ee-b319-a8206647eb22.jpg -> Annotation:/Users/user/Desktop/Tensorflow Object Detection/TFODCourse/Tensorflow/workspace/images/collectedimages/livelong/livelong.db0067ea-1982-11ee-b319-a8206647eb22.xml\n",
      "Image:/Users/user/Desktop/Tensorflow Object Detection/TFODCourse/Tensorflow/workspace/images/collectedimages/livelong/livelong.dc82d3fa-1982-11ee-b319-a8206647eb22.jpg -> Annotation:/Users/user/Desktop/Tensorflow Object Detection/TFODCourse/Tensorflow/workspace/images/collectedimages/livelong/livelong.dc82d3fa-1982-11ee-b319-a8206647eb22.xml\n",
      "Image:/Users/user/Desktop/Tensorflow Object Detection/TFODCourse/Tensorflow/workspace/images/collectedimages/livelong/livelong.ddca2aec-1982-11ee-b319-a8206647eb22.jpg -> Annotation:/Users/user/Desktop/Tensorflow Object Detection/TFODCourse/Tensorflow/workspace/images/collectedimages/livelong/livelong.ddca2aec-1982-11ee-b319-a8206647eb22.xml\n",
      "Image:/Users/user/Desktop/Tensorflow Object Detection/TFODCourse/Tensorflow/workspace/images/collectedimages/livelong/livelong.e04440d2-1982-11ee-b319-a8206647eb22.jpg -> Annotation:/Users/user/Desktop/Tensorflow Object Detection/TFODCourse/Tensorflow/workspace/images/collectedimages/livelong/livelong.e04440d2-1982-11ee-b319-a8206647eb22.xml\n",
      "Cancel creation.\n",
      "Cancel creation.\n",
      "Image:/Users/user/Desktop/Tensorflow Object Detection/TFODCourse/Tensorflow/workspace/images/collectedimages/thankyou/livelong.5d43c336-197f-11ee-814a-a8206647eb22.jpg -> Annotation:/Users/user/Desktop/Tensorflow Object Detection/TFODCourse/Tensorflow/workspace/images/collectedimages/thankyou/livelong.5d43c336-197f-11ee-814a-a8206647eb22.xml\n",
      "Image:/Users/user/Desktop/Tensorflow Object Detection/TFODCourse/Tensorflow/workspace/images/collectedimages/thankyou/livelong.5e8042c4-197f-11ee-814a-a8206647eb22.jpg -> Annotation:/Users/user/Desktop/Tensorflow Object Detection/TFODCourse/Tensorflow/workspace/images/collectedimages/thankyou/livelong.5e8042c4-197f-11ee-814a-a8206647eb22.xml\n",
      "Image:/Users/user/Desktop/Tensorflow Object Detection/TFODCourse/Tensorflow/workspace/images/collectedimages/thankyou/livelong.5fbd623e-197f-11ee-814a-a8206647eb22.jpg -> Annotation:/Users/user/Desktop/Tensorflow Object Detection/TFODCourse/Tensorflow/workspace/images/collectedimages/thankyou/livelong.5fbd623e-197f-11ee-814a-a8206647eb22.xml\n",
      "Cancel creation.\n",
      "Cancel creation.\n",
      "Image:/Users/user/Desktop/Tensorflow Object Detection/TFODCourse/Tensorflow/workspace/images/collectedimages/thankyou/thankyou.6ac6d222-1980-11ee-a857-a8206647eb22.jpg -> Annotation:/Users/user/Desktop/Tensorflow Object Detection/TFODCourse/Tensorflow/workspace/images/collectedimages/thankyou/thankyou.6ac6d222-1980-11ee-a857-a8206647eb22.xml\n",
      "Image:/Users/user/Desktop/Tensorflow Object Detection/TFODCourse/Tensorflow/workspace/images/collectedimages/thankyou/thankyou.6c039774-1980-11ee-a857-a8206647eb22.jpg -> Annotation:/Users/user/Desktop/Tensorflow Object Detection/TFODCourse/Tensorflow/workspace/images/collectedimages/thankyou/thankyou.6c039774-1980-11ee-a857-a8206647eb22.xml\n",
      "Image:/Users/user/Desktop/Tensorflow Object Detection/TFODCourse/Tensorflow/workspace/images/collectedimages/thankyou/thankyou.698d6e20-1980-11ee-a857-a8206647eb22.jpg -> Annotation:/Users/user/Desktop/Tensorflow Object Detection/TFODCourse/Tensorflow/workspace/images/collectedimages/thankyou/thankyou.698d6e20-1980-11ee-a857-a8206647eb22.xml\n",
      "Image:/Users/user/Desktop/Tensorflow Object Detection/TFODCourse/Tensorflow/workspace/images/collectedimages/thumbsdown/thumbsdown.61a0fe70-1980-11ee-a857-a8206647eb22.jpg -> Annotation:/Users/user/Desktop/Tensorflow Object Detection/TFODCourse/Tensorflow/workspace/images/collectedimages/thumbsdown/thumbsdown.61a0fe70-1980-11ee-a857-a8206647eb22.xml\n",
      "Image:/Users/user/Desktop/Tensorflow Object Detection/TFODCourse/Tensorflow/workspace/images/collectedimages/thumbsdown/thankyou.5161adf8-197f-11ee-814a-a8206647eb22.jpg -> Annotation:/Users/user/Desktop/Tensorflow Object Detection/TFODCourse/Tensorflow/workspace/images/collectedimages/thumbsdown/thankyou.5161adf8-197f-11ee-814a-a8206647eb22.xml\n",
      "Image:/Users/user/Desktop/Tensorflow Object Detection/TFODCourse/Tensorflow/workspace/images/collectedimages/thumbsdown/thumbsdown.62de8fdc-1980-11ee-a857-a8206647eb22.jpg -> Annotation:/Users/user/Desktop/Tensorflow Object Detection/TFODCourse/Tensorflow/workspace/images/collectedimages/thumbsdown/thumbsdown.62de8fdc-1980-11ee-a857-a8206647eb22.xml\n",
      "Image:/Users/user/Desktop/Tensorflow Object Detection/TFODCourse/Tensorflow/workspace/images/collectedimages/thumbsdown/thumbsdown.605e8b18-1980-11ee-a857-a8206647eb22.jpg -> Annotation:/Users/user/Desktop/Tensorflow Object Detection/TFODCourse/Tensorflow/workspace/images/collectedimages/thumbsdown/thumbsdown.605e8b18-1980-11ee-a857-a8206647eb22.xml\n",
      "Image:/Users/user/Desktop/Tensorflow Object Detection/TFODCourse/Tensorflow/workspace/images/collectedimages/thumbsdown/thumbsdown.641a77b2-1980-11ee-a857-a8206647eb22.jpg -> Annotation:/Users/user/Desktop/Tensorflow Object Detection/TFODCourse/Tensorflow/workspace/images/collectedimages/thumbsdown/thumbsdown.641a77b2-1980-11ee-a857-a8206647eb22.xml\n",
      "Image:/Users/user/Desktop/Tensorflow Object Detection/TFODCourse/Tensorflow/workspace/images/collectedimages/thumbsup/thumbsup.5aebc948-1980-11ee-a857-a8206647eb22.jpg -> Annotation:/Users/user/Desktop/Tensorflow Object Detection/TFODCourse/Tensorflow/workspace/images/collectedimages/thumbsup/thumbsup.5aebc948-1980-11ee-a857-a8206647eb22.xml\n",
      "Image:/Users/user/Desktop/Tensorflow Object Detection/TFODCourse/Tensorflow/workspace/images/collectedimages/thumbsup/thumbsup.7a49b5ae-1983-11ee-a524-a8206647eb22.jpg -> Annotation:/Users/user/Desktop/Tensorflow Object Detection/TFODCourse/Tensorflow/workspace/images/collectedimages/thumbsup/thumbsup.7a49b5ae-1983-11ee-a524-a8206647eb22.xml\n",
      "Image:/Users/user/Desktop/Tensorflow Object Detection/TFODCourse/Tensorflow/workspace/images/collectedimages/thumbsup/thumbsup.45d589ec-1983-11ee-acbd-a8206647eb22.jpg -> Annotation:/Users/user/Desktop/Tensorflow Object Detection/TFODCourse/Tensorflow/workspace/images/collectedimages/thumbsup/thumbsup.45d589ec-1983-11ee-acbd-a8206647eb22.xml\n",
      "Image:/Users/user/Desktop/Tensorflow Object Detection/TFODCourse/Tensorflow/workspace/images/collectedimages/thumbsup/thumbsup.77d4dab0-1983-11ee-a524-a8206647eb22.jpg -> Annotation:/Users/user/Desktop/Tensorflow Object Detection/TFODCourse/Tensorflow/workspace/images/collectedimages/thumbsup/thumbsup.77d4dab0-1983-11ee-a524-a8206647eb22.xml\n",
      "Image:/Users/user/Desktop/Tensorflow Object Detection/TFODCourse/Tensorflow/workspace/images/collectedimages/thumbsup/thumbsup.498cdbf8-1983-11ee-acbd-a8206647eb22.jpg -> Annotation:/Users/user/Desktop/Tensorflow Object Detection/TFODCourse/Tensorflow/workspace/images/collectedimages/thumbsup/thumbsup.498cdbf8-1983-11ee-acbd-a8206647eb22.xml\n",
      "Image:/Users/user/Desktop/Tensorflow Object Detection/TFODCourse/Tensorflow/workspace/images/collectedimages/thumbsup/thumbsup.4854d574-1983-11ee-acbd-a8206647eb22.jpg -> Annotation:/Users/user/Desktop/Tensorflow Object Detection/TFODCourse/Tensorflow/workspace/images/collectedimages/thumbsup/thumbsup.4854d574-1983-11ee-acbd-a8206647eb22.xml\n"
     ]
    },
    {
     "name": "stdout",
     "output_type": "stream",
     "text": [
      "Image:/Users/user/Desktop/Tensorflow Object Detection/TFODCourse/Tensorflow/workspace/images/collectedimages/thumbsup/thumbsup.75374bbc-1983-11ee-a524-a8206647eb22.jpg -> Annotation:/Users/user/Desktop/Tensorflow Object Detection/TFODCourse/Tensorflow/workspace/images/collectedimages/thumbsup/thumbsup.75374bbc-1983-11ee-a524-a8206647eb22.xml\n",
      "Image:/Users/user/Desktop/Tensorflow Object Detection/TFODCourse/Tensorflow/workspace/images/collectedimages/thumbsup/thumbsup.471793a4-1983-11ee-acbd-a8206647eb22.jpg -> Annotation:/Users/user/Desktop/Tensorflow Object Detection/TFODCourse/Tensorflow/workspace/images/collectedimages/thumbsup/thumbsup.471793a4-1983-11ee-acbd-a8206647eb22.xml\n",
      "Image:/Users/user/Desktop/Tensorflow Object Detection/TFODCourse/Tensorflow/workspace/images/collectedimages/thumbsup/thumbsup.79116182-1983-11ee-a524-a8206647eb22.jpg -> Annotation:/Users/user/Desktop/Tensorflow Object Detection/TFODCourse/Tensorflow/workspace/images/collectedimages/thumbsup/thumbsup.79116182-1983-11ee-a524-a8206647eb22.xml\n"
     ]
    }
   ],
   "source": [
    "##### From ME\n",
    "# NO NEED try  qt5py3\n",
    "import os\n",
    "\n",
    "PYRCC5_PATH = \"/Users/user/Desktop/Tensorflow Object Detection/TFODCourse/tfod/bin/pyrcc5\"\n",
    "LABELIMG_PATH = \"/Users/user/Desktop/Tensorflow Object Detection/TFODCourse/Tensorflow/labelimg\"\n",
    "\n",
    "os.chdir(LABELIMG_PATH)\n",
    "\n",
    "if os.name == 'nt':\n",
    "    # Windows specific code\n",
    "    !\"{PYRCC5_PATH}\" -o libs/resources.py resources.qrc\n",
    "else:\n",
    "    # Mac specific code\n",
    "    !\"{PYRCC5_PATH}\" -o libs/resources_rc.py resources.qrc\n",
    "\n",
    "!python labelImg.py"
   ]
  },
  {
   "cell_type": "code",
   "execution_count": 19,
   "metadata": {},
   "outputs": [
    {
     "name": "stdout",
     "output_type": "stream",
     "text": [
      "Image:D:\\YouTube\\OD\\TFODCourse\\Tensorflow\\workspace\\images\\collectedimages\\thumbsup\\thumbsup.6a706a36-940f-11eb-b4eb-5cf3709bbcc6.jpg -> Annotation:D:/YouTube/OD/TFODCourse/Tensorflow/workspace/images/collectedimages/thumbsup/thumbsup.6a706a36-940f-11eb-b4eb-5cf3709bbcc6.xml\n",
      "Image:D:\\YouTube\\OD\\TFODCourse\\Tensorflow\\workspace\\images\\collectedimages\\thumbsup\\thumbsup.6ba4d864-940f-11eb-8c74-5cf3709bbcc6.jpg -> Annotation:D:/YouTube/OD/TFODCourse/Tensorflow/workspace/images/collectedimages/thumbsup/thumbsup.6ba4d864-940f-11eb-8c74-5cf3709bbcc6.xml\n",
      "Image:D:\\YouTube\\OD\\TFODCourse\\Tensorflow\\workspace\\images\\collectedimages\\thumbsup\\thumbsup.6cd9c8e2-940f-11eb-b901-5cf3709bbcc6.jpg -> Annotation:D:/YouTube/OD/TFODCourse/Tensorflow/workspace/images/collectedimages/thumbsup/thumbsup.6cd9c8e2-940f-11eb-b901-5cf3709bbcc6.xml\n",
      "Image:D:\\YouTube\\OD\\TFODCourse\\Tensorflow\\workspace\\images\\collectedimages\\thumbsup\\thumbsup.6e0f5bc0-940f-11eb-8d18-5cf3709bbcc6.jpg -> Annotation:D:/YouTube/OD/TFODCourse/Tensorflow/workspace/images/collectedimages/thumbsup/thumbsup.6e0f5bc0-940f-11eb-8d18-5cf3709bbcc6.xml\n",
      "Image:D:\\YouTube\\OD\\TFODCourse\\Tensorflow\\workspace\\images\\collectedimages\\thumbsup\\thumbsup.693a5158-940f-11eb-8752-5cf3709bbcc6.jpg -> Annotation:D:/YouTube/OD/TFODCourse/Tensorflow/workspace/images/collectedimages/thumbsup/thumbsup.693a5158-940f-11eb-8752-5cf3709bbcc6.xml\n"
     ]
    }
   ],
   "source": [
    "# NO NEED try Code below\n",
    "#!cd {LABELIMG_PATH} && python labelImg.py"
   ]
  },
  {
   "cell_type": "markdown",
   "metadata": {},
   "source": [
    "# 6. Move them into a Training and Testing Partition"
   ]
  },
  {
   "cell_type": "markdown",
   "metadata": {},
   "source": [
    "# OPTIONAL - 7. Compress them for Colab Training"
   ]
  },
  {
   "cell_type": "code",
   "execution_count": 20,
   "metadata": {},
   "outputs": [],
   "source": [
    "TRAIN_PATH = os.path.join('Tensorflow', 'workspace', 'images', 'train')\n",
    "TEST_PATH = os.path.join('Tensorflow', 'workspace', 'images', 'test')\n",
    "ARCHIVE_PATH = os.path.join('Tensorflow', 'workspace', 'images', 'archive.tar.gz')"
   ]
  },
  {
   "cell_type": "code",
   "execution_count": 21,
   "metadata": {},
   "outputs": [],
   "source": [
    "!tar -czf {ARCHIVE_PATH} {TRAIN_PATH} {TEST_PATH}"
   ]
  },
  {
   "cell_type": "code",
   "execution_count": null,
   "metadata": {},
   "outputs": [],
   "source": []
  }
 ],
 "metadata": {
  "kernelspec": {
   "display_name": "tfod",
   "language": "python",
   "name": "tfod"
  },
  "language_info": {
   "codemirror_mode": {
    "name": "ipython",
    "version": 3
   },
   "file_extension": ".py",
   "mimetype": "text/x-python",
   "name": "python",
   "nbconvert_exporter": "python",
   "pygments_lexer": "ipython3",
   "version": "3.8.2"
  }
 },
 "nbformat": 4,
 "nbformat_minor": 2
}
