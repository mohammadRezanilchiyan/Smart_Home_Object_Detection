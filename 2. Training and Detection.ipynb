{
 "cells": [
  {
   "cell_type": "markdown",
   "metadata": {
    "id": "QUANWN3rpfC9"
   },
   "source": [
    "# 0. Setup Paths"
   ]
  },
  {
   "cell_type": "code",
   "execution_count": 1,
   "metadata": {
    "id": "146BB11JpfDA"
   },
   "outputs": [],
   "source": [
    "import os"
   ]
  },
  {
   "cell_type": "code",
   "execution_count": 2,
   "metadata": {
    "id": "42hJEdo_pfDB"
   },
   "outputs": [],
   "source": [
    "CUSTOM_MODEL_NAME = 'my_ssd_mobnet' \n",
    "# Use different Model give the Accuraccy(mAP)(Under COCO standard) & Speed(ms)\n",
    "PRETRAINED_MODEL_NAME = 'ssd_mobilenet_v2_fpnlite_320x320_coco17_tpu-8'\n",
    "PRETRAINED_MODEL_URL = 'http://download.tensorflow.org/models/object_detection/tf2/20200711/ssd_mobilenet_v2_fpnlite_320x320_coco17_tpu-8.tar.gz'\n",
    "TF_RECORD_SCRIPT_NAME = 'generate_tfrecord.py'\n",
    "LABEL_MAP_NAME = 'label_map.pbtxt'"
   ]
  },
  {
   "cell_type": "code",
   "execution_count": 3,
   "metadata": {
    "id": "hbPhYVy_pfDB"
   },
   "outputs": [],
   "source": [
    "paths = {\n",
    "    'WORKSPACE_PATH': os.path.join('Tensorflow', 'workspace'),\n",
    "    'SCRIPTS_PATH': os.path.join('Tensorflow','scripts'),\n",
    "    'APIMODEL_PATH': os.path.join('Tensorflow','models'),\n",
    "    'ANNOTATION_PATH': os.path.join('Tensorflow', 'workspace','annotations'),\n",
    "    'IMAGE_PATH': os.path.join('Tensorflow', 'workspace','images'),\n",
    "    'MODEL_PATH': os.path.join('Tensorflow', 'workspace','models'),\n",
    "    'PRETRAINED_MODEL_PATH': os.path.join('Tensorflow', 'workspace','pre-trained-models'),\n",
    "    'CHECKPOINT_PATH': os.path.join('Tensorflow', 'workspace','models',CUSTOM_MODEL_NAME), \n",
    "    'OUTPUT_PATH': os.path.join('Tensorflow', 'workspace','models',CUSTOM_MODEL_NAME, 'export'), \n",
    "    'TFJS_PATH':os.path.join('Tensorflow', 'workspace','models',CUSTOM_MODEL_NAME, 'tfjsexport'), \n",
    "    'TFLITE_PATH':os.path.join('Tensorflow', 'workspace','models',CUSTOM_MODEL_NAME, 'tfliteexport'), \n",
    "    'PROTOC_PATH':os.path.join('Tensorflow','protoc')\n",
    " }"
   ]
  },
  {
   "cell_type": "code",
   "execution_count": 4,
   "metadata": {
    "id": "LwhWZMI0pfDC"
   },
   "outputs": [],
   "source": [
    "files = {\n",
    "    'PIPELINE_CONFIG':os.path.join('Tensorflow', 'workspace','models', CUSTOM_MODEL_NAME, 'pipeline.config'),\n",
    "    'TF_RECORD_SCRIPT': os.path.join(paths['SCRIPTS_PATH'], TF_RECORD_SCRIPT_NAME), \n",
    "    'LABELMAP': os.path.join(paths['ANNOTATION_PATH'], LABEL_MAP_NAME)\n",
    "}"
   ]
  },
  {
   "cell_type": "code",
   "execution_count": 5,
   "metadata": {
    "id": "HR-TfDGrpfDC"
   },
   "outputs": [],
   "source": [
    "for path in paths.values(): #.values() method will return a view object containing all the values of the dictionary.\n",
    "    if not os.path.exists(path):\n",
    "        if os.name == 'posix':\n",
    "            !mkdir -p {path}\n",
    "        if os.name == 'nt':\n",
    "            !mkdir {path}"
   ]
  },
  {
   "cell_type": "markdown",
   "metadata": {},
   "source": [
    "Model for Training, considering <b> Detection</b> & <b> Accuracy </b>\n",
    "\n",
    "In case, for saving time and computational resources we need to trained on trusted available database. TensorFlow Zoo,from TensorFlow Zoo you get pre-trained machine learning models, including deep learning models for various tasks such as image classification, object detection, natural language processing, and more. These models have been trained on large datasets and can be used directly or fine-tuned for specific tasks."
   ]
  },
  {
   "cell_type": "code",
   "execution_count": 6,
   "metadata": {},
   "outputs": [
    {
     "data": {
      "text/plain": [
       "{'WORKSPACE_PATH': 'Tensorflow/workspace',\n",
       " 'SCRIPTS_PATH': 'Tensorflow/scripts',\n",
       " 'APIMODEL_PATH': 'Tensorflow/models',\n",
       " 'ANNOTATION_PATH': 'Tensorflow/workspace/annotations',\n",
       " 'IMAGE_PATH': 'Tensorflow/workspace/images',\n",
       " 'MODEL_PATH': 'Tensorflow/workspace/models',\n",
       " 'PRETRAINED_MODEL_PATH': 'Tensorflow/workspace/pre-trained-models',\n",
       " 'CHECKPOINT_PATH': 'Tensorflow/workspace/models/my_ssd_mobnet',\n",
       " 'OUTPUT_PATH': 'Tensorflow/workspace/models/my_ssd_mobnet/export',\n",
       " 'TFJS_PATH': 'Tensorflow/workspace/models/my_ssd_mobnet/tfjsexport',\n",
       " 'TFLITE_PATH': 'Tensorflow/workspace/models/my_ssd_mobnet/tfliteexport',\n",
       " 'PROTOC_PATH': 'Tensorflow/protoc'}"
      ]
     },
     "execution_count": 6,
     "metadata": {},
     "output_type": "execute_result"
    }
   ],
   "source": [
    "paths"
   ]
  },
  {
   "cell_type": "markdown",
   "metadata": {
    "id": "OLU-rs_ipfDE"
   },
   "source": [
    "# 1. Download TF Models Pretrained Models from Tensorflow Model Zoo and Install TFOD"
   ]
  },
  {
   "cell_type": "code",
   "execution_count": 7,
   "metadata": {},
   "outputs": [],
   "source": [
    "#https://github.com/tensorflow/models/blob/master/research/object_detection/g3doc/tf2_detection_zoo.md\n",
    "# include Models with cocomAP(mean average precision & Spped(ms)"
   ]
  },
  {
   "cell_type": "code",
   "execution_count": 8,
   "metadata": {
    "id": "K-Cmz2edpfDE",
    "scrolled": true
   },
   "outputs": [],
   "source": [
    "# install the wget library if the operating system is Windows\n",
    "if os.name=='nt':\n",
    "    !pip install wget\n",
    "    import wget\n",
    "    \n",
    "    "
   ]
  },
  {
   "cell_type": "code",
   "execution_count": 9,
   "metadata": {},
   "outputs": [
    {
     "name": "stdout",
     "output_type": "stream",
     "text": [
      "Requirement already satisfied: wget in ./tfod/lib/python3.8/site-packages (3.2)\r\n"
     ]
    }
   ],
   "source": [
    "# Pull down the model from TF Model Zoo\n",
    "!pip install wget # which allows you to download files from the web using a simple interface.\n"
   ]
  },
  {
   "cell_type": "code",
   "execution_count": 10,
   "metadata": {
    "id": "iA1DIq5OpfDE"
   },
   "outputs": [],
   "source": [
    "if not os.path.exists(os.path.join(paths['APIMODEL_PATH'], 'research', 'object_detection')):\n",
    "    !git clone https://github.com/tensorflow/models {paths['APIMODEL_PATH']}"
   ]
  },
  {
   "cell_type": "markdown",
   "metadata": {},
   "source": [
    "<b>Please aware, training on most Cloud provider is okay , but mostly we won't be able to run real-time detection. we need to export and run it locally in machine.</b>"
   ]
  },
  {
   "cell_type": "code",
   "execution_count": 11,
   "metadata": {},
   "outputs": [
    {
     "name": "stdout",
     "output_type": "stream",
     "text": [
      "Collecting protobuf-compiler\n",
      "  Using cached protobuf_compiler-1.0.20-py3-none-any.whl (8.6 kB)\n",
      "Collecting grpcio==1.18.0 (from protobuf-compiler)\n",
      "  Using cached grpcio-1.18.0.tar.gz (14.6 MB)\n",
      "  Preparing metadata (setup.py) ... \u001b[?25ldone\n",
      "\u001b[?25hCollecting grpcio-tools==1.18.0 (from protobuf-compiler)\n",
      "  Using cached grpcio-tools-1.18.0.tar.gz (1.9 MB)\n",
      "  Preparing metadata (setup.py) ... \u001b[?25ldone\n",
      "\u001b[?25hCollecting colorama==0.3.3 (from protobuf-compiler)\n",
      "  Using cached colorama-0.3.3-py3-none-any.whl\n",
      "Collecting termcolor==1.1.0 (from protobuf-compiler)\n",
      "  Using cached termcolor-1.1.0-py3-none-any.whl\n",
      "Collecting tqdm==4.31.1 (from protobuf-compiler)\n",
      "  Using cached tqdm-4.31.1-py2.py3-none-any.whl (48 kB)\n",
      "Collecting bleach==2.1.0 (from protobuf-compiler)\n",
      "  Using cached bleach-2.1-py2.py3-none-any.whl (27 kB)\n",
      "Collecting html5lib!=1.0b1,!=1.0b2,!=1.0b3,!=1.0b4,!=1.0b5,!=1.0b6,!=1.0b7,!=1.0b8,>=0.99999999pre (from bleach==2.1.0->protobuf-compiler)\n",
      "  Using cached html5lib-1.1-py2.py3-none-any.whl (112 kB)\n",
      "Requirement already satisfied: six in ./tfod/lib/python3.8/site-packages (from bleach==2.1.0->protobuf-compiler) (1.16.0)\n",
      "Requirement already satisfied: protobuf>=3.5.0.post1 in ./tfod/lib/python3.8/site-packages (from grpcio-tools==1.18.0->protobuf-compiler) (4.23.4)\n",
      "Requirement already satisfied: webencodings in ./tfod/lib/python3.8/site-packages (from html5lib!=1.0b1,!=1.0b2,!=1.0b3,!=1.0b4,!=1.0b5,!=1.0b6,!=1.0b7,!=1.0b8,>=0.99999999pre->bleach==2.1.0->protobuf-compiler) (0.5.1)\n",
      "Building wheels for collected packages: grpcio, grpcio-tools\n",
      "  Building wheel for grpcio (setup.py) ... \u001b[?25lerror\n",
      "  \u001b[1;31merror\u001b[0m: \u001b[1msubprocess-exited-with-error\u001b[0m\n",
      "  \n",
      "  \u001b[31m×\u001b[0m \u001b[32mpython setup.py bdist_wheel\u001b[0m did not run successfully.\n",
      "  \u001b[31m│\u001b[0m exit code: \u001b[1;36m1\u001b[0m\n",
      "  \u001b[31m╰─>\u001b[0m \u001b[31m[383 lines of output]\u001b[0m\n",
      "  \u001b[31m   \u001b[0m /private/var/folders/kt/zc_rczks5lgdbp_gfb_32tk80000gn/T/pip-install-y4o08f2q/grpcio_73c677fc9cdd44508a54353329bde900/setup.py:21: DeprecationWarning: pkg_resources is deprecated as an API. See https://setuptools.pypa.io/en/latest/pkg_resources.html\n",
      "  \u001b[31m   \u001b[0m   import pkg_resources\n",
      "  \u001b[31m   \u001b[0m Found cython-generated files...\n",
      "  \u001b[31m   \u001b[0m running bdist_wheel\n",
      "  \u001b[31m   \u001b[0m running build\n",
      "  \u001b[31m   \u001b[0m running build_py\n",
      "  \u001b[31m   \u001b[0m running build_project_metadata\n",
      "  \u001b[31m   \u001b[0m creating python_build\n",
      "  \u001b[31m   \u001b[0m creating python_build/lib.macosx-10.14.6-x86_64-cpython-38\n",
      "  \u001b[31m   \u001b[0m creating python_build/lib.macosx-10.14.6-x86_64-cpython-38/grpc\n",
      "  \u001b[31m   \u001b[0m copying src/python/grpcio/grpc/_channel.py -> python_build/lib.macosx-10.14.6-x86_64-cpython-38/grpc\n",
      "  \u001b[31m   \u001b[0m copying src/python/grpcio/grpc/_common.py -> python_build/lib.macosx-10.14.6-x86_64-cpython-38/grpc\n",
      "  \u001b[31m   \u001b[0m copying src/python/grpcio/grpc/__init__.py -> python_build/lib.macosx-10.14.6-x86_64-cpython-38/grpc\n",
      "  \u001b[31m   \u001b[0m copying src/python/grpcio/grpc/_utilities.py -> python_build/lib.macosx-10.14.6-x86_64-cpython-38/grpc\n",
      "  \u001b[31m   \u001b[0m copying src/python/grpcio/grpc/_plugin_wrapping.py -> python_build/lib.macosx-10.14.6-x86_64-cpython-38/grpc\n",
      "  \u001b[31m   \u001b[0m copying src/python/grpcio/grpc/_interceptor.py -> python_build/lib.macosx-10.14.6-x86_64-cpython-38/grpc\n",
      "  \u001b[31m   \u001b[0m copying src/python/grpcio/grpc/_grpcio_metadata.py -> python_build/lib.macosx-10.14.6-x86_64-cpython-38/grpc\n",
      "  \u001b[31m   \u001b[0m copying src/python/grpcio/grpc/_server.py -> python_build/lib.macosx-10.14.6-x86_64-cpython-38/grpc\n",
      "  \u001b[31m   \u001b[0m copying src/python/grpcio/grpc/_auth.py -> python_build/lib.macosx-10.14.6-x86_64-cpython-38/grpc\n",
      "  \u001b[31m   \u001b[0m creating python_build/lib.macosx-10.14.6-x86_64-cpython-38/grpc/beta\n",
      "  \u001b[31m   \u001b[0m copying src/python/grpcio/grpc/beta/_server_adaptations.py -> python_build/lib.macosx-10.14.6-x86_64-cpython-38/grpc/beta\n",
      "  \u001b[31m   \u001b[0m copying src/python/grpcio/grpc/beta/interfaces.py -> python_build/lib.macosx-10.14.6-x86_64-cpython-38/grpc/beta\n",
      "  \u001b[31m   \u001b[0m copying src/python/grpcio/grpc/beta/_metadata.py -> python_build/lib.macosx-10.14.6-x86_64-cpython-38/grpc/beta\n",
      "  \u001b[31m   \u001b[0m copying src/python/grpcio/grpc/beta/__init__.py -> python_build/lib.macosx-10.14.6-x86_64-cpython-38/grpc/beta\n",
      "  \u001b[31m   \u001b[0m copying src/python/grpcio/grpc/beta/utilities.py -> python_build/lib.macosx-10.14.6-x86_64-cpython-38/grpc/beta\n",
      "  \u001b[31m   \u001b[0m copying src/python/grpcio/grpc/beta/implementations.py -> python_build/lib.macosx-10.14.6-x86_64-cpython-38/grpc/beta\n",
      "  \u001b[31m   \u001b[0m copying src/python/grpcio/grpc/beta/_client_adaptations.py -> python_build/lib.macosx-10.14.6-x86_64-cpython-38/grpc/beta\n",
      "  \u001b[31m   \u001b[0m creating python_build/lib.macosx-10.14.6-x86_64-cpython-38/grpc/experimental\n",
      "  \u001b[31m   \u001b[0m copying src/python/grpcio/grpc/experimental/gevent.py -> python_build/lib.macosx-10.14.6-x86_64-cpython-38/grpc/experimental\n",
      "  \u001b[31m   \u001b[0m copying src/python/grpcio/grpc/experimental/__init__.py -> python_build/lib.macosx-10.14.6-x86_64-cpython-38/grpc/experimental\n",
      "  \u001b[31m   \u001b[0m copying src/python/grpcio/grpc/experimental/session_cache.py -> python_build/lib.macosx-10.14.6-x86_64-cpython-38/grpc/experimental\n",
      "  \u001b[31m   \u001b[0m creating python_build/lib.macosx-10.14.6-x86_64-cpython-38/grpc/framework\n",
      "  \u001b[31m   \u001b[0m copying src/python/grpcio/grpc/framework/__init__.py -> python_build/lib.macosx-10.14.6-x86_64-cpython-38/grpc/framework\n",
      "  \u001b[31m   \u001b[0m creating python_build/lib.macosx-10.14.6-x86_64-cpython-38/grpc/_cython\n",
      "  \u001b[31m   \u001b[0m copying src/python/grpcio/grpc/_cython/__init__.py -> python_build/lib.macosx-10.14.6-x86_64-cpython-38/grpc/_cython\n",
      "  \u001b[31m   \u001b[0m creating python_build/lib.macosx-10.14.6-x86_64-cpython-38/grpc/framework/foundation\n",
      "  \u001b[31m   \u001b[0m copying src/python/grpcio/grpc/framework/foundation/callable_util.py -> python_build/lib.macosx-10.14.6-x86_64-cpython-38/grpc/framework/foundation\n",
      "  \u001b[31m   \u001b[0m copying src/python/grpcio/grpc/framework/foundation/abandonment.py -> python_build/lib.macosx-10.14.6-x86_64-cpython-38/grpc/framework/foundation\n",
      "  \u001b[31m   \u001b[0m copying src/python/grpcio/grpc/framework/foundation/__init__.py -> python_build/lib.macosx-10.14.6-x86_64-cpython-38/grpc/framework/foundation\n",
      "  \u001b[31m   \u001b[0m copying src/python/grpcio/grpc/framework/foundation/stream.py -> python_build/lib.macosx-10.14.6-x86_64-cpython-38/grpc/framework/foundation\n",
      "  \u001b[31m   \u001b[0m copying src/python/grpcio/grpc/framework/foundation/stream_util.py -> python_build/lib.macosx-10.14.6-x86_64-cpython-38/grpc/framework/foundation\n",
      "  \u001b[31m   \u001b[0m copying src/python/grpcio/grpc/framework/foundation/future.py -> python_build/lib.macosx-10.14.6-x86_64-cpython-38/grpc/framework/foundation\n",
      "  \u001b[31m   \u001b[0m copying src/python/grpcio/grpc/framework/foundation/logging_pool.py -> python_build/lib.macosx-10.14.6-x86_64-cpython-38/grpc/framework/foundation\n",
      "  \u001b[31m   \u001b[0m creating python_build/lib.macosx-10.14.6-x86_64-cpython-38/grpc/framework/common\n",
      "  \u001b[31m   \u001b[0m copying src/python/grpcio/grpc/framework/common/style.py -> python_build/lib.macosx-10.14.6-x86_64-cpython-38/grpc/framework/common\n",
      "  \u001b[31m   \u001b[0m copying src/python/grpcio/grpc/framework/common/cardinality.py -> python_build/lib.macosx-10.14.6-x86_64-cpython-38/grpc/framework/common\n",
      "  \u001b[31m   \u001b[0m copying src/python/grpcio/grpc/framework/common/__init__.py -> python_build/lib.macosx-10.14.6-x86_64-cpython-38/grpc/framework/common\n",
      "  \u001b[31m   \u001b[0m creating python_build/lib.macosx-10.14.6-x86_64-cpython-38/grpc/framework/interfaces\n",
      "  \u001b[31m   \u001b[0m copying src/python/grpcio/grpc/framework/interfaces/__init__.py -> python_build/lib.macosx-10.14.6-x86_64-cpython-38/grpc/framework/interfaces\n",
      "  \u001b[31m   \u001b[0m creating python_build/lib.macosx-10.14.6-x86_64-cpython-38/grpc/framework/interfaces/face\n",
      "  \u001b[31m   \u001b[0m copying src/python/grpcio/grpc/framework/interfaces/face/__init__.py -> python_build/lib.macosx-10.14.6-x86_64-cpython-38/grpc/framework/interfaces/face\n",
      "  \u001b[31m   \u001b[0m copying src/python/grpcio/grpc/framework/interfaces/face/utilities.py -> python_build/lib.macosx-10.14.6-x86_64-cpython-38/grpc/framework/interfaces/face\n",
      "  \u001b[31m   \u001b[0m copying src/python/grpcio/grpc/framework/interfaces/face/face.py -> python_build/lib.macosx-10.14.6-x86_64-cpython-38/grpc/framework/interfaces/face\n",
      "  \u001b[31m   \u001b[0m creating python_build/lib.macosx-10.14.6-x86_64-cpython-38/grpc/framework/interfaces/base\n",
      "  \u001b[31m   \u001b[0m copying src/python/grpcio/grpc/framework/interfaces/base/__init__.py -> python_build/lib.macosx-10.14.6-x86_64-cpython-38/grpc/framework/interfaces/base\n",
      "  \u001b[31m   \u001b[0m copying src/python/grpcio/grpc/framework/interfaces/base/utilities.py -> python_build/lib.macosx-10.14.6-x86_64-cpython-38/grpc/framework/interfaces/base\n",
      "  \u001b[31m   \u001b[0m copying src/python/grpcio/grpc/framework/interfaces/base/base.py -> python_build/lib.macosx-10.14.6-x86_64-cpython-38/grpc/framework/interfaces/base\n",
      "  \u001b[31m   \u001b[0m creating python_build/lib.macosx-10.14.6-x86_64-cpython-38/grpc/_cython/_cygrpc\n",
      "  \u001b[31m   \u001b[0m copying src/python/grpcio/grpc/_cython/_cygrpc/__init__.py -> python_build/lib.macosx-10.14.6-x86_64-cpython-38/grpc/_cython/_cygrpc\n",
      "  \u001b[31m   \u001b[0m creating python_build/lib.macosx-10.14.6-x86_64-cpython-38/grpc/_cython/_credentials\n",
      "  \u001b[31m   \u001b[0m copying src/python/grpcio/grpc/_cython/_credentials/roots.pem -> python_build/lib.macosx-10.14.6-x86_64-cpython-38/grpc/_cython/_credentials\n",
      "  \u001b[31m   \u001b[0m running build_ext\n",
      "  \u001b[31m   \u001b[0m Found cython-generated files...\n",
      "  \u001b[31m   \u001b[0m building 'grpc._cython.cygrpc' extension\n",
      "  \u001b[31m   \u001b[0m creating python_build/temp.macosx-10.14.6-x86_64-cpython-38\n",
      "  \u001b[31m   \u001b[0m creating python_build/temp.macosx-10.14.6-x86_64-cpython-38/src\n",
      "  \u001b[31m   \u001b[0m creating python_build/temp.macosx-10.14.6-x86_64-cpython-38/src/python\n",
      "  \u001b[31m   \u001b[0m creating python_build/temp.macosx-10.14.6-x86_64-cpython-38/src/python/grpcio\n",
      "  \u001b[31m   \u001b[0m creating python_build/temp.macosx-10.14.6-x86_64-cpython-38/src/python/grpcio/grpc\n",
      "  \u001b[31m   \u001b[0m creating python_build/temp.macosx-10.14.6-x86_64-cpython-38/src/python/grpcio/grpc/_cython\n",
      "  \u001b[31m   \u001b[0m clang -Wno-unused-result -Wsign-compare -Wunreachable-code -fno-common -dynamic -DNDEBUG -g -fwrapv -O3 -Wall -iwithsysroot/System/Library/Frameworks/System.framework/PrivateHeaders -iwithsysroot/Applications/Xcode.app/Contents/Developer/Library/Frameworks/Python3.framework/Versions/3.8/Headers -arch arm64 -arch x86_64 -DOPENSSL_NO_ASM=1 -D_WIN32_WINNT=1536 -DGPR_BACKWARDS_COMPATIBILITY_MODE=1 -DHAVE_CONFIG_H=1 -DGRPC_ENABLE_FORK_SUPPORT=1 \"-DPyMODINIT_FUNC=extern \\\"C\\\" __attribute__((visibility (\\\"default\\\"))) PyObject*\" -DGRPC_POSIX_FORK_ALLOW_PTHREAD_ATFORK=1 -Isrc/python/grpcio -Iinclude -I. -Ithird_party/boringssl/include -Ithird_party/zlib -Ithird_party/nanopb -Ithird_party/cares -Ithird_party/cares/cares -Ithird_party/cares/config_darwin -Ithird_party/address_sorting/include \"-I/Users/user/Desktop/Tensorflow Object Detection/TFODCourse/tfod/include\" -I/Library/Developer/CommandLineTools/Library/Frameworks/Python3.framework/Versions/3.8/include/python3.8 -c src/python/grpcio/grpc/_cython/cygrpc.cpp -o python_build/temp.macosx-10.14.6-x86_64-cpython-38/src/python/grpcio/grpc/_cython/cygrpc.o -std=c++11 -fvisibility=hidden -fno-wrapv -fno-exceptions -DPB_FIELD_32BIT -pthread\n",
      "  \u001b[31m   \u001b[0m In file included from src/python/grpcio/grpc/_cython/cygrpc.cpp:782:\n",
      "  \u001b[31m   \u001b[0m In file included from /Library/Developer/CommandLineTools/Library/Frameworks/Python3.framework/Versions/3.8/include/python3.8/Python.h:11:\n",
      "  \u001b[31m   \u001b[0m In file included from /Library/Developer/CommandLineTools/usr/bin/../include/c++/v1/limits.h:57:\n",
      "  \u001b[31m   \u001b[0m In file included from /Library/Developer/CommandLineTools/usr/lib/clang/12.0.0/include/limits.h:21:\n",
      "  \u001b[31m   \u001b[0m In file included from /Library/Developer/CommandLineTools/SDKs/MacOSX10.15.sdk/usr/include/limits.h:63:\n",
      "  \u001b[31m   \u001b[0m /Library/Developer/CommandLineTools/SDKs/MacOSX10.15.sdk/usr/include/sys/cdefs.h:807:2: error: Unsupported architecture\n",
      "  \u001b[31m   \u001b[0m #error Unsupported architecture\n",
      "  \u001b[31m   \u001b[0m  ^\n",
      "  \u001b[31m   \u001b[0m In file included from src/python/grpcio/grpc/_cython/cygrpc.cpp:782:\n",
      "  \u001b[31m   \u001b[0m In file included from /Library/Developer/CommandLineTools/Library/Frameworks/Python3.framework/Versions/3.8/include/python3.8/Python.h:11:\n",
      "  \u001b[31m   \u001b[0m In file included from /Library/Developer/CommandLineTools/usr/bin/../include/c++/v1/limits.h:57:\n",
      "  \u001b[31m   \u001b[0m In file included from /Library/Developer/CommandLineTools/usr/lib/clang/12.0.0/include/limits.h:21:\n",
      "  \u001b[31m   \u001b[0m In file included from /Library/Developer/CommandLineTools/SDKs/MacOSX10.15.sdk/usr/include/limits.h:64:\n",
      "  \u001b[31m   \u001b[0m /Library/Developer/CommandLineTools/SDKs/MacOSX10.15.sdk/usr/include/machine/limits.h:8:2: error: architecture not supported\n",
      "  \u001b[31m   \u001b[0m #error architecture not supported\n",
      "  \u001b[31m   \u001b[0m  ^\n",
      "  \u001b[31m   \u001b[0m In file included from src/python/grpcio/grpc/_cython/cygrpc.cpp:782:\n",
      "  \u001b[31m   \u001b[0m In file included from /Library/Developer/CommandLineTools/Library/Frameworks/Python3.framework/Versions/3.8/include/python3.8/Python.h:25:\n",
      "  \u001b[31m   \u001b[0m In file included from /Library/Developer/CommandLineTools/usr/bin/../include/c++/v1/stdio.h:107:\n",
      "  \u001b[31m   \u001b[0m In file included from /Library/Developer/CommandLineTools/SDKs/MacOSX10.15.sdk/usr/include/stdio.h:64:\n",
      "  \u001b[31m   \u001b[0m In file included from /Library/Developer/CommandLineTools/SDKs/MacOSX10.15.sdk/usr/include/_stdio.h:71:\n",
      "  \u001b[31m   \u001b[0m In file included from /Library/Developer/CommandLineTools/SDKs/MacOSX10.15.sdk/usr/include/_types.h:27:\n",
      "  \u001b[31m   \u001b[0m In file included from /Library/Developer/CommandLineTools/SDKs/MacOSX10.15.sdk/usr/include/sys/_types.h:33:\n",
      "  \u001b[31m   \u001b[0m /Library/Developer/CommandLineTools/SDKs/MacOSX10.15.sdk/usr/include/machine/_types.h:34:2: error: architecture not supported\n",
      "  \u001b[31m   \u001b[0m #error architecture not supported\n",
      "  \u001b[31m   \u001b[0m  ^\n",
      "  \u001b[31m   \u001b[0m In file included from src/python/grpcio/grpc/_cython/cygrpc.cpp:782:\n",
      "  \u001b[31m   \u001b[0m In file included from /Library/Developer/CommandLineTools/Library/Frameworks/Python3.framework/Versions/3.8/include/python3.8/Python.h:25:\n",
      "  \u001b[31m   \u001b[0m In file included from /Library/Developer/CommandLineTools/usr/bin/../include/c++/v1/stdio.h:107:\n",
      "  \u001b[31m   \u001b[0m In file included from /Library/Developer/CommandLineTools/SDKs/MacOSX10.15.sdk/usr/include/stdio.h:64:\n",
      "  \u001b[31m   \u001b[0m In file included from /Library/Developer/CommandLineTools/SDKs/MacOSX10.15.sdk/usr/include/_stdio.h:71:\n",
      "  \u001b[31m   \u001b[0m In file included from /Library/Developer/CommandLineTools/SDKs/MacOSX10.15.sdk/usr/include/_types.h:27:\n",
      "  \u001b[31m   \u001b[0m /Library/Developer/CommandLineTools/SDKs/MacOSX10.15.sdk/usr/include/sys/_types.h:55:9: error: unknown type name '__int64_t'\n",
      "  \u001b[31m   \u001b[0m typedef __int64_t       __darwin_blkcnt_t;      /* total blocks */\n",
      "  \u001b[31m   \u001b[0m         ^\n",
      "  \u001b[31m   \u001b[0m /Library/Developer/CommandLineTools/SDKs/MacOSX10.15.sdk/usr/include/sys/_types.h:56:9: error: unknown type name '__int32_t'; did you mean '__int128_t'?\n",
      "  \u001b[31m   \u001b[0m typedef __int32_t       __darwin_blksize_t;     /* preferred block size */\n",
      "  \u001b[31m   \u001b[0m         ^\n",
      "  \u001b[31m   \u001b[0m note: '__int128_t' declared here\n",
      "  \u001b[31m   \u001b[0m /Library/Developer/CommandLineTools/SDKs/MacOSX10.15.sdk/usr/include/sys/_types.h:57:9: error: unknown type name '__int32_t'; did you mean '__int128_t'?\n",
      "  \u001b[31m   \u001b[0m typedef __int32_t       __darwin_dev_t;         /* dev_t */\n",
      "  \u001b[31m   \u001b[0m         ^\n",
      "  \u001b[31m   \u001b[0m note: '__int128_t' declared here\n",
      "  \u001b[31m   \u001b[0m /Library/Developer/CommandLineTools/SDKs/MacOSX10.15.sdk/usr/include/sys/_types.h:60:9: error: unknown type name '__uint32_t'; did you mean '__uint128_t'?\n",
      "  \u001b[31m   \u001b[0m typedef __uint32_t      __darwin_gid_t;         /* [???] process and group IDs */\n",
      "  \u001b[31m   \u001b[0m         ^\n",
      "  \u001b[31m   \u001b[0m note: '__uint128_t' declared here\n",
      "  \u001b[31m   \u001b[0m /Library/Developer/CommandLineTools/SDKs/MacOSX10.15.sdk/usr/include/sys/_types.h:61:9: error: unknown type name '__uint32_t'; did you mean '__uint128_t'?\n",
      "  \u001b[31m   \u001b[0m typedef __uint32_t      __darwin_id_t;          /* [XSI] pid_t, uid_t, or gid_t*/\n",
      "  \u001b[31m   \u001b[0m         ^\n",
      "  \u001b[31m   \u001b[0m note: '__uint128_t' declared here\n",
      "  \u001b[31m   \u001b[0m /Library/Developer/CommandLineTools/SDKs/MacOSX10.15.sdk/usr/include/sys/_types.h:62:9: error: unknown type name '__uint64_t'\n",
      "  \u001b[31m   \u001b[0m typedef __uint64_t      __darwin_ino64_t;       /* [???] Used for 64 bit inodes */\n",
      "  \u001b[31m   \u001b[0m         ^\n",
      "  \u001b[31m   \u001b[0m /Library/Developer/CommandLineTools/SDKs/MacOSX10.15.sdk/usr/include/sys/_types.h:68:9: error: unknown type name '__darwin_natural_t'\n",
      "  \u001b[31m   \u001b[0m typedef __darwin_natural_t __darwin_mach_port_name_t; /* Used by mach */\n",
      "  \u001b[31m   \u001b[0m         ^\n",
      "  \u001b[31m   \u001b[0m /Library/Developer/CommandLineTools/SDKs/MacOSX10.15.sdk/usr/include/sys/_types.h:70:9: error: unknown type name '__uint16_t'; did you mean '__uint128_t'?\n",
      "  \u001b[31m   \u001b[0m typedef __uint16_t      __darwin_mode_t;        /* [???] Some file attributes */\n",
      "  \u001b[31m   \u001b[0m         ^\n",
      "  \u001b[31m   \u001b[0m note: '__uint128_t' declared here\n",
      "  \u001b[31m   \u001b[0m /Library/Developer/CommandLineTools/SDKs/MacOSX10.15.sdk/usr/include/sys/_types.h:71:9: error: unknown type name '__int64_t'\n",
      "  \u001b[31m   \u001b[0m typedef __int64_t       __darwin_off_t;         /* [???] Used for file sizes */\n",
      "  \u001b[31m   \u001b[0m         ^\n",
      "  \u001b[31m   \u001b[0m /Library/Developer/CommandLineTools/SDKs/MacOSX10.15.sdk/usr/include/sys/_types.h:72:9: error: unknown type name '__int32_t'; did you mean '__int128_t'?\n",
      "  \u001b[31m   \u001b[0m typedef __int32_t       __darwin_pid_t;         /* [???] process and group IDs */\n",
      "  \u001b[31m   \u001b[0m         ^\n",
      "  \u001b[31m   \u001b[0m note: '__int128_t' declared here\n",
      "  \u001b[31m   \u001b[0m /Library/Developer/CommandLineTools/SDKs/MacOSX10.15.sdk/usr/include/sys/_types.h:73:9: error: unknown type name '__uint32_t'; did you mean '__uint128_t'?\n",
      "  \u001b[31m   \u001b[0m typedef __uint32_t      __darwin_sigset_t;      /* [???] signal set */\n",
      "  \u001b[31m   \u001b[0m         ^\n",
      "  \u001b[31m   \u001b[0m note: '__uint128_t' declared here\n",
      "  \u001b[31m   \u001b[0m /Library/Developer/CommandLineTools/SDKs/MacOSX10.15.sdk/usr/include/sys/_types.h:74:9: error: unknown type name '__int32_t'; did you mean '__int128_t'?\n",
      "  \u001b[31m   \u001b[0m typedef __int32_t       __darwin_suseconds_t;   /* [???] microseconds */\n",
      "  \u001b[31m   \u001b[0m         ^\n",
      "  \u001b[31m   \u001b[0m note: '__int128_t' declared here\n",
      "  \u001b[31m   \u001b[0m /Library/Developer/CommandLineTools/SDKs/MacOSX10.15.sdk/usr/include/sys/_types.h:75:9: error: unknown type name '__uint32_t'; did you mean '__uint128_t'?\n",
      "  \u001b[31m   \u001b[0m typedef __uint32_t      __darwin_uid_t;         /* [???] user IDs */\n",
      "  \u001b[31m   \u001b[0m         ^\n",
      "  \u001b[31m   \u001b[0m note: '__uint128_t' declared here\n",
      "  \u001b[31m   \u001b[0m /Library/Developer/CommandLineTools/SDKs/MacOSX10.15.sdk/usr/include/sys/_types.h:76:9: error: unknown type name '__uint32_t'; did you mean '__uint128_t'?\n",
      "  \u001b[31m   \u001b[0m typedef __uint32_t      __darwin_useconds_t;    /* [???] microseconds */\n",
      "  \u001b[31m   \u001b[0m         ^\n",
      "  \u001b[31m   \u001b[0m note: '__uint128_t' declared here\n",
      "  \u001b[31m   \u001b[0m In file included from src/python/grpcio/grpc/_cython/cygrpc.cpp:782:\n",
      "  \u001b[31m   \u001b[0m In file included from /Library/Developer/CommandLineTools/Library/Frameworks/Python3.framework/Versions/3.8/include/python3.8/Python.h:25:\n",
      "  \u001b[31m   \u001b[0m In file included from /Library/Developer/CommandLineTools/usr/bin/../include/c++/v1/stdio.h:107:\n",
      "  \u001b[31m   \u001b[0m In file included from /Library/Developer/CommandLineTools/SDKs/MacOSX10.15.sdk/usr/include/stdio.h:64:\n",
      "  \u001b[31m   \u001b[0m In file included from /Library/Developer/CommandLineTools/SDKs/MacOSX10.15.sdk/usr/include/_stdio.h:71:\n",
      "  \u001b[31m   \u001b[0m /Library/Developer/CommandLineTools/SDKs/MacOSX10.15.sdk/usr/include/_types.h:43:9: error: unknown type name '__uint32_t'; did you mean '__uint128_t'?\n",
      "  \u001b[31m   \u001b[0m typedef __uint32_t      __darwin_wctype_t;\n",
      "  \u001b[31m   \u001b[0m         ^\n",
      "  \u001b[31m   \u001b[0m note: '__uint128_t' declared here\n",
      "  \u001b[31m   \u001b[0m In file included from src/python/grpcio/grpc/_cython/cygrpc.cpp:782:\n",
      "  \u001b[31m   \u001b[0m In file included from /Library/Developer/CommandLineTools/Library/Frameworks/Python3.framework/Versions/3.8/include/python3.8/Python.h:25:\n",
      "  \u001b[31m   \u001b[0m In file included from /Library/Developer/CommandLineTools/usr/bin/../include/c++/v1/stdio.h:107:\n",
      "  \u001b[31m   \u001b[0m In file included from /Library/Developer/CommandLineTools/SDKs/MacOSX10.15.sdk/usr/include/stdio.h:64:\n",
      "  \u001b[31m   \u001b[0m In file included from /Library/Developer/CommandLineTools/SDKs/MacOSX10.15.sdk/usr/include/_stdio.h:75:\n",
      "  \u001b[31m   \u001b[0m In file included from /Library/Developer/CommandLineTools/SDKs/MacOSX10.15.sdk/usr/include/sys/_types/_va_list.h:31:\n",
      "  \u001b[31m   \u001b[0m /Library/Developer/CommandLineTools/SDKs/MacOSX10.15.sdk/usr/include/machine/types.h:37:2: error: architecture not supported\n",
      "  \u001b[31m   \u001b[0m #error architecture not supported\n",
      "  \u001b[31m   \u001b[0m  ^\n",
      "  \u001b[31m   \u001b[0m fatal error: too many errors emitted, stopping now [-ferror-limit=]\n",
      "  \u001b[31m   \u001b[0m 20 errors generated.\n",
      "  \u001b[31m   \u001b[0m creating var\n",
      "  \u001b[31m   \u001b[0m creating var/folders\n",
      "  \u001b[31m   \u001b[0m creating var/folders/kt\n",
      "  \u001b[31m   \u001b[0m creating var/folders/kt/zc_rczks5lgdbp_gfb_32tk80000gn\n",
      "  \u001b[31m   \u001b[0m creating var/folders/kt/zc_rczks5lgdbp_gfb_32tk80000gn/T\n",
      "  \u001b[31m   \u001b[0m creating var/folders/kt/zc_rczks5lgdbp_gfb_32tk80000gn/T/tmpmex864u8\n",
      "  \u001b[31m   \u001b[0m clang -Wno-unused-result -Wsign-compare -Wunreachable-code -fno-common -dynamic -DNDEBUG -g -fwrapv -O3 -Wall -iwithsysroot/System/Library/Frameworks/System.framework/PrivateHeaders -iwithsysroot/Applications/Xcode.app/Contents/Developer/Library/Frameworks/Python3.framework/Versions/3.8/Headers -arch arm64 -arch x86_64 \"-I/Users/user/Desktop/Tensorflow Object Detection/TFODCourse/tfod/include\" -I/Library/Developer/CommandLineTools/Library/Frameworks/Python3.framework/Versions/3.8/include/python3.8 -c /var/folders/kt/zc_rczks5lgdbp_gfb_32tk80000gn/T/tmpmex864u8/a.c -o var/folders/kt/zc_rczks5lgdbp_gfb_32tk80000gn/T/tmpmex864u8/a.o\n",
      "  \u001b[31m   \u001b[0m In file included from /var/folders/kt/zc_rczks5lgdbp_gfb_32tk80000gn/T/tmpmex864u8/a.c:2:\n",
      "  \u001b[31m   \u001b[0m In file included from /Library/Developer/CommandLineTools/Library/Frameworks/Python3.framework/Versions/3.8/include/python3.8/Python.h:11:\n",
      "  \u001b[31m   \u001b[0m In file included from /Library/Developer/CommandLineTools/usr/lib/clang/12.0.0/include/limits.h:21:\n",
      "  \u001b[31m   \u001b[0m In file included from /Library/Developer/CommandLineTools/SDKs/MacOSX10.15.sdk/usr/include/limits.h:63:\n",
      "  \u001b[31m   \u001b[0m /Library/Developer/CommandLineTools/SDKs/MacOSX10.15.sdk/usr/include/sys/cdefs.h:807:2: error: Unsupported architecture\n",
      "  \u001b[31m   \u001b[0m #error Unsupported architecture\n",
      "  \u001b[31m   \u001b[0m  ^\n",
      "  \u001b[31m   \u001b[0m In file included from /var/folders/kt/zc_rczks5lgdbp_gfb_32tk80000gn/T/tmpmex864u8/a.c:2:\n",
      "  \u001b[31m   \u001b[0m In file included from /Library/Developer/CommandLineTools/Library/Frameworks/Python3.framework/Versions/3.8/include/python3.8/Python.h:11:\n",
      "  \u001b[31m   \u001b[0m In file included from /Library/Developer/CommandLineTools/usr/lib/clang/12.0.0/include/limits.h:21:\n",
      "  \u001b[31m   \u001b[0m In file included from /Library/Developer/CommandLineTools/SDKs/MacOSX10.15.sdk/usr/include/limits.h:64:\n",
      "  \u001b[31m   \u001b[0m /Library/Developer/CommandLineTools/SDKs/MacOSX10.15.sdk/usr/include/machine/limits.h:8:2: error: architecture not supported\n",
      "  \u001b[31m   \u001b[0m #error architecture not supported\n",
      "  \u001b[31m   \u001b[0m  ^\n",
      "  \u001b[31m   \u001b[0m In file included from /var/folders/kt/zc_rczks5lgdbp_gfb_32tk80000gn/T/tmpmex864u8/a.c:2:\n",
      "  \u001b[31m   \u001b[0m In file included from /Library/Developer/CommandLineTools/Library/Frameworks/Python3.framework/Versions/3.8/include/python3.8/Python.h:25:\n",
      "  \u001b[31m   \u001b[0m In file included from /Library/Developer/CommandLineTools/SDKs/MacOSX10.15.sdk/usr/include/stdio.h:64:\n",
      "  \u001b[31m   \u001b[0m In file included from /Library/Developer/CommandLineTools/SDKs/MacOSX10.15.sdk/usr/include/_stdio.h:71:\n",
      "  \u001b[31m   \u001b[0m In file included from /Library/Developer/CommandLineTools/SDKs/MacOSX10.15.sdk/usr/include/_types.h:27:\n",
      "  \u001b[31m   \u001b[0m In file included from /Library/Developer/CommandLineTools/SDKs/MacOSX10.15.sdk/usr/include/sys/_types.h:33:\n",
      "  \u001b[31m   \u001b[0m /Library/Developer/CommandLineTools/SDKs/MacOSX10.15.sdk/usr/include/machine/_types.h:34:2: error: architecture not supported\n",
      "  \u001b[31m   \u001b[0m #error architecture not supported\n",
      "  \u001b[31m   \u001b[0m  ^\n",
      "  \u001b[31m   \u001b[0m In file included from /var/folders/kt/zc_rczks5lgdbp_gfb_32tk80000gn/T/tmpmex864u8/a.c:2:\n",
      "  \u001b[31m   \u001b[0m In file included from /Library/Developer/CommandLineTools/Library/Frameworks/Python3.framework/Versions/3.8/include/python3.8/Python.h:25:\n",
      "  \u001b[31m   \u001b[0m In file included from /Library/Developer/CommandLineTools/SDKs/MacOSX10.15.sdk/usr/include/stdio.h:64:\n",
      "  \u001b[31m   \u001b[0m In file included from /Library/Developer/CommandLineTools/SDKs/MacOSX10.15.sdk/usr/include/_stdio.h:71:\n",
      "  \u001b[31m   \u001b[0m In file included from /Library/Developer/CommandLineTools/SDKs/MacOSX10.15.sdk/usr/include/_types.h:27:\n",
      "  \u001b[31m   \u001b[0m /Library/Developer/CommandLineTools/SDKs/MacOSX10.15.sdk/usr/include/sys/_types.h:55:9: error: unknown type name '__int64_t'\n",
      "  \u001b[31m   \u001b[0m typedef __int64_t       __darwin_blkcnt_t;      /* total blocks */\n",
      "  \u001b[31m   \u001b[0m         ^\n",
      "  \u001b[31m   \u001b[0m /Library/Developer/CommandLineTools/SDKs/MacOSX10.15.sdk/usr/include/sys/_types.h:56:9: error: unknown type name '__int32_t'; did you mean '__int128_t'?\n",
      "  \u001b[31m   \u001b[0m typedef __int32_t       __darwin_blksize_t;     /* preferred block size */\n",
      "  \u001b[31m   \u001b[0m         ^\n",
      "  \u001b[31m   \u001b[0m note: '__int128_t' declared here\n",
      "  \u001b[31m   \u001b[0m /Library/Developer/CommandLineTools/SDKs/MacOSX10.15.sdk/usr/include/sys/_types.h:57:9: error: unknown type name '__int32_t'; did you mean '__int128_t'?\n",
      "  \u001b[31m   \u001b[0m typedef __int32_t       __darwin_dev_t;         /* dev_t */\n",
      "  \u001b[31m   \u001b[0m         ^\n",
      "  \u001b[31m   \u001b[0m note: '__int128_t' declared here\n",
      "  \u001b[31m   \u001b[0m /Library/Developer/CommandLineTools/SDKs/MacOSX10.15.sdk/usr/include/sys/_types.h:60:9: error: unknown type name '__uint32_t'; did you mean '__uint128_t'?\n",
      "  \u001b[31m   \u001b[0m typedef __uint32_t      __darwin_gid_t;         /* [???] process and group IDs */\n",
      "  \u001b[31m   \u001b[0m         ^\n",
      "  \u001b[31m   \u001b[0m note: '__uint128_t' declared here\n",
      "  \u001b[31m   \u001b[0m /Library/Developer/CommandLineTools/SDKs/MacOSX10.15.sdk/usr/include/sys/_types.h:61:9: error: unknown type name '__uint32_t'; did you mean '__uint128_t'?\n",
      "  \u001b[31m   \u001b[0m typedef __uint32_t      __darwin_id_t;          /* [XSI] pid_t, uid_t, or gid_t*/\n",
      "  \u001b[31m   \u001b[0m         ^\n",
      "  \u001b[31m   \u001b[0m note: '__uint128_t' declared here\n",
      "  \u001b[31m   \u001b[0m /Library/Developer/CommandLineTools/SDKs/MacOSX10.15.sdk/usr/include/sys/_types.h:62:9: error: unknown type name '__uint64_t'\n",
      "  \u001b[31m   \u001b[0m typedef __uint64_t      __darwin_ino64_t;       /* [???] Used for 64 bit inodes */\n",
      "  \u001b[31m   \u001b[0m         ^\n",
      "  \u001b[31m   \u001b[0m /Library/Developer/CommandLineTools/SDKs/MacOSX10.15.sdk/usr/include/sys/_types.h:68:9: error: unknown type name '__darwin_natural_t'\n",
      "  \u001b[31m   \u001b[0m typedef __darwin_natural_t __darwin_mach_port_name_t; /* Used by mach */\n",
      "  \u001b[31m   \u001b[0m         ^\n",
      "  \u001b[31m   \u001b[0m /Library/Developer/CommandLineTools/SDKs/MacOSX10.15.sdk/usr/include/sys/_types.h:70:9: error: unknown type name '__uint16_t'; did you mean '__uint128_t'?\n",
      "  \u001b[31m   \u001b[0m typedef __uint16_t      __darwin_mode_t;        /* [???] Some file attributes */\n",
      "  \u001b[31m   \u001b[0m         ^\n",
      "  \u001b[31m   \u001b[0m note: '__uint128_t' declared here\n",
      "  \u001b[31m   \u001b[0m /Library/Developer/CommandLineTools/SDKs/MacOSX10.15.sdk/usr/include/sys/_types.h:71:9: error: unknown type name '__int64_t'\n",
      "  \u001b[31m   \u001b[0m typedef __int64_t       __darwin_off_t;         /* [???] Used for file sizes */\n",
      "  \u001b[31m   \u001b[0m         ^\n",
      "  \u001b[31m   \u001b[0m /Library/Developer/CommandLineTools/SDKs/MacOSX10.15.sdk/usr/include/sys/_types.h:72:9: error: unknown type name '__int32_t'; did you mean '__int128_t'?\n",
      "  \u001b[31m   \u001b[0m typedef __int32_t       __darwin_pid_t;         /* [???] process and group IDs */\n",
      "  \u001b[31m   \u001b[0m         ^\n",
      "  \u001b[31m   \u001b[0m note: '__int128_t' declared here\n",
      "  \u001b[31m   \u001b[0m /Library/Developer/CommandLineTools/SDKs/MacOSX10.15.sdk/usr/include/sys/_types.h:73:9: error: unknown type name '__uint32_t'; did you mean '__uint128_t'?\n",
      "  \u001b[31m   \u001b[0m typedef __uint32_t      __darwin_sigset_t;      /* [???] signal set */\n",
      "  \u001b[31m   \u001b[0m         ^\n",
      "  \u001b[31m   \u001b[0m note: '__uint128_t' declared here\n",
      "  \u001b[31m   \u001b[0m /Library/Developer/CommandLineTools/SDKs/MacOSX10.15.sdk/usr/include/sys/_types.h:74:9: error: unknown type name '__int32_t'; did you mean '__int128_t'?\n",
      "  \u001b[31m   \u001b[0m typedef __int32_t       __darwin_suseconds_t;   /* [???] microseconds */\n",
      "  \u001b[31m   \u001b[0m         ^\n",
      "  \u001b[31m   \u001b[0m note: '__int128_t' declared here\n",
      "  \u001b[31m   \u001b[0m /Library/Developer/CommandLineTools/SDKs/MacOSX10.15.sdk/usr/include/sys/_types.h:75:9: error: unknown type name '__uint32_t'; did you mean '__uint128_t'?\n",
      "  \u001b[31m   \u001b[0m typedef __uint32_t      __darwin_uid_t;         /* [???] user IDs */\n",
      "  \u001b[31m   \u001b[0m         ^\n",
      "  \u001b[31m   \u001b[0m note: '__uint128_t' declared here\n",
      "  \u001b[31m   \u001b[0m /Library/Developer/CommandLineTools/SDKs/MacOSX10.15.sdk/usr/include/sys/_types.h:76:9: error: unknown type name '__uint32_t'; did you mean '__uint128_t'?\n",
      "  \u001b[31m   \u001b[0m typedef __uint32_t      __darwin_useconds_t;    /* [???] microseconds */\n",
      "  \u001b[31m   \u001b[0m         ^\n",
      "  \u001b[31m   \u001b[0m note: '__uint128_t' declared here\n",
      "  \u001b[31m   \u001b[0m In file included from /var/folders/kt/zc_rczks5lgdbp_gfb_32tk80000gn/T/tmpmex864u8/a.c:2:\n",
      "  \u001b[31m   \u001b[0m In file included from /Library/Developer/CommandLineTools/Library/Frameworks/Python3.framework/Versions/3.8/include/python3.8/Python.h:25:\n",
      "  \u001b[31m   \u001b[0m In file included from /Library/Developer/CommandLineTools/SDKs/MacOSX10.15.sdk/usr/include/stdio.h:64:\n",
      "  \u001b[31m   \u001b[0m In file included from /Library/Developer/CommandLineTools/SDKs/MacOSX10.15.sdk/usr/include/_stdio.h:71:\n",
      "  \u001b[31m   \u001b[0m /Library/Developer/CommandLineTools/SDKs/MacOSX10.15.sdk/usr/include/_types.h:43:9: error: unknown type name '__uint32_t'; did you mean '__uint128_t'?\n",
      "  \u001b[31m   \u001b[0m typedef __uint32_t      __darwin_wctype_t;\n",
      "  \u001b[31m   \u001b[0m         ^\n",
      "  \u001b[31m   \u001b[0m note: '__uint128_t' declared here\n",
      "  \u001b[31m   \u001b[0m In file included from /var/folders/kt/zc_rczks5lgdbp_gfb_32tk80000gn/T/tmpmex864u8/a.c:2:\n",
      "  \u001b[31m   \u001b[0m In file included from /Library/Developer/CommandLineTools/Library/Frameworks/Python3.framework/Versions/3.8/include/python3.8/Python.h:25:\n",
      "  \u001b[31m   \u001b[0m In file included from /Library/Developer/CommandLineTools/SDKs/MacOSX10.15.sdk/usr/include/stdio.h:64:\n",
      "  \u001b[31m   \u001b[0m In file included from /Library/Developer/CommandLineTools/SDKs/MacOSX10.15.sdk/usr/include/_stdio.h:75:\n",
      "  \u001b[31m   \u001b[0m In file included from /Library/Developer/CommandLineTools/SDKs/MacOSX10.15.sdk/usr/include/sys/_types/_va_list.h:31:\n",
      "  \u001b[31m   \u001b[0m /Library/Developer/CommandLineTools/SDKs/MacOSX10.15.sdk/usr/include/machine/types.h:37:2: error: architecture not supported\n",
      "  \u001b[31m   \u001b[0m #error architecture not supported\n",
      "  \u001b[31m   \u001b[0m  ^\n",
      "  \u001b[31m   \u001b[0m fatal error: too many errors emitted, stopping now [-ferror-limit=]\n",
      "  \u001b[31m   \u001b[0m 20 errors generated.\n",
      "  \u001b[31m   \u001b[0m \n",
      "  \u001b[31m   \u001b[0m Could not find <Python.h>. This could mean the following:\n",
      "  \u001b[31m   \u001b[0m   * You're on Ubuntu and haven't run `apt-get install python-dev`.\n",
      "  \u001b[31m   \u001b[0m   * You're on RHEL/Fedora and haven't run `yum install python-devel` or\n",
      "  \u001b[31m   \u001b[0m     `dnf install python-devel` (make sure you also have redhat-rpm-config\n",
      "  \u001b[31m   \u001b[0m     installed)\n",
      "  \u001b[31m   \u001b[0m   * You're on Mac OS X and the usual Python framework was somehow corrupted\n",
      "  \u001b[31m   \u001b[0m     (check your environment variables or try re-installing?)\n",
      "  \u001b[31m   \u001b[0m   * You're on Windows and your Python installation was somehow corrupted\n",
      "  \u001b[31m   \u001b[0m     (check your environment variables or try re-installing?)\n",
      "  \u001b[31m   \u001b[0m Traceback (most recent call last):\n",
      "  \u001b[31m   \u001b[0m   File \"/Users/user/Desktop/Tensorflow Object Detection/TFODCourse/tfod/lib/python3.8/site-packages/setuptools/_distutils/unixccompiler.py\", line 185, in _compile\n",
      "  \u001b[31m   \u001b[0m     self.spawn(compiler_so + cc_args + [src, '-o', obj] + extra_postargs)\n",
      "  \u001b[31m   \u001b[0m   File \"/private/var/folders/kt/zc_rczks5lgdbp_gfb_32tk80000gn/T/pip-install-y4o08f2q/grpcio_73c677fc9cdd44508a54353329bde900/src/python/grpcio/_spawn_patch.py\", line 54, in _commandfile_spawn\n",
      "  \u001b[31m   \u001b[0m     _classic_spawn(self, command)\n",
      "  \u001b[31m   \u001b[0m   File \"/Users/user/Desktop/Tensorflow Object Detection/TFODCourse/tfod/lib/python3.8/site-packages/setuptools/_distutils/ccompiler.py\", line 1041, in spawn\n",
      "  \u001b[31m   \u001b[0m     spawn(cmd, dry_run=self.dry_run, **kwargs)\n",
      "  \u001b[31m   \u001b[0m   File \"/Users/user/Desktop/Tensorflow Object Detection/TFODCourse/tfod/lib/python3.8/site-packages/setuptools/_distutils/spawn.py\", line 70, in spawn\n",
      "  \u001b[31m   \u001b[0m     raise DistutilsExecError(\n",
      "  \u001b[31m   \u001b[0m distutils.errors.DistutilsExecError: command '/usr/bin/clang' failed with exit code 1\n",
      "  \u001b[31m   \u001b[0m \n",
      "  \u001b[31m   \u001b[0m During handling of the above exception, another exception occurred:\n",
      "  \u001b[31m   \u001b[0m \n",
      "  \u001b[31m   \u001b[0m Traceback (most recent call last):\n",
      "  \u001b[31m   \u001b[0m   File \"/private/var/folders/kt/zc_rczks5lgdbp_gfb_32tk80000gn/T/pip-install-y4o08f2q/grpcio_73c677fc9cdd44508a54353329bde900/src/python/grpcio/commands.py\", line 272, in build_extensions\n",
      "  \u001b[31m   \u001b[0m     build_ext.build_ext.build_extensions(self)\n",
      "  \u001b[31m   \u001b[0m   File \"/Users/user/Desktop/Tensorflow Object Detection/TFODCourse/tfod/lib/python3.8/site-packages/Cython/Distutils/old_build_ext.py\", line 195, in build_extensions\n",
      "  \u001b[31m   \u001b[0m     _build_ext.build_ext.build_extensions(self)\n",
      "  \u001b[31m   \u001b[0m   File \"/Users/user/Desktop/Tensorflow Object Detection/TFODCourse/tfod/lib/python3.8/site-packages/setuptools/_distutils/command/build_ext.py\", line 467, in build_extensions\n",
      "  \u001b[31m   \u001b[0m     self._build_extensions_serial()\n",
      "  \u001b[31m   \u001b[0m   File \"/Users/user/Desktop/Tensorflow Object Detection/TFODCourse/tfod/lib/python3.8/site-packages/setuptools/_distutils/command/build_ext.py\", line 493, in _build_extensions_serial\n",
      "  \u001b[31m   \u001b[0m     self.build_extension(ext)\n",
      "  \u001b[31m   \u001b[0m   File \"/Users/user/Desktop/Tensorflow Object Detection/TFODCourse/tfod/lib/python3.8/site-packages/setuptools/command/build_ext.py\", line 246, in build_extension\n",
      "  \u001b[31m   \u001b[0m     _build_ext.build_extension(self, ext)\n",
      "  \u001b[31m   \u001b[0m   File \"/Users/user/Desktop/Tensorflow Object Detection/TFODCourse/tfod/lib/python3.8/site-packages/setuptools/_distutils/command/build_ext.py\", line 548, in build_extension\n",
      "  \u001b[31m   \u001b[0m     objects = self.compiler.compile(\n",
      "  \u001b[31m   \u001b[0m   File \"/Users/user/Desktop/Tensorflow Object Detection/TFODCourse/tfod/lib/python3.8/site-packages/setuptools/_distutils/ccompiler.py\", line 600, in compile\n",
      "  \u001b[31m   \u001b[0m     self._compile(obj, src, ext, cc_args, extra_postargs, pp_opts)\n",
      "  \u001b[31m   \u001b[0m   File \"/Users/user/Desktop/Tensorflow Object Detection/TFODCourse/tfod/lib/python3.8/site-packages/setuptools/_distutils/unixccompiler.py\", line 187, in _compile\n",
      "  \u001b[31m   \u001b[0m     raise CompileError(msg)\n",
      "  \u001b[31m   \u001b[0m distutils.errors.CompileError: command '/usr/bin/clang' failed with exit code 1\n",
      "  \u001b[31m   \u001b[0m \n",
      "  \u001b[31m   \u001b[0m During handling of the above exception, another exception occurred:\n",
      "  \u001b[31m   \u001b[0m \n",
      "  \u001b[31m   \u001b[0m Traceback (most recent call last):\n",
      "  \u001b[31m   \u001b[0m   File \"<string>\", line 2, in <module>\n",
      "  \u001b[31m   \u001b[0m   File \"<pip-setuptools-caller>\", line 34, in <module>\n",
      "  \u001b[31m   \u001b[0m   File \"/private/var/folders/kt/zc_rczks5lgdbp_gfb_32tk80000gn/T/pip-install-y4o08f2q/grpcio_73c677fc9cdd44508a54353329bde900/setup.py\", line 353, in <module>\n",
      "  \u001b[31m   \u001b[0m     setuptools.setup(\n",
      "  \u001b[31m   \u001b[0m   File \"/Users/user/Desktop/Tensorflow Object Detection/TFODCourse/tfod/lib/python3.8/site-packages/setuptools/__init__.py\", line 107, in setup\n",
      "  \u001b[31m   \u001b[0m     return distutils.core.setup(**attrs)\n",
      "  \u001b[31m   \u001b[0m   File \"/Users/user/Desktop/Tensorflow Object Detection/TFODCourse/tfod/lib/python3.8/site-packages/setuptools/_distutils/core.py\", line 185, in setup\n",
      "  \u001b[31m   \u001b[0m     return run_commands(dist)\n",
      "  \u001b[31m   \u001b[0m   File \"/Users/user/Desktop/Tensorflow Object Detection/TFODCourse/tfod/lib/python3.8/site-packages/setuptools/_distutils/core.py\", line 201, in run_commands\n",
      "  \u001b[31m   \u001b[0m     dist.run_commands()\n",
      "  \u001b[31m   \u001b[0m   File \"/Users/user/Desktop/Tensorflow Object Detection/TFODCourse/tfod/lib/python3.8/site-packages/setuptools/_distutils/dist.py\", line 969, in run_commands\n",
      "  \u001b[31m   \u001b[0m     self.run_command(cmd)\n",
      "  \u001b[31m   \u001b[0m   File \"/Users/user/Desktop/Tensorflow Object Detection/TFODCourse/tfod/lib/python3.8/site-packages/setuptools/dist.py\", line 1234, in run_command\n",
      "  \u001b[31m   \u001b[0m     super().run_command(command)\n",
      "  \u001b[31m   \u001b[0m   File \"/Users/user/Desktop/Tensorflow Object Detection/TFODCourse/tfod/lib/python3.8/site-packages/setuptools/_distutils/dist.py\", line 988, in run_command\n",
      "  \u001b[31m   \u001b[0m     cmd_obj.run()\n",
      "  \u001b[31m   \u001b[0m   File \"/Users/user/Desktop/Tensorflow Object Detection/TFODCourse/tfod/lib/python3.8/site-packages/wheel/bdist_wheel.py\", line 343, in run\n",
      "  \u001b[31m   \u001b[0m     self.run_command(\"build\")\n",
      "  \u001b[31m   \u001b[0m   File \"/Users/user/Desktop/Tensorflow Object Detection/TFODCourse/tfod/lib/python3.8/site-packages/setuptools/_distutils/cmd.py\", line 318, in run_command\n",
      "  \u001b[31m   \u001b[0m     self.distribution.run_command(command)\n",
      "  \u001b[31m   \u001b[0m   File \"/Users/user/Desktop/Tensorflow Object Detection/TFODCourse/tfod/lib/python3.8/site-packages/setuptools/dist.py\", line 1234, in run_command\n",
      "  \u001b[31m   \u001b[0m     super().run_command(command)\n",
      "  \u001b[31m   \u001b[0m   File \"/Users/user/Desktop/Tensorflow Object Detection/TFODCourse/tfod/lib/python3.8/site-packages/setuptools/_distutils/dist.py\", line 988, in run_command\n",
      "  \u001b[31m   \u001b[0m     cmd_obj.run()\n",
      "  \u001b[31m   \u001b[0m   File \"/Users/user/Desktop/Tensorflow Object Detection/TFODCourse/tfod/lib/python3.8/site-packages/setuptools/_distutils/command/build.py\", line 131, in run\n",
      "  \u001b[31m   \u001b[0m     self.run_command(cmd_name)\n",
      "  \u001b[31m   \u001b[0m   File \"/Users/user/Desktop/Tensorflow Object Detection/TFODCourse/tfod/lib/python3.8/site-packages/setuptools/_distutils/cmd.py\", line 318, in run_command\n",
      "  \u001b[31m   \u001b[0m     self.distribution.run_command(command)\n",
      "  \u001b[31m   \u001b[0m   File \"/Users/user/Desktop/Tensorflow Object Detection/TFODCourse/tfod/lib/python3.8/site-packages/setuptools/dist.py\", line 1234, in run_command\n",
      "  \u001b[31m   \u001b[0m     super().run_command(command)\n",
      "  \u001b[31m   \u001b[0m   File \"/Users/user/Desktop/Tensorflow Object Detection/TFODCourse/tfod/lib/python3.8/site-packages/setuptools/_distutils/dist.py\", line 988, in run_command\n",
      "  \u001b[31m   \u001b[0m     cmd_obj.run()\n",
      "  \u001b[31m   \u001b[0m   File \"/Users/user/Desktop/Tensorflow Object Detection/TFODCourse/tfod/lib/python3.8/site-packages/setuptools/command/build_ext.py\", line 84, in run\n",
      "  \u001b[31m   \u001b[0m     _build_ext.run(self)\n",
      "  \u001b[31m   \u001b[0m   File \"/Users/user/Desktop/Tensorflow Object Detection/TFODCourse/tfod/lib/python3.8/site-packages/Cython/Distutils/old_build_ext.py\", line 186, in run\n",
      "  \u001b[31m   \u001b[0m     _build_ext.build_ext.run(self)\n",
      "  \u001b[31m   \u001b[0m   File \"/Users/user/Desktop/Tensorflow Object Detection/TFODCourse/tfod/lib/python3.8/site-packages/setuptools/_distutils/command/build_ext.py\", line 345, in run\n",
      "  \u001b[31m   \u001b[0m     self.build_extensions()\n",
      "  \u001b[31m   \u001b[0m   File \"/private/var/folders/kt/zc_rczks5lgdbp_gfb_32tk80000gn/T/pip-install-y4o08f2q/grpcio_73c677fc9cdd44508a54353329bde900/src/python/grpcio/commands.py\", line 275, in build_extensions\n",
      "  \u001b[31m   \u001b[0m     support.diagnose_build_ext_error(self, error, formatted_exception)\n",
      "  \u001b[31m   \u001b[0m   File \"/private/var/folders/kt/zc_rczks5lgdbp_gfb_32tk80000gn/T/pip-install-y4o08f2q/grpcio_73c677fc9cdd44508a54353329bde900/src/python/grpcio/support.py\", line 111, in diagnose_build_ext_error\n",
      "  \u001b[31m   \u001b[0m     diagnostic(build_ext, error)\n",
      "  \u001b[31m   \u001b[0m   File \"/private/var/folders/kt/zc_rczks5lgdbp_gfb_32tk80000gn/T/pip-install-y4o08f2q/grpcio_73c677fc9cdd44508a54353329bde900/src/python/grpcio/support.py\", line 70, in diagnose_compile_error\n",
      "  \u001b[31m   \u001b[0m     _expect_compile(build_ext.compiler, c_check, message)\n",
      "  \u001b[31m   \u001b[0m   File \"/private/var/folders/kt/zc_rczks5lgdbp_gfb_32tk80000gn/T/pip-install-y4o08f2q/grpcio_73c677fc9cdd44508a54353329bde900/src/python/grpcio/support.py\", line 62, in _expect_compile\n",
      "  \u001b[31m   \u001b[0m     raise commands.CommandError(\n",
      "  \u001b[31m   \u001b[0m commands.CommandError: Diagnostics found a compilation environment issue:\n",
      "  \u001b[31m   \u001b[0m \n",
      "  \u001b[31m   \u001b[0m Could not find <Python.h>. This could mean the following:\n",
      "  \u001b[31m   \u001b[0m   * You're on Ubuntu and haven't run `apt-get install python-dev`.\n",
      "  \u001b[31m   \u001b[0m   * You're on RHEL/Fedora and haven't run `yum install python-devel` or\n",
      "  \u001b[31m   \u001b[0m     `dnf install python-devel` (make sure you also have redhat-rpm-config\n",
      "  \u001b[31m   \u001b[0m     installed)\n",
      "  \u001b[31m   \u001b[0m   * You're on Mac OS X and the usual Python framework was somehow corrupted\n",
      "  \u001b[31m   \u001b[0m     (check your environment variables or try re-installing?)\n",
      "  \u001b[31m   \u001b[0m   * You're on Windows and your Python installation was somehow corrupted\n",
      "  \u001b[31m   \u001b[0m     (check your environment variables or try re-installing?)\n",
      "  \u001b[31m   \u001b[0m \n",
      "  \u001b[31m   \u001b[0m \u001b[31m[end of output]\u001b[0m\n",
      "  \n",
      "  \u001b[1;35mnote\u001b[0m: This error originates from a subprocess, and is likely not a problem with pip.\n",
      "\u001b[31m  ERROR: Failed building wheel for grpcio\u001b[0m\u001b[31m\n",
      "\u001b[0m\u001b[?25h  Running setup.py clean for grpcio\n"
     ]
    },
    {
     "name": "stdout",
     "output_type": "stream",
     "text": [
      "  Building wheel for grpcio-tools (setup.py) ... \u001b[?25lerror\n",
      "  \u001b[1;31merror\u001b[0m: \u001b[1msubprocess-exited-with-error\u001b[0m\n",
      "  \n",
      "  \u001b[31m×\u001b[0m \u001b[32mpython setup.py bdist_wheel\u001b[0m did not run successfully.\n",
      "  \u001b[31m│\u001b[0m exit code: \u001b[1;36m1\u001b[0m\n",
      "  \u001b[31m╰─>\u001b[0m \u001b[31m[163 lines of output]\u001b[0m\n",
      "  \u001b[31m   \u001b[0m /private/var/folders/kt/zc_rczks5lgdbp_gfb_32tk80000gn/T/pip-install-y4o08f2q/grpcio-tools_8aad8e6d46cd46f9a094e5411fe6badf/setup.py:21: DeprecationWarning: pkg_resources is deprecated as an API. See https://setuptools.pypa.io/en/latest/pkg_resources.html\n",
      "  \u001b[31m   \u001b[0m   import pkg_resources\n",
      "  \u001b[31m   \u001b[0m running bdist_wheel\n",
      "  \u001b[31m   \u001b[0m running build\n",
      "  \u001b[31m   \u001b[0m running build_py\n",
      "  \u001b[31m   \u001b[0m creating build\n",
      "  \u001b[31m   \u001b[0m creating build/lib.macosx-10.14.6-x86_64-cpython-38\n",
      "  \u001b[31m   \u001b[0m creating build/lib.macosx-10.14.6-x86_64-cpython-38/grpc_tools\n",
      "  \u001b[31m   \u001b[0m copying grpc_tools/command.py -> build/lib.macosx-10.14.6-x86_64-cpython-38/grpc_tools\n",
      "  \u001b[31m   \u001b[0m copying grpc_tools/__init__.py -> build/lib.macosx-10.14.6-x86_64-cpython-38/grpc_tools\n",
      "  \u001b[31m   \u001b[0m copying grpc_tools/protoc.py -> build/lib.macosx-10.14.6-x86_64-cpython-38/grpc_tools\n",
      "  \u001b[31m   \u001b[0m creating build/lib.macosx-10.14.6-x86_64-cpython-38/grpc_tools/_proto\n",
      "  \u001b[31m   \u001b[0m creating build/lib.macosx-10.14.6-x86_64-cpython-38/grpc_tools/_proto/google\n",
      "  \u001b[31m   \u001b[0m creating build/lib.macosx-10.14.6-x86_64-cpython-38/grpc_tools/_proto/google/protobuf\n",
      "  \u001b[31m   \u001b[0m copying grpc_tools/_proto/google/protobuf/wrappers.proto -> build/lib.macosx-10.14.6-x86_64-cpython-38/grpc_tools/_proto/google/protobuf\n",
      "  \u001b[31m   \u001b[0m copying grpc_tools/_proto/google/protobuf/type.proto -> build/lib.macosx-10.14.6-x86_64-cpython-38/grpc_tools/_proto/google/protobuf\n",
      "  \u001b[31m   \u001b[0m copying grpc_tools/_proto/google/protobuf/timestamp.proto -> build/lib.macosx-10.14.6-x86_64-cpython-38/grpc_tools/_proto/google/protobuf\n",
      "  \u001b[31m   \u001b[0m copying grpc_tools/_proto/google/protobuf/struct.proto -> build/lib.macosx-10.14.6-x86_64-cpython-38/grpc_tools/_proto/google/protobuf\n",
      "  \u001b[31m   \u001b[0m copying grpc_tools/_proto/google/protobuf/source_context.proto -> build/lib.macosx-10.14.6-x86_64-cpython-38/grpc_tools/_proto/google/protobuf\n",
      "  \u001b[31m   \u001b[0m copying grpc_tools/_proto/google/protobuf/field_mask.proto -> build/lib.macosx-10.14.6-x86_64-cpython-38/grpc_tools/_proto/google/protobuf\n",
      "  \u001b[31m   \u001b[0m copying grpc_tools/_proto/google/protobuf/empty.proto -> build/lib.macosx-10.14.6-x86_64-cpython-38/grpc_tools/_proto/google/protobuf\n",
      "  \u001b[31m   \u001b[0m copying grpc_tools/_proto/google/protobuf/duration.proto -> build/lib.macosx-10.14.6-x86_64-cpython-38/grpc_tools/_proto/google/protobuf\n",
      "  \u001b[31m   \u001b[0m copying grpc_tools/_proto/google/protobuf/descriptor.proto -> build/lib.macosx-10.14.6-x86_64-cpython-38/grpc_tools/_proto/google/protobuf\n",
      "  \u001b[31m   \u001b[0m creating build/lib.macosx-10.14.6-x86_64-cpython-38/grpc_tools/_proto/google/protobuf/compiler\n",
      "  \u001b[31m   \u001b[0m copying grpc_tools/_proto/google/protobuf/compiler/plugin.proto -> build/lib.macosx-10.14.6-x86_64-cpython-38/grpc_tools/_proto/google/protobuf/compiler\n",
      "  \u001b[31m   \u001b[0m copying grpc_tools/_proto/google/protobuf/api.proto -> build/lib.macosx-10.14.6-x86_64-cpython-38/grpc_tools/_proto/google/protobuf\n",
      "  \u001b[31m   \u001b[0m copying grpc_tools/_proto/google/protobuf/any.proto -> build/lib.macosx-10.14.6-x86_64-cpython-38/grpc_tools/_proto/google/protobuf\n",
      "  \u001b[31m   \u001b[0m running build_ext\n",
      "  \u001b[31m   \u001b[0m building 'grpc_tools._protoc_compiler' extension\n",
      "  \u001b[31m   \u001b[0m creating build/temp.macosx-10.14.6-x86_64-cpython-38\n",
      "  \u001b[31m   \u001b[0m creating build/temp.macosx-10.14.6-x86_64-cpython-38/grpc_root\n",
      "  \u001b[31m   \u001b[0m creating build/temp.macosx-10.14.6-x86_64-cpython-38/grpc_root/src\n",
      "  \u001b[31m   \u001b[0m creating build/temp.macosx-10.14.6-x86_64-cpython-38/grpc_root/src/compiler\n",
      "  \u001b[31m   \u001b[0m creating build/temp.macosx-10.14.6-x86_64-cpython-38/grpc_tools\n",
      "  \u001b[31m   \u001b[0m creating build/temp.macosx-10.14.6-x86_64-cpython-38/third_party\n",
      "  \u001b[31m   \u001b[0m creating build/temp.macosx-10.14.6-x86_64-cpython-38/third_party/protobuf\n",
      "  \u001b[31m   \u001b[0m creating build/temp.macosx-10.14.6-x86_64-cpython-38/third_party/protobuf/src\n",
      "  \u001b[31m   \u001b[0m creating build/temp.macosx-10.14.6-x86_64-cpython-38/third_party/protobuf/src/google\n",
      "  \u001b[31m   \u001b[0m creating build/temp.macosx-10.14.6-x86_64-cpython-38/third_party/protobuf/src/google/protobuf\n",
      "  \u001b[31m   \u001b[0m creating build/temp.macosx-10.14.6-x86_64-cpython-38/third_party/protobuf/src/google/protobuf/compiler\n",
      "  \u001b[31m   \u001b[0m creating build/temp.macosx-10.14.6-x86_64-cpython-38/third_party/protobuf/src/google/protobuf/compiler/cpp\n",
      "  \u001b[31m   \u001b[0m creating build/temp.macosx-10.14.6-x86_64-cpython-38/third_party/protobuf/src/google/protobuf/compiler/csharp\n",
      "  \u001b[31m   \u001b[0m creating build/temp.macosx-10.14.6-x86_64-cpython-38/third_party/protobuf/src/google/protobuf/compiler/java\n",
      "  \u001b[31m   \u001b[0m creating build/temp.macosx-10.14.6-x86_64-cpython-38/third_party/protobuf/src/google/protobuf/compiler/js\n",
      "  \u001b[31m   \u001b[0m creating build/temp.macosx-10.14.6-x86_64-cpython-38/third_party/protobuf/src/google/protobuf/compiler/objectivec\n",
      "  \u001b[31m   \u001b[0m creating build/temp.macosx-10.14.6-x86_64-cpython-38/third_party/protobuf/src/google/protobuf/compiler/php\n",
      "  \u001b[31m   \u001b[0m creating build/temp.macosx-10.14.6-x86_64-cpython-38/third_party/protobuf/src/google/protobuf/compiler/python\n",
      "  \u001b[31m   \u001b[0m creating build/temp.macosx-10.14.6-x86_64-cpython-38/third_party/protobuf/src/google/protobuf/compiler/ruby\n",
      "  \u001b[31m   \u001b[0m creating build/temp.macosx-10.14.6-x86_64-cpython-38/third_party/protobuf/src/google/protobuf/io\n",
      "  \u001b[31m   \u001b[0m creating build/temp.macosx-10.14.6-x86_64-cpython-38/third_party/protobuf/src/google/protobuf/stubs\n",
      "  \u001b[31m   \u001b[0m creating build/temp.macosx-10.14.6-x86_64-cpython-38/third_party/protobuf/src/google/protobuf/util\n",
      "  \u001b[31m   \u001b[0m creating build/temp.macosx-10.14.6-x86_64-cpython-38/third_party/protobuf/src/google/protobuf/util/internal\n",
      "  \u001b[31m   \u001b[0m clang -Wno-unused-result -Wsign-compare -Wunreachable-code -fno-common -dynamic -DNDEBUG -g -fwrapv -O3 -Wall -iwithsysroot/System/Library/Frameworks/System.framework/PrivateHeaders -iwithsysroot/Applications/Xcode.app/Contents/Developer/Library/Frameworks/Python3.framework/Versions/3.8/Headers -arch arm64 -arch x86_64 -DHAVE_PTHREAD=1 -I. -Igrpc_root -Igrpc_root/include -Ithird_party/protobuf/src \"-I/Users/user/Desktop/Tensorflow Object Detection/TFODCourse/tfod/include\" -I/Library/Developer/CommandLineTools/Library/Frameworks/Python3.framework/Versions/3.8/include/python3.8 -c grpc_root/src/compiler/python_generator.cc -o build/temp.macosx-10.14.6-x86_64-cpython-38/grpc_root/src/compiler/python_generator.o -std=c++11 -fno-wrapv -frtti\n",
      "  \u001b[31m   \u001b[0m In file included from grpc_root/src/compiler/python_generator.cc:19:\n",
      "  \u001b[31m   \u001b[0m In file included from /Library/Developer/CommandLineTools/usr/bin/../include/c++/v1/algorithm:641:\n",
      "  \u001b[31m   \u001b[0m In file included from /Library/Developer/CommandLineTools/usr/bin/../include/c++/v1/cstring:60:\n",
      "  \u001b[31m   \u001b[0m In file included from /Library/Developer/CommandLineTools/usr/bin/../include/c++/v1/string.h:60:\n",
      "  \u001b[31m   \u001b[0m In file included from /Library/Developer/CommandLineTools/SDKs/MacOSX10.15.sdk/usr/include/string.h:61:\n",
      "  \u001b[31m   \u001b[0m In file included from /Library/Developer/CommandLineTools/SDKs/MacOSX10.15.sdk/usr/include/_types.h:27:\n",
      "  \u001b[31m   \u001b[0m In file included from /Library/Developer/CommandLineTools/SDKs/MacOSX10.15.sdk/usr/include/sys/_types.h:32:\n",
      "  \u001b[31m   \u001b[0m /Library/Developer/CommandLineTools/SDKs/MacOSX10.15.sdk/usr/include/sys/cdefs.h:807:2: error: Unsupported architecture\n",
      "  \u001b[31m   \u001b[0m #error Unsupported architecture\n",
      "  \u001b[31m   \u001b[0m  ^\n",
      "  \u001b[31m   \u001b[0m In file included from grpc_root/src/compiler/python_generator.cc:19:\n",
      "  \u001b[31m   \u001b[0m In file included from /Library/Developer/CommandLineTools/usr/bin/../include/c++/v1/algorithm:641:\n",
      "  \u001b[31m   \u001b[0m In file included from /Library/Developer/CommandLineTools/usr/bin/../include/c++/v1/cstring:60:\n",
      "  \u001b[31m   \u001b[0m In file included from /Library/Developer/CommandLineTools/usr/bin/../include/c++/v1/string.h:60:\n",
      "  \u001b[31m   \u001b[0m In file included from /Library/Developer/CommandLineTools/SDKs/MacOSX10.15.sdk/usr/include/string.h:61:\n",
      "  \u001b[31m   \u001b[0m In file included from /Library/Developer/CommandLineTools/SDKs/MacOSX10.15.sdk/usr/include/_types.h:27:\n",
      "  \u001b[31m   \u001b[0m In file included from /Library/Developer/CommandLineTools/SDKs/MacOSX10.15.sdk/usr/include/sys/_types.h:33:\n",
      "  \u001b[31m   \u001b[0m /Library/Developer/CommandLineTools/SDKs/MacOSX10.15.sdk/usr/include/machine/_types.h:34:2: error: architecture not supported\n",
      "  \u001b[31m   \u001b[0m #error architecture not supported\n",
      "  \u001b[31m   \u001b[0m  ^\n",
      "  \u001b[31m   \u001b[0m In file included from grpc_root/src/compiler/python_generator.cc:19:\n",
      "  \u001b[31m   \u001b[0m In file included from /Library/Developer/CommandLineTools/usr/bin/../include/c++/v1/algorithm:641:\n",
      "  \u001b[31m   \u001b[0m In file included from /Library/Developer/CommandLineTools/usr/bin/../include/c++/v1/cstring:60:\n",
      "  \u001b[31m   \u001b[0m In file included from /Library/Developer/CommandLineTools/usr/bin/../include/c++/v1/string.h:60:\n",
      "  \u001b[31m   \u001b[0m In file included from /Library/Developer/CommandLineTools/SDKs/MacOSX10.15.sdk/usr/include/string.h:61:\n",
      "  \u001b[31m   \u001b[0m In file included from /Library/Developer/CommandLineTools/SDKs/MacOSX10.15.sdk/usr/include/_types.h:27:\n",
      "  \u001b[31m   \u001b[0m /Library/Developer/CommandLineTools/SDKs/MacOSX10.15.sdk/usr/include/sys/_types.h:55:9: error: unknown type name '__int64_t'\n",
      "  \u001b[31m   \u001b[0m typedef __int64_t       __darwin_blkcnt_t;      /* total blocks */\n",
      "  \u001b[31m   \u001b[0m         ^\n",
      "  \u001b[31m   \u001b[0m /Library/Developer/CommandLineTools/SDKs/MacOSX10.15.sdk/usr/include/sys/_types.h:56:9: error: unknown type name '__int32_t'; did you mean '__int128_t'?\n",
      "  \u001b[31m   \u001b[0m typedef __int32_t       __darwin_blksize_t;     /* preferred block size */\n",
      "  \u001b[31m   \u001b[0m         ^\n",
      "  \u001b[31m   \u001b[0m note: '__int128_t' declared here\n",
      "  \u001b[31m   \u001b[0m /Library/Developer/CommandLineTools/SDKs/MacOSX10.15.sdk/usr/include/sys/_types.h:57:9: error: unknown type name '__int32_t'; did you mean '__int128_t'?\n",
      "  \u001b[31m   \u001b[0m typedef __int32_t       __darwin_dev_t;         /* dev_t */\n",
      "  \u001b[31m   \u001b[0m         ^\n",
      "  \u001b[31m   \u001b[0m note: '__int128_t' declared here\n",
      "  \u001b[31m   \u001b[0m /Library/Developer/CommandLineTools/SDKs/MacOSX10.15.sdk/usr/include/sys/_types.h:60:9: error: unknown type name '__uint32_t'; did you mean '__uint128_t'?\n",
      "  \u001b[31m   \u001b[0m typedef __uint32_t      __darwin_gid_t;         /* [???] process and group IDs */\n",
      "  \u001b[31m   \u001b[0m         ^\n",
      "  \u001b[31m   \u001b[0m note: '__uint128_t' declared here\n",
      "  \u001b[31m   \u001b[0m /Library/Developer/CommandLineTools/SDKs/MacOSX10.15.sdk/usr/include/sys/_types.h:61:9: error: unknown type name '__uint32_t'; did you mean '__uint128_t'?\n",
      "  \u001b[31m   \u001b[0m typedef __uint32_t      __darwin_id_t;          /* [XSI] pid_t, uid_t, or gid_t*/\n",
      "  \u001b[31m   \u001b[0m         ^\n",
      "  \u001b[31m   \u001b[0m note: '__uint128_t' declared here\n",
      "  \u001b[31m   \u001b[0m /Library/Developer/CommandLineTools/SDKs/MacOSX10.15.sdk/usr/include/sys/_types.h:62:9: error: unknown type name '__uint64_t'\n",
      "  \u001b[31m   \u001b[0m typedef __uint64_t      __darwin_ino64_t;       /* [???] Used for 64 bit inodes */\n",
      "  \u001b[31m   \u001b[0m         ^\n",
      "  \u001b[31m   \u001b[0m /Library/Developer/CommandLineTools/SDKs/MacOSX10.15.sdk/usr/include/sys/_types.h:68:9: error: unknown type name '__darwin_natural_t'\n",
      "  \u001b[31m   \u001b[0m typedef __darwin_natural_t __darwin_mach_port_name_t; /* Used by mach */\n",
      "  \u001b[31m   \u001b[0m         ^\n",
      "  \u001b[31m   \u001b[0m /Library/Developer/CommandLineTools/SDKs/MacOSX10.15.sdk/usr/include/sys/_types.h:70:9: error: unknown type name '__uint16_t'; did you mean '__uint128_t'?\n",
      "  \u001b[31m   \u001b[0m typedef __uint16_t      __darwin_mode_t;        /* [???] Some file attributes */\n",
      "  \u001b[31m   \u001b[0m         ^\n",
      "  \u001b[31m   \u001b[0m note: '__uint128_t' declared here\n",
      "  \u001b[31m   \u001b[0m /Library/Developer/CommandLineTools/SDKs/MacOSX10.15.sdk/usr/include/sys/_types.h:71:9: error: unknown type name '__int64_t'\n",
      "  \u001b[31m   \u001b[0m typedef __int64_t       __darwin_off_t;         /* [???] Used for file sizes */\n",
      "  \u001b[31m   \u001b[0m         ^\n",
      "  \u001b[31m   \u001b[0m /Library/Developer/CommandLineTools/SDKs/MacOSX10.15.sdk/usr/include/sys/_types.h:72:9: error: unknown type name '__int32_t'; did you mean '__int128_t'?\n",
      "  \u001b[31m   \u001b[0m typedef __int32_t       __darwin_pid_t;         /* [???] process and group IDs */\n",
      "  \u001b[31m   \u001b[0m         ^\n",
      "  \u001b[31m   \u001b[0m note: '__int128_t' declared here\n",
      "  \u001b[31m   \u001b[0m /Library/Developer/CommandLineTools/SDKs/MacOSX10.15.sdk/usr/include/sys/_types.h:73:9: error: unknown type name '__uint32_t'; did you mean '__uint128_t'?\n",
      "  \u001b[31m   \u001b[0m typedef __uint32_t      __darwin_sigset_t;      /* [???] signal set */\n",
      "  \u001b[31m   \u001b[0m         ^\n",
      "  \u001b[31m   \u001b[0m note: '__uint128_t' declared here\n",
      "  \u001b[31m   \u001b[0m /Library/Developer/CommandLineTools/SDKs/MacOSX10.15.sdk/usr/include/sys/_types.h:74:9: error: unknown type name '__int32_t'; did you mean '__int128_t'?\n",
      "  \u001b[31m   \u001b[0m typedef __int32_t       __darwin_suseconds_t;   /* [???] microseconds */\n",
      "  \u001b[31m   \u001b[0m         ^\n",
      "  \u001b[31m   \u001b[0m note: '__int128_t' declared here\n",
      "  \u001b[31m   \u001b[0m /Library/Developer/CommandLineTools/SDKs/MacOSX10.15.sdk/usr/include/sys/_types.h:75:9: error: unknown type name '__uint32_t'; did you mean '__uint128_t'?\n",
      "  \u001b[31m   \u001b[0m typedef __uint32_t      __darwin_uid_t;         /* [???] user IDs */\n",
      "  \u001b[31m   \u001b[0m         ^\n",
      "  \u001b[31m   \u001b[0m note: '__uint128_t' declared here\n",
      "  \u001b[31m   \u001b[0m /Library/Developer/CommandLineTools/SDKs/MacOSX10.15.sdk/usr/include/sys/_types.h:76:9: error: unknown type name '__uint32_t'; did you mean '__uint128_t'?\n",
      "  \u001b[31m   \u001b[0m typedef __uint32_t      __darwin_useconds_t;    /* [???] microseconds */\n",
      "  \u001b[31m   \u001b[0m         ^\n",
      "  \u001b[31m   \u001b[0m note: '__uint128_t' declared here\n",
      "  \u001b[31m   \u001b[0m In file included from grpc_root/src/compiler/python_generator.cc:19:\n",
      "  \u001b[31m   \u001b[0m In file included from /Library/Developer/CommandLineTools/usr/bin/../include/c++/v1/algorithm:641:\n",
      "  \u001b[31m   \u001b[0m In file included from /Library/Developer/CommandLineTools/usr/bin/../include/c++/v1/cstring:60:\n",
      "  \u001b[31m   \u001b[0m In file included from /Library/Developer/CommandLineTools/usr/bin/../include/c++/v1/string.h:60:\n",
      "  \u001b[31m   \u001b[0m In file included from /Library/Developer/CommandLineTools/SDKs/MacOSX10.15.sdk/usr/include/string.h:61:\n",
      "  \u001b[31m   \u001b[0m /Library/Developer/CommandLineTools/SDKs/MacOSX10.15.sdk/usr/include/_types.h:43:9: error: unknown type name '__uint32_t'; did you mean '__uint128_t'?\n",
      "  \u001b[31m   \u001b[0m typedef __uint32_t      __darwin_wctype_t;\n",
      "  \u001b[31m   \u001b[0m         ^\n",
      "  \u001b[31m   \u001b[0m note: '__uint128_t' declared here\n",
      "  \u001b[31m   \u001b[0m In file included from grpc_root/src/compiler/python_generator.cc:19:\n",
      "  \u001b[31m   \u001b[0m In file included from /Library/Developer/CommandLineTools/usr/bin/../include/c++/v1/algorithm:641:\n",
      "  \u001b[31m   \u001b[0m In file included from /Library/Developer/CommandLineTools/usr/bin/../include/c++/v1/cstring:60:\n",
      "  \u001b[31m   \u001b[0m In file included from /Library/Developer/CommandLineTools/usr/bin/../include/c++/v1/string.h:60:\n",
      "  \u001b[31m   \u001b[0m In file included from /Library/Developer/CommandLineTools/SDKs/MacOSX10.15.sdk/usr/include/string.h:152:\n",
      "  \u001b[31m   \u001b[0m In file included from /Library/Developer/CommandLineTools/SDKs/MacOSX10.15.sdk/usr/include/sys/_types/_ssize_t.h:30:\n",
      "  \u001b[31m   \u001b[0m /Library/Developer/CommandLineTools/SDKs/MacOSX10.15.sdk/usr/include/machine/types.h:37:2: error: architecture not supported\n",
      "  \u001b[31m   \u001b[0m #error architecture not supported\n",
      "  \u001b[31m   \u001b[0m  ^\n",
      "  \u001b[31m   \u001b[0m In file included from grpc_root/src/compiler/python_generator.cc:19:\n",
      "  \u001b[31m   \u001b[0m In file included from /Library/Developer/CommandLineTools/usr/bin/../include/c++/v1/algorithm:641:\n",
      "  \u001b[31m   \u001b[0m In file included from /Library/Developer/CommandLineTools/usr/bin/../include/c++/v1/cstring:60:\n",
      "  \u001b[31m   \u001b[0m In file included from /Library/Developer/CommandLineTools/usr/bin/../include/c++/v1/string.h:60:\n",
      "  \u001b[31m   \u001b[0m In file included from /Library/Developer/CommandLineTools/SDKs/MacOSX10.15.sdk/usr/include/string.h:152:\n",
      "  \u001b[31m   \u001b[0m /Library/Developer/CommandLineTools/SDKs/MacOSX10.15.sdk/usr/include/sys/_types/_ssize_t.h:31:9: error: unknown type name '__darwin_ssize_t'; did you mean '__darwin_blksize_t'?\n",
      "  \u001b[31m   \u001b[0m typedef __darwin_ssize_t        ssize_t;\n",
      "  \u001b[31m   \u001b[0m         ^\n",
      "  \u001b[31m   \u001b[0m /Library/Developer/CommandLineTools/SDKs/MacOSX10.15.sdk/usr/include/sys/_types.h:56:25: note: '__darwin_blksize_t' declared here\n",
      "  \u001b[31m   \u001b[0m typedef __int32_t       __darwin_blksize_t;     /* preferred block size */\n",
      "  \u001b[31m   \u001b[0m                         ^\n",
      "  \u001b[31m   \u001b[0m fatal error: too many errors emitted, stopping now [-ferror-limit=]\n",
      "  \u001b[31m   \u001b[0m 20 errors generated.\n",
      "  \u001b[31m   \u001b[0m error: command '/usr/bin/clang' failed with exit code 1\n",
      "  \u001b[31m   \u001b[0m \u001b[31m[end of output]\u001b[0m\n",
      "  \n",
      "  \u001b[1;35mnote\u001b[0m: This error originates from a subprocess, and is likely not a problem with pip.\n",
      "\u001b[31m  ERROR: Failed building wheel for grpcio-tools\u001b[0m\u001b[31m\n",
      "\u001b[0m\u001b[?25h  Running setup.py clean for grpcio-tools\n"
     ]
    },
    {
     "name": "stdout",
     "output_type": "stream",
     "text": [
      "Failed to build grpcio grpcio-tools\r\n",
      "\u001b[31mERROR: Could not build wheels for grpcio, grpcio-tools, which is required to install pyproject.toml-based projects\u001b[0m\u001b[31m\r\n",
      "\u001b[0m"
     ]
    }
   ],
   "source": [
    "!pip install protobuf-compiler"
   ]
  },
  {
   "cell_type": "code",
   "execution_count": null,
   "metadata": {},
   "outputs": [],
   "source": [
    "pip install --upgrade pip"
   ]
  },
  {
   "cell_type": "code",
   "execution_count": null,
   "metadata": {
    "id": "rJjMHbnDs3Tv"
   },
   "outputs": [],
   "source": [
    "# Install Tensorflow Object Detection \n",
    "if os.name=='posix':  \n",
    "    !apt-get install protobuf-compiler\n",
    "    !cd Tensorflow/models/research && protoc object_detection/protos/*.proto --python_out=. && cp object_detection/packages/tf2/setup.py . && python -m pip install . \n",
    "    \n",
    "if os.name=='nt':\n",
    "    url=\"https://github.com/protocolbuffers/protobuf/releases/download/v3.15.6/protoc-3.15.6-win64.zip\"\n",
    "    wget.download(url)\n",
    "    !move protoc-3.15.6-win64.zip {paths['PROTOC_PATH']}\n",
    "    !cd {paths['PROTOC_PATH']} && tar -xf protoc-3.15.6-win64.zip\n",
    "    os.environ['PATH'] += os.pathsep + os.path.abspath(os.path.join(paths['PROTOC_PATH'], 'bin'))   \n",
    "    !cd Tensorflow/models/research && protoc object_detection/protos/*.proto --python_out=. && copy object_detection\\\\packages\\\\tf2\\\\setup.py setup.py && python setup.py build && python setup.py install\n",
    "    !cd Tensorflow/models/research/slim && pip install -e . "
   ]
  },
  {
   "cell_type": "code",
   "execution_count": 12,
   "metadata": {},
   "outputs": [
    {
     "name": "stdout",
     "output_type": "stream",
     "text": [
      "/usr/local/bin/brew\n"
     ]
    },
    {
     "name": "stderr",
     "output_type": "stream",
     "text": [
      "Warning: Running in non-interactive mode because `stdin` is not a TTY.\n",
      "Need sudo access on macOS (e.g. the user MohammadReza needs to be an Administrator)!\n"
     ]
    },
    {
     "name": "stdout",
     "output_type": "stream",
     "text": [
      "==> Checking for `sudo` access (which may request your password)...\n"
     ]
    },
    {
     "name": "stderr",
     "output_type": "stream",
     "text": [
      "Running `brew update --auto-update`...\n",
      "\u0007==> Homebrew collects anonymous analytics.\n",
      "Read the analytics documentation (and how to opt-out) here:\n",
      "  https://docs.brew.sh/Analytics\n",
      "No analytics have been recorded yet (nor will be during this `brew` run).\n",
      "\n",
      "==> Auto-updated Homebrew!\n",
      "Updated 2 taps (homebrew/core and homebrew/cask).\n",
      "==> New Formulae\n",
      "bacon\n",
      "bfs\n",
      "crystalline\n",
      "dysk\n",
      "erg\n",
      "govulncheck\n",
      "hoverfly\n",
      "ittapi\n",
      "killport\n",
      "libpanel\n",
      "libshumate\n",
      "llm\n",
      "mailpit\n",
      "mvfst\n",
      "pgrok\n",
      "plog\n",
      "pop\n",
      "prettierd\n",
      "python-cryptography\n",
      "quictls\n",
      "s3scanner\n",
      "sbom-tool\n",
      "solr@8.11\n",
      "sqlpage\n",
      "strip-nondeterminism\n",
      "terragrunt-atlantis-config\n",
      "tzdiff\n",
      "urlfinder\n",
      "webpod\n",
      "wget2\n",
      "wpscan\n",
      "xlsxio\n",
      "yyjson\n",
      "==> New Casks\n",
      "4k-video-downloaderplus\n",
      "bepo\n",
      "browser-deputy\n",
      "cilicon\n",
      "fedistar\n",
      "glaze\n",
      "herd\n",
      "jukebox\n",
      "keyclu\n",
      "lm-studio\n",
      "replay\n",
      "ripx\n",
      "sfm\n",
      "showmeyourhotkeys\n",
      "zspace\n",
      "\n",
      "You have 3 outdated formulae installed.\n",
      "\n",
      "Warning: protobuf 23.4 is already installed and up-to-date.\n",
      "To reinstall 23.4, run:\n",
      "  brew reinstall protobuf\n"
     ]
    },
    {
     "name": "stdout",
     "output_type": "stream",
     "text": [
      "Processing /Users/user/Desktop/Tensorflow Object Detection/TFODCourse/Tensorflow/models/research\n",
      "  Preparing metadata (setup.py): started\n",
      "  Preparing metadata (setup.py): finished with status 'done'\n",
      "Collecting avro-python3 (from object-detection==0.1)\n",
      "  Using cached avro_python3-1.10.2-py3-none-any.whl\n",
      "Collecting apache-beam (from object-detection==0.1)\n",
      "  Obtaining dependency information for apache-beam from https://files.pythonhosted.org/packages/0e/59/d6311d80886b9b009166d40da55a12689b163b7c567fdcac051a06290d4d/apache_beam-2.49.0-cp38-cp38-macosx_10_9_x86_64.whl.metadata\n",
      "  Downloading apache_beam-2.49.0-cp38-cp38-macosx_10_9_x86_64.whl.metadata (5.9 kB)\n",
      "Collecting pillow (from object-detection==0.1)\n",
      "  Obtaining dependency information for pillow from https://files.pythonhosted.org/packages/5a/29/aa1678cae507a480a6d75453c1de98940e5eb6bd8f0e8e8347ec29a4dfc0/Pillow-10.0.0-cp38-cp38-macosx_10_10_x86_64.whl.metadata\n",
      "  Downloading Pillow-10.0.0-cp38-cp38-macosx_10_10_x86_64.whl.metadata (9.5 kB)\n",
      "Requirement already satisfied: lxml in /Users/user/Desktop/Tensorflow Object Detection/TFODCourse/tfod/lib/python3.8/site-packages (from object-detection==0.1) (4.9.2)\n",
      "Collecting matplotlib (from object-detection==0.1)\n",
      "  Obtaining dependency information for matplotlib from https://files.pythonhosted.org/packages/b2/b6/c6596fbc30899e6da31450053054d7da61a21a3f510544fb7cb7658a3de3/matplotlib-3.7.2-cp38-cp38-macosx_10_12_x86_64.whl.metadata\n",
      "  Downloading matplotlib-3.7.2-cp38-cp38-macosx_10_12_x86_64.whl.metadata (5.6 kB)\n",
      "Requirement already satisfied: Cython in /Users/user/Desktop/Tensorflow Object Detection/TFODCourse/tfod/lib/python3.8/site-packages (from object-detection==0.1) (0.29.36)\n",
      "Collecting contextlib2 (from object-detection==0.1)\n",
      "  Using cached contextlib2-21.6.0-py2.py3-none-any.whl (13 kB)\n",
      "Collecting tf-slim (from object-detection==0.1)\n",
      "  Using cached tf_slim-1.1.0-py2.py3-none-any.whl (352 kB)\n",
      "Requirement already satisfied: six in /Users/user/Desktop/Tensorflow Object Detection/TFODCourse/tfod/lib/python3.8/site-packages (from object-detection==0.1) (1.16.0)\n",
      "Collecting pycocotools (from object-detection==0.1)\n",
      "  Using cached pycocotools-2.0.6.tar.gz (24 kB)\n",
      "  Installing build dependencies: started\n",
      "  Installing build dependencies: finished with status 'done'\n",
      "  Getting requirements to build wheel: started\n",
      "  Getting requirements to build wheel: finished with status 'done'\n",
      "  Preparing metadata (pyproject.toml): started\n",
      "  Preparing metadata (pyproject.toml): finished with status 'done'\n",
      "Collecting lvis (from object-detection==0.1)\n",
      "  Using cached lvis-0.5.3-py3-none-any.whl (14 kB)\n",
      "Collecting scipy (from object-detection==0.1)\n",
      "  Using cached scipy-1.10.1-cp38-cp38-macosx_10_9_x86_64.whl (35.0 MB)\n",
      "Requirement already satisfied: pandas in /Users/user/Desktop/Tensorflow Object Detection/TFODCourse/tfod/lib/python3.8/site-packages (from object-detection==0.1) (2.0.3)\n",
      "Collecting tf-models-official>=2.5.1 (from object-detection==0.1)\n",
      "  Obtaining dependency information for tf-models-official>=2.5.1 from https://files.pythonhosted.org/packages/c9/c6/881f37a807affc009ccf84dfd9964b622e91e664f23a1cec1e443aa66ed1/tf_models_official-2.13.1-py2.py3-none-any.whl.metadata\n",
      "  Downloading tf_models_official-2.13.1-py2.py3-none-any.whl.metadata (1.4 kB)\n",
      "Collecting tensorflow_io (from object-detection==0.1)\n",
      "  Obtaining dependency information for tensorflow_io from https://files.pythonhosted.org/packages/bc/02/478a9c80980d02f5bcc2a89b4753d5f8f96aef3efbe4cc781c6014685dff/tensorflow_io-0.33.0-cp38-cp38-macosx_10_14_x86_64.whl.metadata\n",
      "  Downloading tensorflow_io-0.33.0-cp38-cp38-macosx_10_14_x86_64.whl.metadata (14 kB)\n",
      "Requirement already satisfied: keras in /Users/user/Desktop/Tensorflow Object Detection/TFODCourse/tfod/lib/python3.8/site-packages (from object-detection==0.1) (2.13.1)\n",
      "Collecting pyparsing==2.4.7 (from object-detection==0.1)\n",
      "  Using cached pyparsing-2.4.7-py2.py3-none-any.whl (67 kB)\n",
      "Collecting sacrebleu<=2.2.0 (from object-detection==0.1)\n",
      "  Using cached sacrebleu-2.2.0-py3-none-any.whl (116 kB)\n",
      "Collecting portalocker (from sacrebleu<=2.2.0->object-detection==0.1)\n",
      "  Using cached portalocker-2.7.0-py2.py3-none-any.whl (15 kB)\n",
      "Collecting regex (from sacrebleu<=2.2.0->object-detection==0.1)\n",
      "  Obtaining dependency information for regex from https://files.pythonhosted.org/packages/84/e7/2ae56083cd0da3da1fe79d61fe4fe6e3ab5f114660a751fecefa77a78225/regex-2023.6.3-cp38-cp38-macosx_10_9_x86_64.whl.metadata\n",
      "  Downloading regex-2023.6.3-cp38-cp38-macosx_10_9_x86_64.whl.metadata (40 kB)\n",
      "\u001b[2K     \u001b[90m━━━━━━━━━━━━━━━━━━━━━━━━━━━━━━━━━━━━━━━━\u001b[0m \u001b[32m40.9/40.9 kB\u001b[0m \u001b[31m1.8 MB/s\u001b[0m eta \u001b[36m0:00:00\u001b[0m\n",
      "\u001b[?25hCollecting tabulate>=0.8.9 (from sacrebleu<=2.2.0->object-detection==0.1)\n",
      "  Using cached tabulate-0.9.0-py3-none-any.whl (35 kB)\n",
      "Requirement already satisfied: numpy>=1.17 in /Users/user/Desktop/Tensorflow Object Detection/TFODCourse/tfod/lib/python3.8/site-packages (from sacrebleu<=2.2.0->object-detection==0.1) (1.24.3)\n",
      "Collecting colorama (from sacrebleu<=2.2.0->object-detection==0.1)\n",
      "  Using cached colorama-0.4.6-py2.py3-none-any.whl (25 kB)\n",
      "Collecting gin-config (from tf-models-official>=2.5.1->object-detection==0.1)\n",
      "  Using cached gin_config-0.5.0-py3-none-any.whl (61 kB)\n",
      "Collecting google-api-python-client>=1.6.7 (from tf-models-official>=2.5.1->object-detection==0.1)\n",
      "  Obtaining dependency information for google-api-python-client>=1.6.7 from https://files.pythonhosted.org/packages/00/6f/e9c8900c0be46fcacd0d7a6702833ebd47befddd7d5ca4f1cac0551de774/google_api_python_client-2.95.0-py2.py3-none-any.whl.metadata\n",
      "  Downloading google_api_python_client-2.95.0-py2.py3-none-any.whl.metadata (6.6 kB)\n",
      "Collecting immutabledict (from tf-models-official>=2.5.1->object-detection==0.1)\n",
      "  Obtaining dependency information for immutabledict from https://files.pythonhosted.org/packages/df/ef/e038d0d7cd1954c46402a0c27794dd93982c40632085046efb6ab8aa6c1d/immutabledict-3.0.0-py3-none-any.whl.metadata\n",
      "  Downloading immutabledict-3.0.0-py3-none-any.whl.metadata (3.1 kB)\n",
      "Collecting kaggle>=1.3.9 (from tf-models-official>=2.5.1->object-detection==0.1)\n",
      "  Using cached kaggle-1.5.16-py3-none-any.whl\n",
      "Collecting oauth2client (from tf-models-official>=2.5.1->object-detection==0.1)\n",
      "  Using cached oauth2client-4.1.3-py2.py3-none-any.whl (98 kB)\n",
      "Collecting opencv-python-headless (from tf-models-official>=2.5.1->object-detection==0.1)\n",
      "  Using cached opencv-python-headless-4.8.0.74.tar.gz (92.1 MB)\n",
      "  Installing build dependencies: started\n",
      "  Installing build dependencies: finished with status 'done'\n",
      "  Getting requirements to build wheel: started\n",
      "  Getting requirements to build wheel: finished with status 'done'\n",
      "  Preparing metadata (pyproject.toml): started\n",
      "  Preparing metadata (pyproject.toml): finished with status 'done'\n",
      "Requirement already satisfied: psutil>=5.4.3 in /Users/user/Desktop/Tensorflow Object Detection/TFODCourse/tfod/lib/python3.8/site-packages (from tf-models-official>=2.5.1->object-detection==0.1) (5.9.5)\n",
      "Collecting py-cpuinfo>=3.3.0 (from tf-models-official>=2.5.1->object-detection==0.1)\n",
      "  Using cached py_cpuinfo-9.0.0-py3-none-any.whl (22 kB)\n",
      "Collecting pyyaml<5.4.0,>=5.1 (from tf-models-official>=2.5.1->object-detection==0.1)\n",
      "  Using cached PyYAML-5.3.1-cp38-cp38-macosx_10_14_x86_64.whl\n",
      "Collecting sentencepiece (from tf-models-official>=2.5.1->object-detection==0.1)\n",
      "  Using cached sentencepiece-0.1.99-cp38-cp38-macosx_10_9_x86_64.whl (1.2 MB)\n",
      "Collecting seqeval (from tf-models-official>=2.5.1->object-detection==0.1)\n",
      "  Using cached seqeval-1.2.2.tar.gz (43 kB)\n",
      "  Preparing metadata (setup.py): started\n",
      "  Preparing metadata (setup.py): finished with status 'done'\n",
      "Collecting tensorflow-datasets (from tf-models-official>=2.5.1->object-detection==0.1)\n",
      "  Using cached tensorflow_datasets-4.9.2-py3-none-any.whl (5.4 MB)\n",
      "Collecting tensorflow-hub>=0.6.0 (from tf-models-official>=2.5.1->object-detection==0.1)\n",
      "  Obtaining dependency information for tensorflow-hub>=0.6.0 from https://files.pythonhosted.org/packages/30/78/9d5292a2b616901bdb075bbf0c777b293f4140bb48108ac2b33fd716c2eb/tensorflow_hub-0.14.0-py2.py3-none-any.whl.metadata\n",
      "  Downloading tensorflow_hub-0.14.0-py2.py3-none-any.whl.metadata (1.4 kB)\n"
     ]
    },
    {
     "name": "stdout",
     "output_type": "stream",
     "text": [
      "Collecting tensorflow-model-optimization>=0.4.1 (from tf-models-official>=2.5.1->object-detection==0.1)\n",
      "  Obtaining dependency information for tensorflow-model-optimization>=0.4.1 from https://files.pythonhosted.org/packages/cf/8b/a63b45b3f53947bda130f5feb28e88d20b6b0306ed02150399e43356b057/tensorflow_model_optimization-0.7.5-py2.py3-none-any.whl.metadata\n",
      "  Downloading tensorflow_model_optimization-0.7.5-py2.py3-none-any.whl.metadata (914 bytes)\n",
      "Collecting tensorflow-text~=2.13.0 (from tf-models-official>=2.5.1->object-detection==0.1)\n",
      "  Obtaining dependency information for tensorflow-text~=2.13.0 from https://files.pythonhosted.org/packages/8b/be/299ebf409aea1f16bc193372f8dfa499b423ab99678783c9ae13759f8039/tensorflow_text-2.13.0-cp38-cp38-macosx_10_9_x86_64.whl.metadata\n",
      "  Downloading tensorflow_text-2.13.0-cp38-cp38-macosx_10_9_x86_64.whl.metadata (2.0 kB)\n",
      "Requirement already satisfied: tensorflow~=2.13.0 in /Users/user/Desktop/Tensorflow Object Detection/TFODCourse/tfod/lib/python3.8/site-packages (from tf-models-official>=2.5.1->object-detection==0.1) (2.13.0)\n",
      "Requirement already satisfied: python-dateutil>=2.8.2 in /Users/user/Desktop/Tensorflow Object Detection/TFODCourse/tfod/lib/python3.8/site-packages (from pandas->object-detection==0.1) (2.8.2)\n",
      "Requirement already satisfied: pytz>=2020.1 in /Users/user/Desktop/Tensorflow Object Detection/TFODCourse/tfod/lib/python3.8/site-packages (from pandas->object-detection==0.1) (2023.3)\n",
      "Requirement already satisfied: tzdata>=2022.1 in /Users/user/Desktop/Tensorflow Object Detection/TFODCourse/tfod/lib/python3.8/site-packages (from pandas->object-detection==0.1) (2023.3)\n",
      "Requirement already satisfied: absl-py>=0.2.2 in /Users/user/Desktop/Tensorflow Object Detection/TFODCourse/tfod/lib/python3.8/site-packages (from tf-slim->object-detection==0.1) (1.4.0)\n",
      "Collecting crcmod<2.0,>=1.7 (from apache-beam->object-detection==0.1)\n",
      "  Using cached crcmod-1.7-py3-none-any.whl\n",
      "Collecting orjson<4.0 (from apache-beam->object-detection==0.1)\n",
      "  Obtaining dependency information for orjson<4.0 from https://files.pythonhosted.org/packages/c3/7e/99844f3017393be2d2a47587c58cfcda959df8f1fbc3be286d9aac09defc/orjson-3.9.2-cp38-cp38-macosx_10_15_x86_64.macosx_11_0_arm64.macosx_10_15_universal2.whl.metadata\n",
      "  Downloading orjson-3.9.2-cp38-cp38-macosx_10_15_x86_64.macosx_11_0_arm64.macosx_10_15_universal2.whl.metadata (49 kB)\n",
      "\u001b[2K     \u001b[90m━━━━━━━━━━━━━━━━━━━━━━━━━━━━━━━━━━━━━━━━\u001b[0m \u001b[32m49.2/49.2 kB\u001b[0m \u001b[31m48.1 kB/s\u001b[0m eta \u001b[36m0:00:00\u001b[0ma \u001b[36m0:00:01\u001b[0m\n",
      "\u001b[?25hCollecting dill<0.3.2,>=0.3.1.1 (from apache-beam->object-detection==0.1)\n",
      "  Using cached dill-0.3.1.1-py3-none-any.whl\n",
      "Collecting cloudpickle~=2.2.1 (from apache-beam->object-detection==0.1)\n",
      "  Using cached cloudpickle-2.2.1-py3-none-any.whl (25 kB)\n",
      "Collecting fastavro<2,>=0.23.6 (from apache-beam->object-detection==0.1)\n",
      "  Using cached fastavro-1.8.2.tar.gz (795 kB)\n",
      "  Installing build dependencies: started\n",
      "  Installing build dependencies: finished with status 'done'\n",
      "  Getting requirements to build wheel: started\n",
      "  Getting requirements to build wheel: finished with status 'done'\n",
      "  Preparing metadata (pyproject.toml): started\n",
      "  Preparing metadata (pyproject.toml): finished with status 'done'\n",
      "Collecting fasteners<1.0,>=0.3 (from apache-beam->object-detection==0.1)\n",
      "  Using cached fasteners-0.18-py3-none-any.whl (18 kB)\n",
      "Requirement already satisfied: grpcio!=1.48.0,<2,>=1.33.1 in /Users/user/Desktop/Tensorflow Object Detection/TFODCourse/tfod/lib/python3.8/site-packages (from apache-beam->object-detection==0.1) (1.56.0)\n",
      "Collecting hdfs<3.0.0,>=2.1.0 (from apache-beam->object-detection==0.1)\n",
      "  Using cached hdfs-2.7.0-py3-none-any.whl (34 kB)\n",
      "Collecting httplib2<0.23.0,>=0.8 (from apache-beam->object-detection==0.1)\n",
      "  Using cached httplib2-0.22.0-py3-none-any.whl (96 kB)\n",
      "Collecting objsize<0.7.0,>=0.6.1 (from apache-beam->object-detection==0.1)\n",
      "  Using cached objsize-0.6.1-py3-none-any.whl (9.3 kB)\n",
      "Collecting pymongo<5.0.0,>=3.8.0 (from apache-beam->object-detection==0.1)\n",
      "  Obtaining dependency information for pymongo<5.0.0,>=3.8.0 from https://files.pythonhosted.org/packages/83/65/7caa0a8a878ee99683b6d865d83e2ae19466af23295e99b25ec8bed12002/pymongo-4.4.1-cp38-cp38-macosx_10_9_x86_64.whl.metadata\n",
      "  Downloading pymongo-4.4.1-cp38-cp38-macosx_10_9_x86_64.whl.metadata (8.9 kB)\n",
      "Collecting proto-plus<2,>=1.7.1 (from apache-beam->object-detection==0.1)\n",
      "  Obtaining dependency information for proto-plus<2,>=1.7.1 from https://files.pythonhosted.org/packages/36/5b/e02636d221917d6fa2a61289b3f16002eb4c93d51c0191ac8e896d527182/proto_plus-1.22.3-py3-none-any.whl.metadata\n",
      "  Downloading proto_plus-1.22.3-py3-none-any.whl.metadata (2.2 kB)\n",
      "Requirement already satisfied: protobuf<4.24.0,>=3.20.3 in /Users/user/Desktop/Tensorflow Object Detection/TFODCourse/tfod/lib/python3.8/site-packages (from apache-beam->object-detection==0.1) (4.23.4)\n",
      "Collecting pydot<2,>=1.2.0 (from apache-beam->object-detection==0.1)\n",
      "  Using cached pydot-1.4.2-py2.py3-none-any.whl (21 kB)\n",
      "Requirement already satisfied: requests<3.0.0,>=2.24.0 in /Users/user/Desktop/Tensorflow Object Detection/TFODCourse/tfod/lib/python3.8/site-packages (from apache-beam->object-detection==0.1) (2.31.0)\n",
      "Requirement already satisfied: typing-extensions>=3.7.0 in /Users/user/Desktop/Tensorflow Object Detection/TFODCourse/tfod/lib/python3.8/site-packages (from apache-beam->object-detection==0.1) (4.5.0)\n",
      "Collecting zstandard<1,>=0.18.0 (from apache-beam->object-detection==0.1)\n",
      "  Using cached zstandard-0.21.0-cp38-cp38-macosx_10_9_x86_64.whl (473 kB)\n",
      "Collecting pyarrow<12.0.0,>=3.0.0 (from apache-beam->object-detection==0.1)\n",
      "  Using cached pyarrow-11.0.0-cp38-cp38-macosx_10_14_x86_64.whl (24.4 MB)\n",
      "Collecting cycler>=0.10.0 (from lvis->object-detection==0.1)\n",
      "  Using cached cycler-0.11.0-py3-none-any.whl (6.4 kB)\n",
      "Collecting kiwisolver>=1.1.0 (from lvis->object-detection==0.1)\n",
      "  Using cached kiwisolver-1.4.4-cp38-cp38-macosx_10_9_x86_64.whl (65 kB)\n",
      "Requirement already satisfied: opencv-python>=4.1.0.25 in /Users/user/Desktop/Tensorflow Object Detection/TFODCourse/tfod/lib/python3.8/site-packages (from lvis->object-detection==0.1) (4.8.0.74)\n",
      "Collecting contourpy>=1.0.1 (from matplotlib->object-detection==0.1)\n",
      "  Obtaining dependency information for contourpy>=1.0.1 from https://files.pythonhosted.org/packages/ff/dd/5d44bc3a5993c25b75b7aef4f810ebd74ef9057dd2a4eab37eba240ee401/contourpy-1.1.0-cp38-cp38-macosx_10_9_x86_64.whl.metadata\n",
      "  Downloading contourpy-1.1.0-cp38-cp38-macosx_10_9_x86_64.whl.metadata (5.7 kB)\n",
      "Collecting fonttools>=4.22.0 (from matplotlib->object-detection==0.1)\n",
      "  Obtaining dependency information for fonttools>=4.22.0 from https://files.pythonhosted.org/packages/e7/d3/af9167ba077c2b8f4b1468e635dbf53298efbe38c89dab6f1e5f3f6db44d/fonttools-4.42.0-cp38-cp38-macosx_10_9_x86_64.whl.metadata\n",
      "  Downloading fonttools-4.42.0-cp38-cp38-macosx_10_9_x86_64.whl.metadata (150 kB)\n",
      "\u001b[2K     \u001b[90m━━━━━━━━━━━━━━━━━━━━━━━━━━━━━━━━━━━━━━━\u001b[0m \u001b[32m150.6/150.6 kB\u001b[0m \u001b[31m3.2 MB/s\u001b[0m eta \u001b[36m0:00:00\u001b[0ma \u001b[36m0:00:01\u001b[0m\n",
      "\u001b[?25hRequirement already satisfied: packaging>=20.0 in /Users/user/Desktop/Tensorflow Object Detection/TFODCourse/tfod/lib/python3.8/site-packages (from matplotlib->object-detection==0.1) (23.1)\n",
      "Requirement already satisfied: importlib-resources>=3.2.0 in /Users/user/Desktop/Tensorflow Object Detection/TFODCourse/tfod/lib/python3.8/site-packages (from matplotlib->object-detection==0.1) (5.12.0)\n",
      "Collecting tensorflow-io-gcs-filesystem==0.33.0 (from tensorflow_io->object-detection==0.1)\n",
      "  Obtaining dependency information for tensorflow-io-gcs-filesystem==0.33.0 from https://files.pythonhosted.org/packages/43/31/4317d10d7065c96a64ed12a5374f493a9eeff70908b46281fbe9e87074bd/tensorflow_io_gcs_filesystem-0.33.0-cp38-cp38-macosx_10_14_x86_64.whl.metadata\n",
      "  Downloading tensorflow_io_gcs_filesystem-0.33.0-cp38-cp38-macosx_10_14_x86_64.whl.metadata (14 kB)\n",
      "Requirement already satisfied: google-auth<3.0.0.dev0,>=1.19.0 in /Users/user/Desktop/Tensorflow Object Detection/TFODCourse/tfod/lib/python3.8/site-packages (from google-api-python-client>=1.6.7->tf-models-official>=2.5.1->object-detection==0.1) (2.21.0)\n",
      "Collecting google-auth-httplib2>=0.1.0 (from google-api-python-client>=1.6.7->tf-models-official>=2.5.1->object-detection==0.1)\n",
      "  Using cached google_auth_httplib2-0.1.0-py2.py3-none-any.whl (9.3 kB)\n"
     ]
    },
    {
     "name": "stdout",
     "output_type": "stream",
     "text": [
      "Collecting google-api-core!=2.0.*,!=2.1.*,!=2.2.*,!=2.3.0,<3.0.0.dev0,>=1.31.5 (from google-api-python-client>=1.6.7->tf-models-official>=2.5.1->object-detection==0.1)\n",
      "  Obtaining dependency information for google-api-core!=2.0.*,!=2.1.*,!=2.2.*,!=2.3.0,<3.0.0.dev0,>=1.31.5 from https://files.pythonhosted.org/packages/6e/c4/c3cd048b6cbeba8d9ae50dd7643ac065b85237338aa7501b0efae91eb4d9/google_api_core-2.11.1-py3-none-any.whl.metadata\n",
      "  Downloading google_api_core-2.11.1-py3-none-any.whl.metadata (2.7 kB)\n",
      "Collecting uritemplate<5,>=3.0.1 (from google-api-python-client>=1.6.7->tf-models-official>=2.5.1->object-detection==0.1)\n",
      "  Using cached uritemplate-4.1.1-py2.py3-none-any.whl (10 kB)\n",
      "Collecting docopt (from hdfs<3.0.0,>=2.1.0->apache-beam->object-detection==0.1)\n",
      "  Using cached docopt-0.6.2.tar.gz (25 kB)\n",
      "  Preparing metadata (setup.py): started\n",
      "  Preparing metadata (setup.py): finished with status 'done'\n",
      "Requirement already satisfied: zipp>=3.1.0 in /Users/user/Desktop/Tensorflow Object Detection/TFODCourse/tfod/lib/python3.8/site-packages (from importlib-resources>=3.2.0->matplotlib->object-detection==0.1) (3.15.0)\n",
      "Requirement already satisfied: certifi in /Users/user/Library/Python/3.8/lib/python/site-packages (from kaggle>=1.3.9->tf-models-official>=2.5.1->object-detection==0.1) (2023.5.7)\n",
      "Collecting tqdm (from kaggle>=1.3.9->tf-models-official>=2.5.1->object-detection==0.1)\n",
      "  Using cached tqdm-4.65.0-py3-none-any.whl (77 kB)\n",
      "Collecting python-slugify (from kaggle>=1.3.9->tf-models-official>=2.5.1->object-detection==0.1)\n",
      "  Using cached python_slugify-8.0.1-py2.py3-none-any.whl (9.7 kB)\n",
      "Requirement already satisfied: urllib3 in /Users/user/Desktop/Tensorflow Object Detection/TFODCourse/tfod/lib/python3.8/site-packages (from kaggle>=1.3.9->tf-models-official>=2.5.1->object-detection==0.1) (1.26.16)\n",
      "Requirement already satisfied: bleach in /Users/user/Desktop/Tensorflow Object Detection/TFODCourse/tfod/lib/python3.8/site-packages (from kaggle>=1.3.9->tf-models-official>=2.5.1->object-detection==0.1) (6.0.0)\n",
      "Collecting dnspython<3.0.0,>=1.16.0 (from pymongo<5.0.0,>=3.8.0->apache-beam->object-detection==0.1)\n",
      "  Obtaining dependency information for dnspython<3.0.0,>=1.16.0 from https://files.pythonhosted.org/packages/71/30/deee2ffb94194437c730a1c6230d9310ab5f73926a2549cdab91453616bb/dnspython-2.4.1-py3-none-any.whl.metadata\n",
      "  Downloading dnspython-2.4.1-py3-none-any.whl.metadata (4.9 kB)\n",
      "Requirement already satisfied: charset-normalizer<4,>=2 in /Users/user/Desktop/Tensorflow Object Detection/TFODCourse/tfod/lib/python3.8/site-packages (from requests<3.0.0,>=2.24.0->apache-beam->object-detection==0.1) (3.2.0)\n",
      "Requirement already satisfied: idna<4,>=2.5 in /Users/user/Desktop/Tensorflow Object Detection/TFODCourse/tfod/lib/python3.8/site-packages (from requests<3.0.0,>=2.24.0->apache-beam->object-detection==0.1) (3.4)\n",
      "Requirement already satisfied: astunparse>=1.6.0 in /Users/user/Desktop/Tensorflow Object Detection/TFODCourse/tfod/lib/python3.8/site-packages (from tensorflow~=2.13.0->tf-models-official>=2.5.1->object-detection==0.1) (1.6.3)\n",
      "Requirement already satisfied: flatbuffers>=23.1.21 in /Users/user/Desktop/Tensorflow Object Detection/TFODCourse/tfod/lib/python3.8/site-packages (from tensorflow~=2.13.0->tf-models-official>=2.5.1->object-detection==0.1) (23.5.26)\n",
      "Requirement already satisfied: gast<=0.4.0,>=0.2.1 in /Users/user/Desktop/Tensorflow Object Detection/TFODCourse/tfod/lib/python3.8/site-packages (from tensorflow~=2.13.0->tf-models-official>=2.5.1->object-detection==0.1) (0.4.0)\n",
      "Requirement already satisfied: google-pasta>=0.1.1 in /Users/user/Desktop/Tensorflow Object Detection/TFODCourse/tfod/lib/python3.8/site-packages (from tensorflow~=2.13.0->tf-models-official>=2.5.1->object-detection==0.1) (0.2.0)\n",
      "Requirement already satisfied: h5py>=2.9.0 in /Users/user/Desktop/Tensorflow Object Detection/TFODCourse/tfod/lib/python3.8/site-packages (from tensorflow~=2.13.0->tf-models-official>=2.5.1->object-detection==0.1) (3.9.0)\n",
      "Requirement already satisfied: libclang>=13.0.0 in /Users/user/Desktop/Tensorflow Object Detection/TFODCourse/tfod/lib/python3.8/site-packages (from tensorflow~=2.13.0->tf-models-official>=2.5.1->object-detection==0.1) (16.0.0)\n",
      "Requirement already satisfied: opt-einsum>=2.3.2 in /Users/user/Desktop/Tensorflow Object Detection/TFODCourse/tfod/lib/python3.8/site-packages (from tensorflow~=2.13.0->tf-models-official>=2.5.1->object-detection==0.1) (3.3.0)\n",
      "Requirement already satisfied: setuptools in /Users/user/Desktop/Tensorflow Object Detection/TFODCourse/tfod/lib/python3.8/site-packages (from tensorflow~=2.13.0->tf-models-official>=2.5.1->object-detection==0.1) (68.0.0)\n",
      "Requirement already satisfied: termcolor>=1.1.0 in /Users/user/Desktop/Tensorflow Object Detection/TFODCourse/tfod/lib/python3.8/site-packages (from tensorflow~=2.13.0->tf-models-official>=2.5.1->object-detection==0.1) (2.3.0)\n",
      "Requirement already satisfied: wrapt>=1.11.0 in /Users/user/Desktop/Tensorflow Object Detection/TFODCourse/tfod/lib/python3.8/site-packages (from tensorflow~=2.13.0->tf-models-official>=2.5.1->object-detection==0.1) (1.15.0)\n",
      "Requirement already satisfied: tensorboard<2.14,>=2.13 in /Users/user/Desktop/Tensorflow Object Detection/TFODCourse/tfod/lib/python3.8/site-packages (from tensorflow~=2.13.0->tf-models-official>=2.5.1->object-detection==0.1) (2.13.0)\n",
      "Requirement already satisfied: tensorflow-estimator<2.14,>=2.13.0 in /Users/user/Desktop/Tensorflow Object Detection/TFODCourse/tfod/lib/python3.8/site-packages (from tensorflow~=2.13.0->tf-models-official>=2.5.1->object-detection==0.1) (2.13.0)\n",
      "Collecting dm-tree~=0.1.1 (from tensorflow-model-optimization>=0.4.1->tf-models-official>=2.5.1->object-detection==0.1)\n",
      "  Using cached dm_tree-0.1.8-cp38-cp38-macosx_10_9_x86_64.whl (115 kB)\n",
      "Requirement already satisfied: pyasn1>=0.1.7 in /Users/user/Desktop/Tensorflow Object Detection/TFODCourse/tfod/lib/python3.8/site-packages (from oauth2client->tf-models-official>=2.5.1->object-detection==0.1) (0.5.0)\n",
      "Requirement already satisfied: pyasn1-modules>=0.0.5 in /Users/user/Desktop/Tensorflow Object Detection/TFODCourse/tfod/lib/python3.8/site-packages (from oauth2client->tf-models-official>=2.5.1->object-detection==0.1) (0.3.0)\n",
      "Requirement already satisfied: rsa>=3.1.4 in /Users/user/Desktop/Tensorflow Object Detection/TFODCourse/tfod/lib/python3.8/site-packages (from oauth2client->tf-models-official>=2.5.1->object-detection==0.1) (4.9)\n",
      "Collecting scikit-learn>=0.21.3 (from seqeval->tf-models-official>=2.5.1->object-detection==0.1)\n",
      "  Obtaining dependency information for scikit-learn>=0.21.3 from https://files.pythonhosted.org/packages/33/cb/0e41fad5b30fd66925e47952ddc720d078bdfd8397584a4873ec1cf590ca/scikit_learn-1.3.0-cp38-cp38-macosx_10_9_x86_64.whl.metadata\n",
      "  Downloading scikit_learn-1.3.0-cp38-cp38-macosx_10_9_x86_64.whl.metadata (11 kB)\n",
      "Collecting array-record (from tensorflow-datasets->tf-models-official>=2.5.1->object-detection==0.1)\n",
      "  Obtaining dependency information for array-record from https://files.pythonhosted.org/packages/8f/d7/c561a3ee49d837478a78639502e8f21f52879d8d56b74fed3e30275836ea/array_record-0.4.0-py38-none-any.whl.metadata\n",
      "  Downloading array_record-0.4.0-py38-none-any.whl.metadata (502 bytes)\n",
      "Collecting click (from tensorflow-datasets->tf-models-official>=2.5.1->object-detection==0.1)\n",
      "  Obtaining dependency information for click from https://files.pythonhosted.org/packages/1a/70/e63223f8116931d365993d4a6b7ef653a4d920b41d03de7c59499962821f/click-8.1.6-py3-none-any.whl.metadata\n",
      "  Downloading click-8.1.6-py3-none-any.whl.metadata (3.0 kB)\n",
      "Collecting etils[enp,epath]>=0.9.0 (from tensorflow-datasets->tf-models-official>=2.5.1->object-detection==0.1)\n",
      "  Obtaining dependency information for etils[enp,epath]>=0.9.0 from https://files.pythonhosted.org/packages/ca/db/47ffb866d7a1aa21132a72f67e84c4f03a4cad11ae9d069dd61c52f929de/etils-1.3.0-py3-none-any.whl.metadata\n",
      "  Downloading etils-1.3.0-py3-none-any.whl.metadata (5.5 kB)\n",
      "Collecting promise (from tensorflow-datasets->tf-models-official>=2.5.1->object-detection==0.1)\n",
      "  Using cached promise-2.3.tar.gz (19 kB)\n",
      "  Preparing metadata (setup.py): started\n",
      "  Preparing metadata (setup.py): finished with status 'done'\n",
      "Collecting tensorflow-metadata (from tensorflow-datasets->tf-models-official>=2.5.1->object-detection==0.1)\n",
      "  Using cached tensorflow_metadata-1.13.1-py3-none-any.whl (28 kB)\n",
      "Collecting toml (from tensorflow-datasets->tf-models-official>=2.5.1->object-detection==0.1)\n",
      "  Using cached toml-0.10.2-py2.py3-none-any.whl (16 kB)\n",
      "Requirement already satisfied: wheel<1.0,>=0.23.0 in /Users/user/Desktop/Tensorflow Object Detection/TFODCourse/tfod/lib/python3.8/site-packages (from astunparse>=1.6.0->tensorflow~=2.13.0->tf-models-official>=2.5.1->object-detection==0.1) (0.40.0)\n"
     ]
    },
    {
     "name": "stdout",
     "output_type": "stream",
     "text": [
      "Collecting googleapis-common-protos<2.0.dev0,>=1.56.2 (from google-api-core!=2.0.*,!=2.1.*,!=2.2.*,!=2.3.0,<3.0.0.dev0,>=1.31.5->google-api-python-client>=1.6.7->tf-models-official>=2.5.1->object-detection==0.1)\n",
      "  Obtaining dependency information for googleapis-common-protos<2.0.dev0,>=1.56.2 from https://files.pythonhosted.org/packages/a7/bc/416a1ffeba4dcd072bc10523dac9ed97f2e7fc4b760580e2bdbdc1e2afdd/googleapis_common_protos-1.60.0-py2.py3-none-any.whl.metadata\n",
      "  Downloading googleapis_common_protos-1.60.0-py2.py3-none-any.whl.metadata (1.5 kB)\n",
      "Requirement already satisfied: cachetools<6.0,>=2.0.0 in /Users/user/Desktop/Tensorflow Object Detection/TFODCourse/tfod/lib/python3.8/site-packages (from google-auth<3.0.0.dev0,>=1.19.0->google-api-python-client>=1.6.7->tf-models-official>=2.5.1->object-detection==0.1) (5.3.1)\n",
      "Collecting joblib>=1.1.1 (from scikit-learn>=0.21.3->seqeval->tf-models-official>=2.5.1->object-detection==0.1)\n",
      "  Obtaining dependency information for joblib>=1.1.1 from https://files.pythonhosted.org/packages/28/08/9dcdaa5aac4634e4c23af26d92121f7ce445c630efa0d3037881ae2407fb/joblib-1.3.1-py3-none-any.whl.metadata\n",
      "  Downloading joblib-1.3.1-py3-none-any.whl.metadata (5.4 kB)\n",
      "Collecting threadpoolctl>=2.0.0 (from scikit-learn>=0.21.3->seqeval->tf-models-official>=2.5.1->object-detection==0.1)\n",
      "  Obtaining dependency information for threadpoolctl>=2.0.0 from https://files.pythonhosted.org/packages/81/12/fd4dea011af9d69e1cad05c75f3f7202cdcbeac9b712eea58ca779a72865/threadpoolctl-3.2.0-py3-none-any.whl.metadata\n",
      "  Downloading threadpoolctl-3.2.0-py3-none-any.whl.metadata (10.0 kB)\n",
      "Requirement already satisfied: google-auth-oauthlib<1.1,>=0.5 in /Users/user/Desktop/Tensorflow Object Detection/TFODCourse/tfod/lib/python3.8/site-packages (from tensorboard<2.14,>=2.13->tensorflow~=2.13.0->tf-models-official>=2.5.1->object-detection==0.1) (1.0.0)\n",
      "Requirement already satisfied: markdown>=2.6.8 in /Users/user/Desktop/Tensorflow Object Detection/TFODCourse/tfod/lib/python3.8/site-packages (from tensorboard<2.14,>=2.13->tensorflow~=2.13.0->tf-models-official>=2.5.1->object-detection==0.1) (3.4.3)\n",
      "Requirement already satisfied: tensorboard-data-server<0.8.0,>=0.7.0 in /Users/user/Desktop/Tensorflow Object Detection/TFODCourse/tfod/lib/python3.8/site-packages (from tensorboard<2.14,>=2.13->tensorflow~=2.13.0->tf-models-official>=2.5.1->object-detection==0.1) (0.7.1)\n",
      "Requirement already satisfied: werkzeug>=1.0.1 in /Users/user/Desktop/Tensorflow Object Detection/TFODCourse/tfod/lib/python3.8/site-packages (from tensorboard<2.14,>=2.13->tensorflow~=2.13.0->tf-models-official>=2.5.1->object-detection==0.1) (2.3.6)\n",
      "Requirement already satisfied: webencodings in /Users/user/Desktop/Tensorflow Object Detection/TFODCourse/tfod/lib/python3.8/site-packages (from bleach->kaggle>=1.3.9->tf-models-official>=2.5.1->object-detection==0.1) (0.5.1)\n",
      "Collecting text-unidecode>=1.3 (from python-slugify->kaggle>=1.3.9->tf-models-official>=2.5.1->object-detection==0.1)\n",
      "  Using cached text_unidecode-1.3-py2.py3-none-any.whl (78 kB)\n",
      "Requirement already satisfied: requests-oauthlib>=0.7.0 in /Users/user/Desktop/Tensorflow Object Detection/TFODCourse/tfod/lib/python3.8/site-packages (from google-auth-oauthlib<1.1,>=0.5->tensorboard<2.14,>=2.13->tensorflow~=2.13.0->tf-models-official>=2.5.1->object-detection==0.1) (1.3.1)\n",
      "Requirement already satisfied: importlib-metadata>=4.4 in /Users/user/Desktop/Tensorflow Object Detection/TFODCourse/tfod/lib/python3.8/site-packages (from markdown>=2.6.8->tensorboard<2.14,>=2.13->tensorflow~=2.13.0->tf-models-official>=2.5.1->object-detection==0.1) (6.7.0)\n",
      "Requirement already satisfied: MarkupSafe>=2.1.1 in /Users/user/Desktop/Tensorflow Object Detection/TFODCourse/tfod/lib/python3.8/site-packages (from werkzeug>=1.0.1->tensorboard<2.14,>=2.13->tensorflow~=2.13.0->tf-models-official>=2.5.1->object-detection==0.1) (2.1.3)\n",
      "Requirement already satisfied: oauthlib>=3.0.0 in /Users/user/Desktop/Tensorflow Object Detection/TFODCourse/tfod/lib/python3.8/site-packages (from requests-oauthlib>=0.7.0->google-auth-oauthlib<1.1,>=0.5->tensorboard<2.14,>=2.13->tensorflow~=2.13.0->tf-models-official>=2.5.1->object-detection==0.1) (3.2.2)\n",
      "Using cached tf_models_official-2.13.1-py2.py3-none-any.whl (2.6 MB)\n",
      "Using cached apache_beam-2.49.0-cp38-cp38-macosx_10_9_x86_64.whl (5.4 MB)\n",
      "Using cached matplotlib-3.7.2-cp38-cp38-macosx_10_12_x86_64.whl (7.4 MB)\n",
      "Using cached Pillow-10.0.0-cp38-cp38-macosx_10_10_x86_64.whl (3.4 MB)\n",
      "Using cached tensorflow_io-0.33.0-cp38-cp38-macosx_10_14_x86_64.whl (25.2 MB)\n",
      "Using cached tensorflow_io_gcs_filesystem-0.33.0-cp38-cp38-macosx_10_14_x86_64.whl (1.7 MB)\n",
      "Using cached contourpy-1.1.0-cp38-cp38-macosx_10_9_x86_64.whl (243 kB)\n",
      "Downloading fonttools-4.42.0-cp38-cp38-macosx_10_9_x86_64.whl (2.2 MB)\n",
      "\u001b[2K   \u001b[90m━━━━━━━━━━━━━━━━━━━━━━━━━━━━━━━━━━━━━━━━\u001b[0m \u001b[32m2.2/2.2 MB\u001b[0m \u001b[31m1.5 MB/s\u001b[0m eta \u001b[36m0:00:00\u001b[0m00:01\u001b[0m00:01\u001b[0mm\n",
      "\u001b[?25hUsing cached google_api_python_client-2.95.0-py2.py3-none-any.whl (11.5 MB)\n",
      "Using cached orjson-3.9.2-cp38-cp38-macosx_10_15_x86_64.macosx_11_0_arm64.macosx_10_15_universal2.whl (242 kB)\n",
      "Using cached proto_plus-1.22.3-py3-none-any.whl (48 kB)\n",
      "Using cached pymongo-4.4.1-cp38-cp38-macosx_10_9_x86_64.whl (413 kB)\n",
      "Using cached regex-2023.6.3-cp38-cp38-macosx_10_9_x86_64.whl (294 kB)\n",
      "Using cached tensorflow_hub-0.14.0-py2.py3-none-any.whl (90 kB)\n",
      "Using cached tensorflow_model_optimization-0.7.5-py2.py3-none-any.whl (241 kB)\n",
      "Using cached tensorflow_text-2.13.0-cp38-cp38-macosx_10_9_x86_64.whl (6.5 MB)\n",
      "Using cached immutabledict-3.0.0-py3-none-any.whl (4.0 kB)\n",
      "Using cached dnspython-2.4.1-py3-none-any.whl (300 kB)\n",
      "Using cached google_api_core-2.11.1-py3-none-any.whl (120 kB)\n",
      "Using cached scikit_learn-1.3.0-cp38-cp38-macosx_10_9_x86_64.whl (10.1 MB)\n",
      "Using cached array_record-0.4.0-py38-none-any.whl (3.0 MB)\n",
      "Using cached click-8.1.6-py3-none-any.whl (97 kB)\n",
      "Using cached googleapis_common_protos-1.60.0-py2.py3-none-any.whl (227 kB)\n",
      "Using cached joblib-1.3.1-py3-none-any.whl (301 kB)\n",
      "Using cached threadpoolctl-3.2.0-py3-none-any.whl (15 kB)\n",
      "Using cached etils-1.3.0-py3-none-any.whl (126 kB)\n",
      "Building wheels for collected packages: object-detection, pycocotools, fastavro, opencv-python-headless, seqeval, docopt, promise\n",
      "  Building wheel for object-detection (setup.py): started\n",
      "  Building wheel for object-detection (setup.py): finished with status 'done'\n",
      "  Created wheel for object-detection: filename=object_detection-0.1-py3-none-any.whl size=1655312 sha256=d404c011d87cc6ea866fcd8d1ebeca5ffbf4b9737dbe238aa04b60e20236bb95\n",
      "  Stored in directory: /private/var/folders/kt/zc_rczks5lgdbp_gfb_32tk80000gn/T/pip-ephem-wheel-cache-dmmvx8zl/wheels/52/97/58/92b0d6324fc1496d93de2760a770e1da0bb9469688c58d1e8e\n",
      "  Building wheel for pycocotools (pyproject.toml): started\n",
      "  Building wheel for pycocotools (pyproject.toml): finished with status 'error'\n",
      "  Building wheel for fastavro (pyproject.toml): started\n"
     ]
    },
    {
     "name": "stderr",
     "output_type": "stream",
     "text": [
      "  \u001b[1;31merror\u001b[0m: \u001b[1msubprocess-exited-with-error\u001b[0m\n",
      "  \n",
      "  \u001b[31m×\u001b[0m \u001b[32mBuilding wheel for pycocotools \u001b[0m\u001b[1;32m(\u001b[0m\u001b[32mpyproject.toml\u001b[0m\u001b[1;32m)\u001b[0m did not run successfully.\n",
      "  \u001b[31m│\u001b[0m exit code: \u001b[1;36m1\u001b[0m\n",
      "  \u001b[31m╰─>\u001b[0m \u001b[31m[110 lines of output]\u001b[0m\n",
      "  \u001b[31m   \u001b[0m running bdist_wheel\n",
      "  \u001b[31m   \u001b[0m running build\n",
      "  \u001b[31m   \u001b[0m running build_py\n",
      "  \u001b[31m   \u001b[0m creating build\n",
      "  \u001b[31m   \u001b[0m creating build/lib.macosx-10.14.6-x86_64-cpython-38\n",
      "  \u001b[31m   \u001b[0m creating build/lib.macosx-10.14.6-x86_64-cpython-38/pycocotools\n",
      "  \u001b[31m   \u001b[0m copying pycocotools/coco.py -> build/lib.macosx-10.14.6-x86_64-cpython-38/pycocotools\n",
      "  \u001b[31m   \u001b[0m copying pycocotools/mask.py -> build/lib.macosx-10.14.6-x86_64-cpython-38/pycocotools\n",
      "  \u001b[31m   \u001b[0m copying pycocotools/__init__.py -> build/lib.macosx-10.14.6-x86_64-cpython-38/pycocotools\n",
      "  \u001b[31m   \u001b[0m copying pycocotools/cocoeval.py -> build/lib.macosx-10.14.6-x86_64-cpython-38/pycocotools\n",
      "  \u001b[31m   \u001b[0m running build_ext\n",
      "  \u001b[31m   \u001b[0m Compiling pycocotools/_mask.pyx because it changed.\n",
      "  \u001b[31m   \u001b[0m [1/1] Cythonizing pycocotools/_mask.pyx\n",
      "  \u001b[31m   \u001b[0m building 'pycocotools._mask' extension\n",
      "  \u001b[31m   \u001b[0m creating build/temp.macosx-10.14.6-x86_64-cpython-38\n",
      "  \u001b[31m   \u001b[0m creating build/temp.macosx-10.14.6-x86_64-cpython-38/common\n",
      "  \u001b[31m   \u001b[0m creating build/temp.macosx-10.14.6-x86_64-cpython-38/pycocotools\n",
      "  \u001b[31m   \u001b[0m clang -Wno-unused-result -Wsign-compare -Wunreachable-code -fno-common -dynamic -DNDEBUG -g -fwrapv -O3 -Wall -iwithsysroot/System/Library/Frameworks/System.framework/PrivateHeaders -iwithsysroot/Applications/Xcode.app/Contents/Developer/Library/Frameworks/Python3.framework/Versions/3.8/Headers -arch arm64 -arch x86_64 -I/private/var/folders/kt/zc_rczks5lgdbp_gfb_32tk80000gn/T/pip-build-env-l3t1b8ew/overlay/lib/python3.8/site-packages/numpy/core/include -I./common \"-I/Users/user/Desktop/Tensorflow Object Detection/TFODCourse/tfod/include\" -I/Library/Developer/CommandLineTools/Library/Frameworks/Python3.framework/Versions/3.8/include/python3.8 -c ./common/maskApi.c -o build/temp.macosx-10.14.6-x86_64-cpython-38/./common/maskApi.o -Wno-cpp -Wno-unused-function -std=c99\n",
      "  \u001b[31m   \u001b[0m In file included from ./common/maskApi.c:8:\n",
      "  \u001b[31m   \u001b[0m In file included from /Library/Developer/CommandLineTools/SDKs/MacOSX10.15.sdk/usr/include/math.h:30:\n",
      "  \u001b[31m   \u001b[0m /Library/Developer/CommandLineTools/SDKs/MacOSX10.15.sdk/usr/include/sys/cdefs.h:807:2: error: Unsupported architecture\n",
      "  \u001b[31m   \u001b[0m #error Unsupported architecture\n",
      "  \u001b[31m   \u001b[0m  ^\n",
      "  \u001b[31m   \u001b[0m In file included from ./common/maskApi.c:9:\n",
      "  \u001b[31m   \u001b[0m In file included from /Library/Developer/CommandLineTools/SDKs/MacOSX10.15.sdk/usr/include/stdlib.h:64:\n",
      "  \u001b[31m   \u001b[0m In file included from /Library/Developer/CommandLineTools/SDKs/MacOSX10.15.sdk/usr/include/_types.h:27:\n",
      "  \u001b[31m   \u001b[0m In file included from /Library/Developer/CommandLineTools/SDKs/MacOSX10.15.sdk/usr/include/sys/_types.h:33:\n",
      "  \u001b[31m   \u001b[0m /Library/Developer/CommandLineTools/SDKs/MacOSX10.15.sdk/usr/include/machine/_types.h:34:2: error: architecture not supported\n",
      "  \u001b[31m   \u001b[0m #error architecture not supported\n",
      "  \u001b[31m   \u001b[0m  ^\n",
      "  \u001b[31m   \u001b[0m In file included from ./common/maskApi.c:9:\n",
      "  \u001b[31m   \u001b[0m In file included from /Library/Developer/CommandLineTools/SDKs/MacOSX10.15.sdk/usr/include/stdlib.h:64:\n",
      "  \u001b[31m   \u001b[0m In file included from /Library/Developer/CommandLineTools/SDKs/MacOSX10.15.sdk/usr/include/_types.h:27:\n",
      "  \u001b[31m   \u001b[0m /Library/Developer/CommandLineTools/SDKs/MacOSX10.15.sdk/usr/include/sys/_types.h:55:9: error: unknown type name '__int64_t'\n",
      "  \u001b[31m   \u001b[0m typedef __int64_t       __darwin_blkcnt_t;      /* total blocks */\n",
      "  \u001b[31m   \u001b[0m         ^\n",
      "  \u001b[31m   \u001b[0m /Library/Developer/CommandLineTools/SDKs/MacOSX10.15.sdk/usr/include/sys/_types.h:56:9: error: unknown type name '__int32_t'; did you mean '__int128_t'?\n",
      "  \u001b[31m   \u001b[0m typedef __int32_t       __darwin_blksize_t;     /* preferred block size */\n",
      "  \u001b[31m   \u001b[0m         ^\n",
      "  \u001b[31m   \u001b[0m note: '__int128_t' declared here\n",
      "  \u001b[31m   \u001b[0m /Library/Developer/CommandLineTools/SDKs/MacOSX10.15.sdk/usr/include/sys/_types.h:57:9: error: unknown type name '__int32_t'; did you mean '__int128_t'?\n",
      "  \u001b[31m   \u001b[0m typedef __int32_t       __darwin_dev_t;         /* dev_t */\n",
      "  \u001b[31m   \u001b[0m         ^\n",
      "  \u001b[31m   \u001b[0m note: '__int128_t' declared here\n",
      "  \u001b[31m   \u001b[0m /Library/Developer/CommandLineTools/SDKs/MacOSX10.15.sdk/usr/include/sys/_types.h:60:9: error: unknown type name '__uint32_t'; did you mean '__uint128_t'?\n",
      "  \u001b[31m   \u001b[0m typedef __uint32_t      __darwin_gid_t;         /* [???] process and group IDs */\n",
      "  \u001b[31m   \u001b[0m         ^\n",
      "  \u001b[31m   \u001b[0m note: '__uint128_t' declared here\n",
      "  \u001b[31m   \u001b[0m /Library/Developer/CommandLineTools/SDKs/MacOSX10.15.sdk/usr/include/sys/_types.h:61:9: error: unknown type name '__uint32_t'; did you mean '__uint128_t'?\n",
      "  \u001b[31m   \u001b[0m typedef __uint32_t      __darwin_id_t;          /* [XSI] pid_t, uid_t, or gid_t*/\n",
      "  \u001b[31m   \u001b[0m         ^\n",
      "  \u001b[31m   \u001b[0m note: '__uint128_t' declared here\n",
      "  \u001b[31m   \u001b[0m /Library/Developer/CommandLineTools/SDKs/MacOSX10.15.sdk/usr/include/sys/_types.h:62:9: error: unknown type name '__uint64_t'\n",
      "  \u001b[31m   \u001b[0m typedef __uint64_t      __darwin_ino64_t;       /* [???] Used for 64 bit inodes */\n",
      "  \u001b[31m   \u001b[0m         ^\n",
      "  \u001b[31m   \u001b[0m /Library/Developer/CommandLineTools/SDKs/MacOSX10.15.sdk/usr/include/sys/_types.h:68:9: error: unknown type name '__darwin_natural_t'\n",
      "  \u001b[31m   \u001b[0m typedef __darwin_natural_t __darwin_mach_port_name_t; /* Used by mach */\n",
      "  \u001b[31m   \u001b[0m         ^\n",
      "  \u001b[31m   \u001b[0m /Library/Developer/CommandLineTools/SDKs/MacOSX10.15.sdk/usr/include/sys/_types.h:70:9: error: unknown type name '__uint16_t'; did you mean '__uint128_t'?\n",
      "  \u001b[31m   \u001b[0m typedef __uint16_t      __darwin_mode_t;        /* [???] Some file attributes */\n",
      "  \u001b[31m   \u001b[0m         ^\n",
      "  \u001b[31m   \u001b[0m note: '__uint128_t' declared here\n",
      "  \u001b[31m   \u001b[0m /Library/Developer/CommandLineTools/SDKs/MacOSX10.15.sdk/usr/include/sys/_types.h:71:9: error: unknown type name '__int64_t'\n",
      "  \u001b[31m   \u001b[0m typedef __int64_t       __darwin_off_t;         /* [???] Used for file sizes */\n",
      "  \u001b[31m   \u001b[0m         ^\n",
      "  \u001b[31m   \u001b[0m /Library/Developer/CommandLineTools/SDKs/MacOSX10.15.sdk/usr/include/sys/_types.h:72:9: error: unknown type name '__int32_t'; did you mean '__int128_t'?\n",
      "  \u001b[31m   \u001b[0m typedef __int32_t       __darwin_pid_t;         /* [???] process and group IDs */\n",
      "  \u001b[31m   \u001b[0m         ^\n",
      "  \u001b[31m   \u001b[0m note: '__int128_t' declared here\n",
      "  \u001b[31m   \u001b[0m /Library/Developer/CommandLineTools/SDKs/MacOSX10.15.sdk/usr/include/sys/_types.h:73:9: error: unknown type name '__uint32_t'; did you mean '__uint128_t'?\n",
      "  \u001b[31m   \u001b[0m typedef __uint32_t      __darwin_sigset_t;      /* [???] signal set */\n",
      "  \u001b[31m   \u001b[0m         ^\n",
      "  \u001b[31m   \u001b[0m note: '__uint128_t' declared here\n",
      "  \u001b[31m   \u001b[0m /Library/Developer/CommandLineTools/SDKs/MacOSX10.15.sdk/usr/include/sys/_types.h:74:9: error: unknown type name '__int32_t'; did you mean '__int128_t'?\n",
      "  \u001b[31m   \u001b[0m typedef __int32_t       __darwin_suseconds_t;   /* [???] microseconds */\n",
      "  \u001b[31m   \u001b[0m         ^\n",
      "  \u001b[31m   \u001b[0m note: '__int128_t' declared here\n",
      "  \u001b[31m   \u001b[0m /Library/Developer/CommandLineTools/SDKs/MacOSX10.15.sdk/usr/include/sys/_types.h:75:9: error: unknown type name '__uint32_t'; did you mean '__uint128_t'?\n",
      "  \u001b[31m   \u001b[0m typedef __uint32_t      __darwin_uid_t;         /* [???] user IDs */\n",
      "  \u001b[31m   \u001b[0m         ^\n",
      "  \u001b[31m   \u001b[0m note: '__uint128_t' declared here\n",
      "  \u001b[31m   \u001b[0m /Library/Developer/CommandLineTools/SDKs/MacOSX10.15.sdk/usr/include/sys/_types.h:76:9: error: unknown type name '__uint32_t'; did you mean '__uint128_t'?\n",
      "  \u001b[31m   \u001b[0m typedef __uint32_t      __darwin_useconds_t;    /* [???] microseconds */\n",
      "  \u001b[31m   \u001b[0m         ^\n",
      "  \u001b[31m   \u001b[0m note: '__uint128_t' declared here\n",
      "  \u001b[31m   \u001b[0m In file included from ./common/maskApi.c:9:\n",
      "  \u001b[31m   \u001b[0m In file included from /Library/Developer/CommandLineTools/SDKs/MacOSX10.15.sdk/usr/include/stdlib.h:64:\n",
      "  \u001b[31m   \u001b[0m /Library/Developer/CommandLineTools/SDKs/MacOSX10.15.sdk/usr/include/_types.h:43:9: error: unknown type name '__uint32_t'; did you mean '__uint128_t'?\n",
      "  \u001b[31m   \u001b[0m typedef __uint32_t      __darwin_wctype_t;\n",
      "  \u001b[31m   \u001b[0m         ^\n",
      "  \u001b[31m   \u001b[0m note: '__uint128_t' declared here\n",
      "  \u001b[31m   \u001b[0m In file included from ./common/maskApi.c:9:\n",
      "  \u001b[31m   \u001b[0m In file included from /Library/Developer/CommandLineTools/SDKs/MacOSX10.15.sdk/usr/include/stdlib.h:66:\n",
      "  \u001b[31m   \u001b[0m In file included from /Library/Developer/CommandLineTools/SDKs/MacOSX10.15.sdk/usr/include/sys/wait.h:109:\n",
      "  \u001b[31m   \u001b[0m In file included from /Library/Developer/CommandLineTools/SDKs/MacOSX10.15.sdk/usr/include/sys/signal.h:82:\n",
      "  \u001b[31m   \u001b[0m /Library/Developer/CommandLineTools/SDKs/MacOSX10.15.sdk/usr/include/machine/signal.h:34:2: error: architecture not supported\n",
      "  \u001b[31m   \u001b[0m #error architecture not supported\n",
      "  \u001b[31m   \u001b[0m  ^\n",
      "  \u001b[31m   \u001b[0m In file included from ./common/maskApi.c:9:\n",
      "  \u001b[31m   \u001b[0m In file included from /Library/Developer/CommandLineTools/SDKs/MacOSX10.15.sdk/usr/include/stdlib.h:66:\n",
      "  \u001b[31m   \u001b[0m In file included from /Library/Developer/CommandLineTools/SDKs/MacOSX10.15.sdk/usr/include/sys/wait.h:109:\n",
      "  \u001b[31m   \u001b[0m In file included from /Library/Developer/CommandLineTools/SDKs/MacOSX10.15.sdk/usr/include/sys/signal.h:146:\n",
      "  \u001b[31m   \u001b[0m /Library/Developer/CommandLineTools/SDKs/MacOSX10.15.sdk/usr/include/machine/_mcontext.h:31:2: error: architecture not supported\n",
      "  \u001b[31m   \u001b[0m #error architecture not supported\n",
      "  \u001b[31m   \u001b[0m  ^\n",
      "  \u001b[31m   \u001b[0m fatal error: too many errors emitted, stopping now [-ferror-limit=]\n",
      "  \u001b[31m   \u001b[0m 20 errors generated.\n",
      "  \u001b[31m   \u001b[0m /private/var/folders/kt/zc_rczks5lgdbp_gfb_32tk80000gn/T/pip-build-env-l3t1b8ew/overlay/lib/python3.8/site-packages/Cython/Compiler/Main.py:381: FutureWarning: Cython directive 'language_level' not set, using '3str' for now (Py3). This has changed from earlier releases! File: /private/var/folders/kt/zc_rczks5lgdbp_gfb_32tk80000gn/T/pip-install-_jvo8px_/pycocotools_313211d36d6d49d58be56089ea587e38/pycocotools/_mask.pyx\n",
      "  \u001b[31m   \u001b[0m   tree = Parsing.p_module(s, pxd, full_module_name)\n",
      "  \u001b[31m   \u001b[0m error: command '/usr/bin/clang' failed with exit code 1\n",
      "  \u001b[31m   \u001b[0m \u001b[31m[end of output]\u001b[0m\n",
      "  \n",
      "  \u001b[1;35mnote\u001b[0m: This error originates from a subprocess, and is likely not a problem with pip.\n",
      "\u001b[31m  ERROR: Failed building wheel for pycocotools\u001b[0m\u001b[31m\n",
      "\u001b[0m"
     ]
    },
    {
     "name": "stdout",
     "output_type": "stream",
     "text": [
      "  Building wheel for fastavro (pyproject.toml): finished with status 'error'\n",
      "  Building wheel for opencv-python-headless (pyproject.toml): started\n"
     ]
    },
    {
     "name": "stderr",
     "output_type": "stream",
     "text": [
      "  \u001b[1;31merror\u001b[0m: \u001b[1msubprocess-exited-with-error\u001b[0m\n",
      "  \n",
      "  \u001b[31m×\u001b[0m \u001b[32mBuilding wheel for fastavro \u001b[0m\u001b[1;32m(\u001b[0m\u001b[32mpyproject.toml\u001b[0m\u001b[1;32m)\u001b[0m did not run successfully.\n",
      "  \u001b[31m│\u001b[0m exit code: \u001b[1;36m1\u001b[0m\n",
      "  \u001b[31m╰─>\u001b[0m \u001b[31m[152 lines of output]\u001b[0m\n",
      "  \u001b[31m   \u001b[0m running bdist_wheel\n",
      "  \u001b[31m   \u001b[0m running build\n",
      "  \u001b[31m   \u001b[0m running build_py\n",
      "  \u001b[31m   \u001b[0m creating build\n",
      "  \u001b[31m   \u001b[0m creating build/lib.macosx-10.14.6-x86_64-cpython-38\n",
      "  \u001b[31m   \u001b[0m creating build/lib.macosx-10.14.6-x86_64-cpython-38/fastavro\n",
      "  \u001b[31m   \u001b[0m copying fastavro/_schema_common.py -> build/lib.macosx-10.14.6-x86_64-cpython-38/fastavro\n",
      "  \u001b[31m   \u001b[0m copying fastavro/_schema_py.py -> build/lib.macosx-10.14.6-x86_64-cpython-38/fastavro\n",
      "  \u001b[31m   \u001b[0m copying fastavro/_logical_writers_py.py -> build/lib.macosx-10.14.6-x86_64-cpython-38/fastavro\n",
      "  \u001b[31m   \u001b[0m copying fastavro/json_read.py -> build/lib.macosx-10.14.6-x86_64-cpython-38/fastavro\n",
      "  \u001b[31m   \u001b[0m copying fastavro/write.py -> build/lib.macosx-10.14.6-x86_64-cpython-38/fastavro\n",
      "  \u001b[31m   \u001b[0m copying fastavro/_write_common.py -> build/lib.macosx-10.14.6-x86_64-cpython-38/fastavro\n",
      "  \u001b[31m   \u001b[0m copying fastavro/_write_py.py -> build/lib.macosx-10.14.6-x86_64-cpython-38/fastavro\n",
      "  \u001b[31m   \u001b[0m copying fastavro/__init__.py -> build/lib.macosx-10.14.6-x86_64-cpython-38/fastavro\n",
      "  \u001b[31m   \u001b[0m copying fastavro/_read_py.py -> build/lib.macosx-10.14.6-x86_64-cpython-38/fastavro\n",
      "  \u001b[31m   \u001b[0m copying fastavro/types.py -> build/lib.macosx-10.14.6-x86_64-cpython-38/fastavro\n",
      "  \u001b[31m   \u001b[0m copying fastavro/json_write.py -> build/lib.macosx-10.14.6-x86_64-cpython-38/fastavro\n",
      "  \u001b[31m   \u001b[0m copying fastavro/_read_common.py -> build/lib.macosx-10.14.6-x86_64-cpython-38/fastavro\n",
      "  \u001b[31m   \u001b[0m copying fastavro/_validate_common.py -> build/lib.macosx-10.14.6-x86_64-cpython-38/fastavro\n",
      "  \u001b[31m   \u001b[0m copying fastavro/_logical_readers_py.py -> build/lib.macosx-10.14.6-x86_64-cpython-38/fastavro\n",
      "  \u001b[31m   \u001b[0m copying fastavro/utils.py -> build/lib.macosx-10.14.6-x86_64-cpython-38/fastavro\n",
      "  \u001b[31m   \u001b[0m copying fastavro/logical_writers.py -> build/lib.macosx-10.14.6-x86_64-cpython-38/fastavro\n",
      "  \u001b[31m   \u001b[0m copying fastavro/_validation_py.py -> build/lib.macosx-10.14.6-x86_64-cpython-38/fastavro\n",
      "  \u001b[31m   \u001b[0m copying fastavro/__main__.py -> build/lib.macosx-10.14.6-x86_64-cpython-38/fastavro\n",
      "  \u001b[31m   \u001b[0m copying fastavro/logical_readers.py -> build/lib.macosx-10.14.6-x86_64-cpython-38/fastavro\n",
      "  \u001b[31m   \u001b[0m copying fastavro/const.py -> build/lib.macosx-10.14.6-x86_64-cpython-38/fastavro\n",
      "  \u001b[31m   \u001b[0m copying fastavro/schema.py -> build/lib.macosx-10.14.6-x86_64-cpython-38/fastavro\n",
      "  \u001b[31m   \u001b[0m copying fastavro/read.py -> build/lib.macosx-10.14.6-x86_64-cpython-38/fastavro\n",
      "  \u001b[31m   \u001b[0m copying fastavro/validation.py -> build/lib.macosx-10.14.6-x86_64-cpython-38/fastavro\n",
      "  \u001b[31m   \u001b[0m creating build/lib.macosx-10.14.6-x86_64-cpython-38/fastavro/io\n",
      "  \u001b[31m   \u001b[0m copying fastavro/io/binary_decoder.py -> build/lib.macosx-10.14.6-x86_64-cpython-38/fastavro/io\n",
      "  \u001b[31m   \u001b[0m copying fastavro/io/__init__.py -> build/lib.macosx-10.14.6-x86_64-cpython-38/fastavro/io\n",
      "  \u001b[31m   \u001b[0m copying fastavro/io/binary_encoder.py -> build/lib.macosx-10.14.6-x86_64-cpython-38/fastavro/io\n",
      "  \u001b[31m   \u001b[0m copying fastavro/io/parser.py -> build/lib.macosx-10.14.6-x86_64-cpython-38/fastavro/io\n",
      "  \u001b[31m   \u001b[0m copying fastavro/io/symbols.py -> build/lib.macosx-10.14.6-x86_64-cpython-38/fastavro/io\n",
      "  \u001b[31m   \u001b[0m copying fastavro/io/json_encoder.py -> build/lib.macosx-10.14.6-x86_64-cpython-38/fastavro/io\n",
      "  \u001b[31m   \u001b[0m copying fastavro/io/json_decoder.py -> build/lib.macosx-10.14.6-x86_64-cpython-38/fastavro/io\n",
      "  \u001b[31m   \u001b[0m creating build/lib.macosx-10.14.6-x86_64-cpython-38/fastavro/repository\n",
      "  \u001b[31m   \u001b[0m copying fastavro/repository/__init__.py -> build/lib.macosx-10.14.6-x86_64-cpython-38/fastavro/repository\n",
      "  \u001b[31m   \u001b[0m copying fastavro/repository/flat_dict.py -> build/lib.macosx-10.14.6-x86_64-cpython-38/fastavro/repository\n",
      "  \u001b[31m   \u001b[0m copying fastavro/repository/base.py -> build/lib.macosx-10.14.6-x86_64-cpython-38/fastavro/repository\n",
      "  \u001b[31m   \u001b[0m copying fastavro/py.typed -> build/lib.macosx-10.14.6-x86_64-cpython-38/fastavro\n",
      "  \u001b[31m   \u001b[0m running build_ext\n",
      "  \u001b[31m   \u001b[0m skipping 'fastavro/_read.c' Cython extension (up-to-date)\n",
      "  \u001b[31m   \u001b[0m skipping 'fastavro/_schema.c' Cython extension (up-to-date)\n",
      "  \u001b[31m   \u001b[0m skipping 'fastavro/_write.c' Cython extension (up-to-date)\n",
      "  \u001b[31m   \u001b[0m skipping 'fastavro/_validation.c' Cython extension (up-to-date)\n",
      "  \u001b[31m   \u001b[0m skipping 'fastavro/_logical_readers.c' Cython extension (up-to-date)\n",
      "  \u001b[31m   \u001b[0m skipping 'fastavro/_logical_writers.c' Cython extension (up-to-date)\n",
      "  \u001b[31m   \u001b[0m building 'fastavro._read' extension\n",
      "  \u001b[31m   \u001b[0m creating build/temp.macosx-10.14.6-x86_64-cpython-38\n",
      "  \u001b[31m   \u001b[0m creating build/temp.macosx-10.14.6-x86_64-cpython-38/fastavro\n",
      "  \u001b[31m   \u001b[0m clang -Wno-unused-result -Wsign-compare -Wunreachable-code -fno-common -dynamic -DNDEBUG -g -fwrapv -O3 -Wall -iwithsysroot/System/Library/Frameworks/System.framework/PrivateHeaders -iwithsysroot/Applications/Xcode.app/Contents/Developer/Library/Frameworks/Python3.framework/Versions/3.8/Headers -arch arm64 -arch x86_64 \"-I/Users/user/Desktop/Tensorflow Object Detection/TFODCourse/tfod/include\" -I/Library/Developer/CommandLineTools/Library/Frameworks/Python3.framework/Versions/3.8/include/python3.8 -c fastavro/_read.c -o build/temp.macosx-10.14.6-x86_64-cpython-38/fastavro/_read.o\n",
      "  \u001b[31m   \u001b[0m In file included from fastavro/_read.c:6:\n",
      "  \u001b[31m   \u001b[0m In file included from /Library/Developer/CommandLineTools/Library/Frameworks/Python3.framework/Versions/3.8/include/python3.8/Python.h:11:\n",
      "  \u001b[31m   \u001b[0m In file included from /Library/Developer/CommandLineTools/usr/lib/clang/12.0.0/include/limits.h:21:\n",
      "  \u001b[31m   \u001b[0m In file included from /Library/Developer/CommandLineTools/SDKs/MacOSX10.15.sdk/usr/include/limits.h:63:\n",
      "  \u001b[31m   \u001b[0m /Library/Developer/CommandLineTools/SDKs/MacOSX10.15.sdk/usr/include/sys/cdefs.h:807:2: error: Unsupported architecture\n",
      "  \u001b[31m   \u001b[0m #error Unsupported architecture\n",
      "  \u001b[31m   \u001b[0m  ^\n",
      "  \u001b[31m   \u001b[0m In file included from fastavro/_read.c:6:\n",
      "  \u001b[31m   \u001b[0m In file included from /Library/Developer/CommandLineTools/Library/Frameworks/Python3.framework/Versions/3.8/include/python3.8/Python.h:11:\n",
      "  \u001b[31m   \u001b[0m In file included from /Library/Developer/CommandLineTools/usr/lib/clang/12.0.0/include/limits.h:21:\n",
      "  \u001b[31m   \u001b[0m In file included from /Library/Developer/CommandLineTools/SDKs/MacOSX10.15.sdk/usr/include/limits.h:64:\n",
      "  \u001b[31m   \u001b[0m /Library/Developer/CommandLineTools/SDKs/MacOSX10.15.sdk/usr/include/machine/limits.h:8:2: error: architecture not supported\n",
      "  \u001b[31m   \u001b[0m #error architecture not supported\n",
      "  \u001b[31m   \u001b[0m  ^\n",
      "  \u001b[31m   \u001b[0m In file included from fastavro/_read.c:6:\n",
      "  \u001b[31m   \u001b[0m In file included from /Library/Developer/CommandLineTools/Library/Frameworks/Python3.framework/Versions/3.8/include/python3.8/Python.h:25:\n",
      "  \u001b[31m   \u001b[0m In file included from /Library/Developer/CommandLineTools/SDKs/MacOSX10.15.sdk/usr/include/stdio.h:64:\n",
      "  \u001b[31m   \u001b[0m In file included from /Library/Developer/CommandLineTools/SDKs/MacOSX10.15.sdk/usr/include/_stdio.h:71:\n",
      "  \u001b[31m   \u001b[0m In file included from /Library/Developer/CommandLineTools/SDKs/MacOSX10.15.sdk/usr/include/_types.h:27:\n",
      "  \u001b[31m   \u001b[0m In file included from /Library/Developer/CommandLineTools/SDKs/MacOSX10.15.sdk/usr/include/sys/_types.h:33:\n",
      "  \u001b[31m   \u001b[0m /Library/Developer/CommandLineTools/SDKs/MacOSX10.15.sdk/usr/include/machine/_types.h:34:2: error: architecture not supported\n",
      "  \u001b[31m   \u001b[0m #error architecture not supported\n",
      "  \u001b[31m   \u001b[0m  ^\n",
      "  \u001b[31m   \u001b[0m In file included from fastavro/_read.c:6:\n",
      "  \u001b[31m   \u001b[0m In file included from /Library/Developer/CommandLineTools/Library/Frameworks/Python3.framework/Versions/3.8/include/python3.8/Python.h:25:\n",
      "  \u001b[31m   \u001b[0m In file included from /Library/Developer/CommandLineTools/SDKs/MacOSX10.15.sdk/usr/include/stdio.h:64:\n",
      "  \u001b[31m   \u001b[0m In file included from /Library/Developer/CommandLineTools/SDKs/MacOSX10.15.sdk/usr/include/_stdio.h:71:\n",
      "  \u001b[31m   \u001b[0m In file included from /Library/Developer/CommandLineTools/SDKs/MacOSX10.15.sdk/usr/include/_types.h:27:\n",
      "  \u001b[31m   \u001b[0m /Library/Developer/CommandLineTools/SDKs/MacOSX10.15.sdk/usr/include/sys/_types.h:55:9: error: unknown type name '__int64_t'\n",
      "  \u001b[31m   \u001b[0m typedef __int64_t       __darwin_blkcnt_t;      /* total blocks */\n",
      "  \u001b[31m   \u001b[0m         ^\n",
      "  \u001b[31m   \u001b[0m /Library/Developer/CommandLineTools/SDKs/MacOSX10.15.sdk/usr/include/sys/_types.h:56:9: error: unknown type name '__int32_t'; did you mean '__int128_t'?\n",
      "  \u001b[31m   \u001b[0m typedef __int32_t       __darwin_blksize_t;     /* preferred block size */\n",
      "  \u001b[31m   \u001b[0m         ^\n",
      "  \u001b[31m   \u001b[0m note: '__int128_t' declared here\n",
      "  \u001b[31m   \u001b[0m /Library/Developer/CommandLineTools/SDKs/MacOSX10.15.sdk/usr/include/sys/_types.h:57:9: error: unknown type name '__int32_t'; did you mean '__int128_t'?\n",
      "  \u001b[31m   \u001b[0m typedef __int32_t       __darwin_dev_t;         /* dev_t */\n",
      "  \u001b[31m   \u001b[0m         ^\n",
      "  \u001b[31m   \u001b[0m note: '__int128_t' declared here\n",
      "  \u001b[31m   \u001b[0m /Library/Developer/CommandLineTools/SDKs/MacOSX10.15.sdk/usr/include/sys/_types.h:60:9: error: unknown type name '__uint32_t'; did you mean '__uint128_t'?\n",
      "  \u001b[31m   \u001b[0m typedef __uint32_t      __darwin_gid_t;         /* [???] process and group IDs */\n",
      "  \u001b[31m   \u001b[0m         ^\n",
      "  \u001b[31m   \u001b[0m note: '__uint128_t' declared here\n",
      "  \u001b[31m   \u001b[0m /Library/Developer/CommandLineTools/SDKs/MacOSX10.15.sdk/usr/include/sys/_types.h:61:9: error: unknown type name '__uint32_t'; did you mean '__uint128_t'?\n",
      "  \u001b[31m   \u001b[0m typedef __uint32_t      __darwin_id_t;          /* [XSI] pid_t, uid_t, or gid_t*/\n",
      "  \u001b[31m   \u001b[0m         ^\n",
      "  \u001b[31m   \u001b[0m note: '__uint128_t' declared here\n",
      "  \u001b[31m   \u001b[0m /Library/Developer/CommandLineTools/SDKs/MacOSX10.15.sdk/usr/include/sys/_types.h:62:9: error: unknown type name '__uint64_t'\n",
      "  \u001b[31m   \u001b[0m typedef __uint64_t      __darwin_ino64_t;       /* [???] Used for 64 bit inodes */\n",
      "  \u001b[31m   \u001b[0m         ^\n",
      "  \u001b[31m   \u001b[0m /Library/Developer/CommandLineTools/SDKs/MacOSX10.15.sdk/usr/include/sys/_types.h:68:9: error: unknown type name '__darwin_natural_t'\n",
      "  \u001b[31m   \u001b[0m typedef __darwin_natural_t __darwin_mach_port_name_t; /* Used by mach */\n",
      "  \u001b[31m   \u001b[0m         ^\n",
      "  \u001b[31m   \u001b[0m /Library/Developer/CommandLineTools/SDKs/MacOSX10.15.sdk/usr/include/sys/_types.h:70:9: error: unknown type name '__uint16_t'; did you mean '__uint128_t'?\n",
      "  \u001b[31m   \u001b[0m typedef __uint16_t      __darwin_mode_t;        /* [???] Some file attributes */\n",
      "  \u001b[31m   \u001b[0m         ^\n",
      "  \u001b[31m   \u001b[0m note: '__uint128_t' declared here\n",
      "  \u001b[31m   \u001b[0m /Library/Developer/CommandLineTools/SDKs/MacOSX10.15.sdk/usr/include/sys/_types.h:71:9: error: unknown type name '__int64_t'\n",
      "  \u001b[31m   \u001b[0m typedef __int64_t       __darwin_off_t;         /* [???] Used for file sizes */\n",
      "  \u001b[31m   \u001b[0m         ^\n",
      "  \u001b[31m   \u001b[0m /Library/Developer/CommandLineTools/SDKs/MacOSX10.15.sdk/usr/include/sys/_types.h:72:9: error: unknown type name '__int32_t'; did you mean '__int128_t'?\n",
      "  \u001b[31m   \u001b[0m typedef __int32_t       __darwin_pid_t;         /* [???] process and group IDs */\n",
      "  \u001b[31m   \u001b[0m         ^\n",
      "  \u001b[31m   \u001b[0m note: '__int128_t' declared here\n",
      "  \u001b[31m   \u001b[0m /Library/Developer/CommandLineTools/SDKs/MacOSX10.15.sdk/usr/include/sys/_types.h:73:9: error: unknown type name '__uint32_t'; did you mean '__uint128_t'?\n",
      "  \u001b[31m   \u001b[0m typedef __uint32_t      __darwin_sigset_t;      /* [???] signal set */\n",
      "  \u001b[31m   \u001b[0m         ^\n",
      "  \u001b[31m   \u001b[0m note: '__uint128_t' declared here\n",
      "  \u001b[31m   \u001b[0m /Library/Developer/CommandLineTools/SDKs/MacOSX10.15.sdk/usr/include/sys/_types.h:74:9: error: unknown type name '__int32_t'; did you mean '__int128_t'?\n",
      "  \u001b[31m   \u001b[0m typedef __int32_t       __darwin_suseconds_t;   /* [???] microseconds */\n",
      "  \u001b[31m   \u001b[0m         ^\n",
      "  \u001b[31m   \u001b[0m note: '__int128_t' declared here\n",
      "  \u001b[31m   \u001b[0m /Library/Developer/CommandLineTools/SDKs/MacOSX10.15.sdk/usr/include/sys/_types.h:75:9: error: unknown type name '__uint32_t'; did you mean '__uint128_t'?\n",
      "  \u001b[31m   \u001b[0m typedef __uint32_t      __darwin_uid_t;         /* [???] user IDs */\n",
      "  \u001b[31m   \u001b[0m         ^\n",
      "  \u001b[31m   \u001b[0m note: '__uint128_t' declared here\n",
      "  \u001b[31m   \u001b[0m /Library/Developer/CommandLineTools/SDKs/MacOSX10.15.sdk/usr/include/sys/_types.h:76:9: error: unknown type name '__uint32_t'; did you mean '__uint128_t'?\n",
      "  \u001b[31m   \u001b[0m typedef __uint32_t      __darwin_useconds_t;    /* [???] microseconds */\n",
      "  \u001b[31m   \u001b[0m         ^\n",
      "  \u001b[31m   \u001b[0m note: '__uint128_t' declared here\n",
      "  \u001b[31m   \u001b[0m In file included from fastavro/_read.c:6:\n",
      "  \u001b[31m   \u001b[0m In file included from /Library/Developer/CommandLineTools/Library/Frameworks/Python3.framework/Versions/3.8/include/python3.8/Python.h:25:\n",
      "  \u001b[31m   \u001b[0m In file included from /Library/Developer/CommandLineTools/SDKs/MacOSX10.15.sdk/usr/include/stdio.h:64:\n",
      "  \u001b[31m   \u001b[0m In file included from /Library/Developer/CommandLineTools/SDKs/MacOSX10.15.sdk/usr/include/_stdio.h:71:\n",
      "  \u001b[31m   \u001b[0m /Library/Developer/CommandLineTools/SDKs/MacOSX10.15.sdk/usr/include/_types.h:43:9: error: unknown type name '__uint32_t'; did you mean '__uint128_t'?\n",
      "  \u001b[31m   \u001b[0m typedef __uint32_t      __darwin_wctype_t;\n",
      "  \u001b[31m   \u001b[0m         ^\n",
      "  \u001b[31m   \u001b[0m note: '__uint128_t' declared here\n",
      "  \u001b[31m   \u001b[0m In file included from fastavro/_read.c:6:\n",
      "  \u001b[31m   \u001b[0m In file included from /Library/Developer/CommandLineTools/Library/Frameworks/Python3.framework/Versions/3.8/include/python3.8/Python.h:25:\n",
      "  \u001b[31m   \u001b[0m In file included from /Library/Developer/CommandLineTools/SDKs/MacOSX10.15.sdk/usr/include/stdio.h:64:\n",
      "  \u001b[31m   \u001b[0m In file included from /Library/Developer/CommandLineTools/SDKs/MacOSX10.15.sdk/usr/include/_stdio.h:75:\n",
      "  \u001b[31m   \u001b[0m In file included from /Library/Developer/CommandLineTools/SDKs/MacOSX10.15.sdk/usr/include/sys/_types/_va_list.h:31:\n",
      "  \u001b[31m   \u001b[0m /Library/Developer/CommandLineTools/SDKs/MacOSX10.15.sdk/usr/include/machine/types.h:37:2: error: architecture not supported\n",
      "  \u001b[31m   \u001b[0m #error architecture not supported\n",
      "  \u001b[31m   \u001b[0m  ^\n",
      "  \u001b[31m   \u001b[0m fatal error: too many errors emitted, stopping now [-ferror-limit=]\n",
      "  \u001b[31m   \u001b[0m 20 errors generated.\n",
      "  \u001b[31m   \u001b[0m error: command '/usr/bin/clang' failed with exit code 1\n",
      "  \u001b[31m   \u001b[0m \u001b[31m[end of output]\u001b[0m\n",
      "  \n",
      "  \u001b[1;35mnote\u001b[0m: This error originates from a subprocess, and is likely not a problem with pip.\n",
      "\u001b[31m  ERROR: Failed building wheel for fastavro\u001b[0m\u001b[31m\n",
      "\u001b[0m"
     ]
    },
    {
     "name": "stdout",
     "output_type": "stream",
     "text": [
      "  Building wheel for opencv-python-headless (pyproject.toml): still running...\n",
      "  Building wheel for opencv-python-headless (pyproject.toml): still running...\n",
      "  Building wheel for opencv-python-headless (pyproject.toml): still running...\n",
      "  Building wheel for opencv-python-headless (pyproject.toml): still running...\n",
      "  Building wheel for opencv-python-headless (pyproject.toml): still running...\n",
      "  Building wheel for opencv-python-headless (pyproject.toml): still running...\n",
      "  Building wheel for opencv-python-headless (pyproject.toml): still running...\n",
      "  Building wheel for opencv-python-headless (pyproject.toml): still running...\n",
      "  Building wheel for opencv-python-headless (pyproject.toml): still running...\n",
      "  Building wheel for opencv-python-headless (pyproject.toml): still running...\n",
      "  Building wheel for opencv-python-headless (pyproject.toml): still running...\n",
      "  Building wheel for opencv-python-headless (pyproject.toml): still running...\n",
      "  Building wheel for opencv-python-headless (pyproject.toml): still running...\n",
      "  Building wheel for opencv-python-headless (pyproject.toml): still running...\n",
      "  Building wheel for opencv-python-headless (pyproject.toml): still running...\n",
      "  Building wheel for opencv-python-headless (pyproject.toml): still running...\n",
      "  Building wheel for opencv-python-headless (pyproject.toml): still running...\n",
      "  Building wheel for opencv-python-headless (pyproject.toml): still running...\n",
      "  Building wheel for opencv-python-headless (pyproject.toml): still running...\n",
      "  Building wheel for opencv-python-headless (pyproject.toml): still running...\n",
      "  Building wheel for opencv-python-headless (pyproject.toml): still running...\n",
      "  Building wheel for opencv-python-headless (pyproject.toml): still running...\n",
      "  Building wheel for opencv-python-headless (pyproject.toml): still running...\n",
      "  Building wheel for opencv-python-headless (pyproject.toml): still running...\n",
      "  Building wheel for opencv-python-headless (pyproject.toml): still running...\n",
      "  Building wheel for opencv-python-headless (pyproject.toml): still running...\n",
      "  Building wheel for opencv-python-headless (pyproject.toml): still running...\n",
      "  Building wheel for opencv-python-headless (pyproject.toml): still running...\n",
      "  Building wheel for opencv-python-headless (pyproject.toml): still running...\n",
      "  Building wheel for opencv-python-headless (pyproject.toml): still running...\n",
      "  Building wheel for opencv-python-headless (pyproject.toml): still running...\n",
      "  Building wheel for opencv-python-headless (pyproject.toml): still running...\n",
      "  Building wheel for opencv-python-headless (pyproject.toml): still running...\n",
      "  Building wheel for opencv-python-headless (pyproject.toml): still running...\n",
      "  Building wheel for opencv-python-headless (pyproject.toml): still running...\n",
      "  Building wheel for opencv-python-headless (pyproject.toml): still running...\n",
      "  Building wheel for opencv-python-headless (pyproject.toml): still running...\n",
      "  Building wheel for opencv-python-headless (pyproject.toml): still running...\n",
      "  Building wheel for opencv-python-headless (pyproject.toml): still running...\n",
      "  Building wheel for opencv-python-headless (pyproject.toml): still running...\n",
      "  Building wheel for opencv-python-headless (pyproject.toml): still running...\n",
      "  Building wheel for opencv-python-headless (pyproject.toml): still running...\n",
      "  Building wheel for opencv-python-headless (pyproject.toml): still running...\n",
      "  Building wheel for opencv-python-headless (pyproject.toml): still running...\n",
      "  Building wheel for opencv-python-headless (pyproject.toml): still running...\n",
      "  Building wheel for opencv-python-headless (pyproject.toml): still running...\n",
      "  Building wheel for opencv-python-headless (pyproject.toml): still running...\n",
      "  Building wheel for opencv-python-headless (pyproject.toml): still running...\n",
      "  Building wheel for opencv-python-headless (pyproject.toml): still running...\n",
      "  Building wheel for opencv-python-headless (pyproject.toml): finished with status 'done'\n",
      "  Created wheel for opencv-python-headless: filename=opencv_python_headless-4.8.0.74-cp38-cp38-macosx_10_15_x86_64.whl size=26533921 sha256=717a72ba62cbebe018c1cab20f51cb7ee73bfb6599f867e21cae897cdc513946\n",
      "  Stored in directory: /Users/user/Library/Caches/pip/wheels/e8/a2/c9/402181cf926fdcea6ba9f3c28d3622d241730caa66467a59e2\n",
      "  Building wheel for seqeval (setup.py): started\n",
      "  Building wheel for seqeval (setup.py): finished with status 'done'\n",
      "  Created wheel for seqeval: filename=seqeval-1.2.2-py3-none-any.whl size=16165 sha256=24815600cda76e81d1e5980a4d91e043ed6628cc6d714335f9fd4fb6dee01c01\n",
      "  Stored in directory: /Users/user/Library/Caches/pip/wheels/ad/5c/ba/05fa33fa5855777b7d686e843ec07452f22a66a138e290e732\n",
      "  Building wheel for docopt (setup.py): started\n",
      "  Building wheel for docopt (setup.py): finished with status 'done'\n",
      "  Created wheel for docopt: filename=docopt-0.6.2-py2.py3-none-any.whl size=13707 sha256=0b11b1dafbf18c102dd21673eab55acb972642edd1374ab13bd4c11d2c3743cd\n",
      "  Stored in directory: /Users/user/Library/Caches/pip/wheels/56/ea/58/ead137b087d9e326852a851351d1debf4ada529b6ac0ec4e8c\n",
      "  Building wheel for promise (setup.py): started\n",
      "  Building wheel for promise (setup.py): finished with status 'done'\n",
      "  Created wheel for promise: filename=promise-2.3-py3-none-any.whl size=21484 sha256=11ef4fad00fc068f2ba9467f5fadeab8a0a6a1d3127e21c6e866dd09b7676480\n",
      "  Stored in directory: /Users/user/Library/Caches/pip/wheels/54/aa/01/724885182f93150035a2a91bce34a12877e8067a97baaf5dc8\n",
      "Successfully built object-detection opencv-python-headless seqeval docopt promise\n",
      "Failed to build pycocotools fastavro\n"
     ]
    },
    {
     "name": "stderr",
     "output_type": "stream",
     "text": [
      "\u001b[31mERROR: Could not build wheels for pycocotools, fastavro, which is required to install pyproject.toml-based projects\u001b[0m\u001b[31m\n",
      "\u001b[0m"
     ]
    }
   ],
   "source": [
    "# By Me\n",
    "# in case apt-get, Homebrew, a popular package manager for macOS.\n",
    "\n",
    "import os\n",
    "\n",
    "if os.name == 'posix':\n",
    "    # Install Homebrew (if not already installed)\n",
    "    if not os.system('which brew'):\n",
    "        os.system('/bin/bash -c \"$(curl -fsSL https://raw.githubusercontent.com/Homebrew/install/HEAD/install.sh)\"')\n",
    "\n",
    "    # Install dependencies using Homebrew (without sudo)\n",
    "    os.system('brew install protobuf')\n",
    "\n",
    "    # Compile Protobuf libraries\n",
    "    os.system('cd Tensorflow/models/research && protoc object_detection/protos/*.proto --python_out=.')\n",
    "\n",
    "    # Install TensorFlow Object Detection API\n",
    "    os.system('cd Tensorflow/models/research && python -m pip install .')\n",
    "\n"
   ]
  },
  {
   "cell_type": "code",
   "execution_count": null,
   "metadata": {
    "scrolled": true
   },
   "outputs": [],
   "source": [
    "VERIFICATION_SCRIPT = os.path.join(paths['APIMODEL_PATH'], 'research', 'object_detection', 'builders', 'model_builder_tf2_test.py')\n",
    "# Verify Installation\n",
    "!python {VERIFICATION_SCRIPT}"
   ]
  },
  {
   "cell_type": "code",
   "execution_count": null,
   "metadata": {},
   "outputs": [],
   "source": [
    "!pip install tensorflow --upgrade"
   ]
  },
  {
   "cell_type": "code",
   "execution_count": null,
   "metadata": {},
   "outputs": [],
   "source": [
    "!pip uninstall protobuf matplotlib -y\n",
    "!pip install protobuf matplotlib==3.2"
   ]
  },
  {
   "cell_type": "code",
   "execution_count": null,
   "metadata": {},
   "outputs": [],
   "source": [
    "import object_detection"
   ]
  },
  {
   "cell_type": "code",
   "execution_count": null,
   "metadata": {
    "scrolled": true
   },
   "outputs": [],
   "source": [
    "!pip list"
   ]
  },
  {
   "cell_type": "code",
   "execution_count": null,
   "metadata": {
    "colab": {
     "base_uri": "https://localhost:8080/"
    },
    "id": "csofht2npfDE",
    "outputId": "ff5471b2-bed2-43f2-959c-327a706527b6"
   },
   "outputs": [],
   "source": [
    "if os.name =='posix':\n",
    "    !wget {PRETRAINED_MODEL_URL}\n",
    "    !mv {PRETRAINED_MODEL_NAME+'.tar.gz'} {paths['PRETRAINED_MODEL_PATH']}\n",
    "    !cd {paths['PRETRAINED_MODEL_PATH']} && tar -zxvf {PRETRAINED_MODEL_NAME+'.tar.gz'}\n",
    "if os.name == 'nt':\n",
    "    wget.download(PRETRAINED_MODEL_URL)\n",
    "    !move {PRETRAINED_MODEL_NAME+'.tar.gz'} {paths['PRETRAINED_MODEL_PATH']}\n",
    "    !cd {paths['PRETRAINED_MODEL_PATH']} && tar -zxvf {PRETRAINED_MODEL_NAME+'.tar.gz'}"
   ]
  },
  {
   "cell_type": "markdown",
   "metadata": {
    "id": "M5KJTnkfpfDC"
   },
   "source": [
    "# 2. Create Label Map"
   ]
  },
  {
   "cell_type": "code",
   "execution_count": null,
   "metadata": {
    "id": "p1BVDWo7pfDC"
   },
   "outputs": [],
   "source": [
    "labels = [{'name':'ThumbsUp', 'id':1}, {'name':'ThumbsDown', 'id':2}, {'name':'ThankYou', 'id':3}, {'name':'LiveLong', 'id':4}]\n",
    "\n",
    "with open(files['LABELMAP'], 'w') as f:\n",
    "    for label in labels:\n",
    "        f.write('item { \\n')\n",
    "        f.write('\\tname:\\'{}\\'\\n'.format(label['name']))\n",
    "        f.write('\\tid:{}\\n'.format(label['id']))\n",
    "        f.write('}\\n')"
   ]
  },
  {
   "cell_type": "markdown",
   "metadata": {
    "id": "C88zyVELpfDC"
   },
   "source": [
    "# 3. Create TF records"
   ]
  },
  {
   "cell_type": "code",
   "execution_count": null,
   "metadata": {
    "colab": {
     "base_uri": "https://localhost:8080/"
    },
    "id": "kvf5WccwrFGq",
    "outputId": "49902aeb-0bd7-4298-e1a0-5b4a64eb2064"
   },
   "outputs": [],
   "source": [
    "# OPTIONAL IF RUNNING ON COLAB\n",
    "ARCHIVE_FILES = os.path.join(paths['IMAGE_PATH'], 'archive.tar.gz')\n",
    "if os.path.exists(ARCHIVE_FILES):\n",
    "  !tar -zxvf {ARCHIVE_FILES}"
   ]
  },
  {
   "cell_type": "code",
   "execution_count": null,
   "metadata": {
    "colab": {
     "base_uri": "https://localhost:8080/"
    },
    "id": "KWpb_BVUpfDD",
    "outputId": "56ce2a3f-3933-4ee6-8a9d-d5ec65f7d73c"
   },
   "outputs": [],
   "source": [
    "if not os.path.exists(files['TF_RECORD_SCRIPT']):\n",
    "    !git clone https://github.com/nicknochnack/GenerateTFRecord {paths['SCRIPTS_PATH']}"
   ]
  },
  {
   "cell_type": "code",
   "execution_count": null,
   "metadata": {
    "colab": {
     "base_uri": "https://localhost:8080/"
    },
    "id": "UPFToGZqpfDD",
    "outputId": "0ebb456f-aadc-4a1f-96e6-fbfec1923e1c"
   },
   "outputs": [],
   "source": [
    "!python {files['TF_RECORD_SCRIPT']} -x {os.path.join(paths['IMAGE_PATH'], 'train')} -l {files['LABELMAP']} -o {os.path.join(paths['ANNOTATION_PATH'], 'train.record')} \n",
    "!python {files['TF_RECORD_SCRIPT']} -x {os.path.join(paths['IMAGE_PATH'], 'test')} -l {files['LABELMAP']} -o {os.path.join(paths['ANNOTATION_PATH'], 'test.record')} "
   ]
  },
  {
   "cell_type": "markdown",
   "metadata": {
    "id": "qT4QU7pLpfDE"
   },
   "source": [
    "# 4. Copy Model Config to Training Folder"
   ]
  },
  {
   "cell_type": "code",
   "execution_count": null,
   "metadata": {
    "id": "cOjuTFbwpfDF"
   },
   "outputs": [],
   "source": [
    "if os.name =='posix':\n",
    "    !cp {os.path.join(paths['PRETRAINED_MODEL_PATH'], PRETRAINED_MODEL_NAME, 'pipeline.config')} {os.path.join(paths['CHECKPOINT_PATH'])}\n",
    "if os.name == 'nt':\n",
    "    !copy {os.path.join(paths['PRETRAINED_MODEL_PATH'], PRETRAINED_MODEL_NAME, 'pipeline.config')} {os.path.join(paths['CHECKPOINT_PATH'])}"
   ]
  },
  {
   "cell_type": "markdown",
   "metadata": {
    "id": "Ga8gpNslpfDF"
   },
   "source": [
    "# 5. Update Config For Transfer Learning"
   ]
  },
  {
   "cell_type": "code",
   "execution_count": null,
   "metadata": {
    "id": "Z9hRrO_ppfDF"
   },
   "outputs": [],
   "source": [
    "import tensorflow as tf\n",
    "from object_detection.utils import config_util\n",
    "from object_detection.protos import pipeline_pb2\n",
    "from google.protobuf import text_format"
   ]
  },
  {
   "cell_type": "code",
   "execution_count": null,
   "metadata": {
    "id": "c2A0mn4ipfDF"
   },
   "outputs": [],
   "source": [
    "config = config_util.get_configs_from_pipeline_file(files['PIPELINE_CONFIG'])"
   ]
  },
  {
   "cell_type": "code",
   "execution_count": null,
   "metadata": {
    "colab": {
     "base_uri": "https://localhost:8080/"
    },
    "id": "uQA13-afpfDF",
    "outputId": "907496a4-a39d-4b13-8c2c-e5978ecb1f10"
   },
   "outputs": [],
   "source": [
    "config"
   ]
  },
  {
   "cell_type": "code",
   "execution_count": null,
   "metadata": {
    "id": "9vK5lotDpfDF"
   },
   "outputs": [],
   "source": [
    "pipeline_config = pipeline_pb2.TrainEvalPipelineConfig()\n",
    "with tf.io.gfile.GFile(files['PIPELINE_CONFIG'], \"r\") as f:                                                                                                                                                                                                                     \n",
    "    proto_str = f.read()                                                                                                                                                                                                                                          \n",
    "    text_format.Merge(proto_str, pipeline_config)  "
   ]
  },
  {
   "cell_type": "code",
   "execution_count": null,
   "metadata": {
    "id": "rP43Ph0JpfDG"
   },
   "outputs": [],
   "source": [
    "pipeline_config.model.ssd.num_classes = len(labels)\n",
    "pipeline_config.train_config.batch_size = 4\n",
    "pipeline_config.train_config.fine_tune_checkpoint = os.path.join(paths['PRETRAINED_MODEL_PATH'], PRETRAINED_MODEL_NAME, 'checkpoint', 'ckpt-0')\n",
    "pipeline_config.train_config.fine_tune_checkpoint_type = \"detection\"\n",
    "pipeline_config.train_input_reader.label_map_path= files['LABELMAP']\n",
    "pipeline_config.train_input_reader.tf_record_input_reader.input_path[:] = [os.path.join(paths['ANNOTATION_PATH'], 'train.record')]\n",
    "pipeline_config.eval_input_reader[0].label_map_path = files['LABELMAP']\n",
    "pipeline_config.eval_input_reader[0].tf_record_input_reader.input_path[:] = [os.path.join(paths['ANNOTATION_PATH'], 'test.record')]"
   ]
  },
  {
   "cell_type": "code",
   "execution_count": null,
   "metadata": {
    "id": "oJvfgwWqpfDG"
   },
   "outputs": [],
   "source": [
    "config_text = text_format.MessageToString(pipeline_config)                                                                                                                                                                                                        \n",
    "with tf.io.gfile.GFile(files['PIPELINE_CONFIG'], \"wb\") as f:                                                                                                                                                                                                                     \n",
    "    f.write(config_text)   "
   ]
  },
  {
   "cell_type": "markdown",
   "metadata": {
    "id": "Zr3ON7xMpfDG"
   },
   "source": [
    "# 6. Train the model"
   ]
  },
  {
   "cell_type": "code",
   "execution_count": null,
   "metadata": {
    "id": "B-Y2UQmQpfDG"
   },
   "outputs": [],
   "source": [
    "TRAINING_SCRIPT = os.path.join(paths['APIMODEL_PATH'], 'research', 'object_detection', 'model_main_tf2.py')"
   ]
  },
  {
   "cell_type": "code",
   "execution_count": null,
   "metadata": {
    "id": "jMP2XDfQpfDH"
   },
   "outputs": [],
   "source": [
    "command = \"python {} --model_dir={} --pipeline_config_path={} --num_train_steps=2000\".format(TRAINING_SCRIPT, paths['CHECKPOINT_PATH'],files['PIPELINE_CONFIG'])"
   ]
  },
  {
   "cell_type": "code",
   "execution_count": null,
   "metadata": {
    "colab": {
     "base_uri": "https://localhost:8080/"
    },
    "id": "A4OXXi-ApfDH",
    "outputId": "117a0e83-012b-466e-b7a6-ccaa349ac5ab"
   },
   "outputs": [],
   "source": [
    "print(command)"
   ]
  },
  {
   "cell_type": "code",
   "execution_count": null,
   "metadata": {
    "colab": {
     "base_uri": "https://localhost:8080/"
    },
    "id": "i3ZsJR-qpfDH",
    "outputId": "cabec5e1-45e6-4f2f-d9cf-297d9c1d0225"
   },
   "outputs": [],
   "source": [
    "!{command}"
   ]
  },
  {
   "cell_type": "markdown",
   "metadata": {
    "id": "4_YRZu7npfDH"
   },
   "source": [
    "# 7. Evaluate the Model"
   ]
  },
  {
   "cell_type": "code",
   "execution_count": null,
   "metadata": {
    "id": "80L7-fdPpfDH"
   },
   "outputs": [],
   "source": [
    "command = \"python {} --model_dir={} --pipeline_config_path={} --checkpoint_dir={}\".format(TRAINING_SCRIPT, paths['CHECKPOINT_PATH'],files['PIPELINE_CONFIG'], paths['CHECKPOINT_PATH'])"
   ]
  },
  {
   "cell_type": "code",
   "execution_count": null,
   "metadata": {
    "colab": {
     "base_uri": "https://localhost:8080/"
    },
    "id": "lYsgEPx9pfDH",
    "outputId": "8632d48b-91d2-45d9-bcb8-c1b172bf6eed"
   },
   "outputs": [],
   "source": [
    "print(command)"
   ]
  },
  {
   "cell_type": "code",
   "execution_count": null,
   "metadata": {
    "id": "lqTV2jGBpfDH"
   },
   "outputs": [],
   "source": [
    "!{command}"
   ]
  },
  {
   "cell_type": "markdown",
   "metadata": {
    "id": "orvRk02UpfDI"
   },
   "source": [
    "# 8. Load Train Model From Checkpoint"
   ]
  },
  {
   "cell_type": "code",
   "execution_count": null,
   "metadata": {
    "id": "8TYk4_oIpfDI"
   },
   "outputs": [],
   "source": [
    "import os\n",
    "import tensorflow as tf\n",
    "from object_detection.utils import label_map_util\n",
    "from object_detection.utils import visualization_utils as viz_utils\n",
    "from object_detection.builders import model_builder\n",
    "from object_detection.utils import config_util"
   ]
  },
  {
   "cell_type": "code",
   "execution_count": null,
   "metadata": {
    "id": "tDnQg-cYpfDI"
   },
   "outputs": [],
   "source": [
    "# Load pipeline config and build a detection model\n",
    "configs = config_util.get_configs_from_pipeline_file(files['PIPELINE_CONFIG'])\n",
    "detection_model = model_builder.build(model_config=configs['model'], is_training=False)\n",
    "\n",
    "# Restore checkpoint\n",
    "ckpt = tf.compat.v2.train.Checkpoint(model=detection_model)\n",
    "ckpt.restore(os.path.join(paths['CHECKPOINT_PATH'], 'ckpt-5')).expect_partial()\n",
    "\n",
    "@tf.function\n",
    "def detect_fn(image):\n",
    "    image, shapes = detection_model.preprocess(image)\n",
    "    prediction_dict = detection_model.predict(image, shapes)\n",
    "    detections = detection_model.postprocess(prediction_dict, shapes)\n",
    "    return detections"
   ]
  },
  {
   "cell_type": "markdown",
   "metadata": {
    "id": "0EmsmbBZpfDI"
   },
   "source": [
    "# 9. Detect from an Image"
   ]
  },
  {
   "cell_type": "code",
   "execution_count": null,
   "metadata": {
    "id": "Y_MKiuZ4pfDI"
   },
   "outputs": [],
   "source": [
    "import cv2 \n",
    "import numpy as np\n",
    "from matplotlib import pyplot as plt\n",
    "%matplotlib inline"
   ]
  },
  {
   "cell_type": "code",
   "execution_count": null,
   "metadata": {
    "id": "cBDbIhNapfDI"
   },
   "outputs": [],
   "source": [
    "category_index = label_map_util.create_category_index_from_labelmap(files['LABELMAP'])"
   ]
  },
  {
   "cell_type": "code",
   "execution_count": null,
   "metadata": {
    "id": "Lx3crOhOzITB"
   },
   "outputs": [],
   "source": [
    "IMAGE_PATH = os.path.join(paths['IMAGE_PATH'], 'test', 'livelong.02533422-940e-11eb-9dbd-5cf3709bbcc6.jpg')"
   ]
  },
  {
   "cell_type": "code",
   "execution_count": null,
   "metadata": {
    "colab": {
     "base_uri": "https://localhost:8080/",
     "height": 269
    },
    "id": "Tpzn1SMry1yK",
    "outputId": "c392a2c5-10fe-4fc4-9998-a1d4c7db2bd3"
   },
   "outputs": [],
   "source": [
    "img = cv2.imread(IMAGE_PATH)\n",
    "image_np = np.array(img)\n",
    "\n",
    "input_tensor = tf.convert_to_tensor(np.expand_dims(image_np, 0), dtype=tf.float32)\n",
    "detections = detect_fn(input_tensor)\n",
    "\n",
    "num_detections = int(detections.pop('num_detections'))\n",
    "detections = {key: value[0, :num_detections].numpy()\n",
    "              for key, value in detections.items()}\n",
    "detections['num_detections'] = num_detections\n",
    "\n",
    "# detection_classes should be ints.\n",
    "detections['detection_classes'] = detections['detection_classes'].astype(np.int64)\n",
    "\n",
    "label_id_offset = 1\n",
    "image_np_with_detections = image_np.copy()\n",
    "\n",
    "viz_utils.visualize_boxes_and_labels_on_image_array(\n",
    "            image_np_with_detections,\n",
    "            detections['detection_boxes'],\n",
    "            detections['detection_classes']+label_id_offset,\n",
    "            detections['detection_scores'],\n",
    "            category_index,\n",
    "            use_normalized_coordinates=True,\n",
    "            max_boxes_to_draw=5,\n",
    "            min_score_thresh=.8,\n",
    "            agnostic_mode=False)\n",
    "\n",
    "plt.imshow(cv2.cvtColor(image_np_with_detections, cv2.COLOR_BGR2RGB))\n",
    "plt.show()"
   ]
  },
  {
   "cell_type": "markdown",
   "metadata": {
    "id": "IsNAaYAo0WVL"
   },
   "source": [
    "# 10. Real Time Detections from your Webcam"
   ]
  },
  {
   "cell_type": "code",
   "execution_count": null,
   "metadata": {},
   "outputs": [],
   "source": [
    "!pip uninstall opencv-python-headless -y"
   ]
  },
  {
   "cell_type": "code",
   "execution_count": null,
   "metadata": {
    "id": "o_grs6OGpfDJ"
   },
   "outputs": [],
   "source": [
    "cap = cv2.VideoCapture(0)\n",
    "width = int(cap.get(cv2.CAP_PROP_FRAME_WIDTH))\n",
    "height = int(cap.get(cv2.CAP_PROP_FRAME_HEIGHT))\n",
    "\n",
    "while cap.isOpened(): \n",
    "    ret, frame = cap.read()\n",
    "    image_np = np.array(frame)\n",
    "    \n",
    "    input_tensor = tf.convert_to_tensor(np.expand_dims(image_np, 0), dtype=tf.float32)\n",
    "    detections = detect_fn(input_tensor)\n",
    "    \n",
    "    num_detections = int(detections.pop('num_detections'))\n",
    "    detections = {key: value[0, :num_detections].numpy()\n",
    "                  for key, value in detections.items()}\n",
    "    detections['num_detections'] = num_detections\n",
    "\n",
    "    # detection_classes should be ints.\n",
    "    detections['detection_classes'] = detections['detection_classes'].astype(np.int64)\n",
    "\n",
    "    label_id_offset = 1\n",
    "    image_np_with_detections = image_np.copy()\n",
    "\n",
    "    viz_utils.visualize_boxes_and_labels_on_image_array(\n",
    "                image_np_with_detections,\n",
    "                detections['detection_boxes'],\n",
    "                detections['detection_classes']+label_id_offset,\n",
    "                detections['detection_scores'],\n",
    "                category_index,\n",
    "                use_normalized_coordinates=True,\n",
    "                max_boxes_to_draw=5,\n",
    "                min_score_thresh=.8,\n",
    "                agnostic_mode=False)\n",
    "\n",
    "    cv2.imshow('object detection',  cv2.resize(image_np_with_detections, (800, 600)))\n",
    "    \n",
    "    if cv2.waitKey(10) & 0xFF == ord('q'):\n",
    "        cap.release()\n",
    "        cv2.destroyAllWindows()\n",
    "        break"
   ]
  },
  {
   "cell_type": "markdown",
   "metadata": {
    "id": "rzlM4jt0pfDJ"
   },
   "source": [
    "# 10. Freezing the Graph"
   ]
  },
  {
   "cell_type": "code",
   "execution_count": null,
   "metadata": {
    "id": "n4olHB2npfDJ"
   },
   "outputs": [],
   "source": [
    "FREEZE_SCRIPT = os.path.join(paths['APIMODEL_PATH'], 'research', 'object_detection', 'exporter_main_v2.py ')"
   ]
  },
  {
   "cell_type": "code",
   "execution_count": null,
   "metadata": {
    "id": "0AjO93QDpfDJ"
   },
   "outputs": [],
   "source": [
    "command = \"python {} --input_type=image_tensor --pipeline_config_path={} --trained_checkpoint_dir={} --output_directory={}\".format(FREEZE_SCRIPT ,files['PIPELINE_CONFIG'], paths['CHECKPOINT_PATH'], paths['OUTPUT_PATH'])"
   ]
  },
  {
   "cell_type": "code",
   "execution_count": null,
   "metadata": {
    "colab": {
     "base_uri": "https://localhost:8080/"
    },
    "id": "F6Lsp3tCpfDJ",
    "outputId": "c3828529-bf06-4df5-d7f3-145890ec3edd"
   },
   "outputs": [],
   "source": [
    "print(command)"
   ]
  },
  {
   "cell_type": "code",
   "execution_count": null,
   "metadata": {
    "colab": {
     "base_uri": "https://localhost:8080/"
    },
    "id": "1Sw1ULgHpfDJ",
    "outputId": "6fd441e1-9fc9-4889-d072-3395c21e40b6"
   },
   "outputs": [],
   "source": [
    "!{command}"
   ]
  },
  {
   "cell_type": "markdown",
   "metadata": {
    "id": "wTPmdqaXpfDK"
   },
   "source": [
    "# 11. Conversion to TFJS"
   ]
  },
  {
   "cell_type": "code",
   "execution_count": null,
   "metadata": {
    "colab": {
     "base_uri": "https://localhost:8080/"
    },
    "id": "gZ6UzY_fpfDK",
    "outputId": "0c84722e-1c2b-4002-d857-80827ade828a",
    "scrolled": true
   },
   "outputs": [],
   "source": [
    "!pip install tensorflowjs"
   ]
  },
  {
   "cell_type": "code",
   "execution_count": null,
   "metadata": {
    "id": "0oxbVynHpfDK"
   },
   "outputs": [],
   "source": [
    "command = \"tensorflowjs_converter --input_format=tf_saved_model --output_node_names='detection_boxes,detection_classes,detection_features,detection_multiclass_scores,detection_scores,num_detections,raw_detection_boxes,raw_detection_scores' --output_format=tfjs_graph_model --signature_name=serving_default {} {}\".format(os.path.join(paths['OUTPUT_PATH'], 'saved_model'), paths['TFJS_PATH'])"
   ]
  },
  {
   "cell_type": "code",
   "execution_count": null,
   "metadata": {
    "colab": {
     "base_uri": "https://localhost:8080/"
    },
    "id": "DB2AGNmJpfDK",
    "outputId": "fbc9f747-f511-47e8-df8f-5ea65cef0374"
   },
   "outputs": [],
   "source": [
    "print(command)"
   ]
  },
  {
   "cell_type": "code",
   "execution_count": null,
   "metadata": {
    "colab": {
     "base_uri": "https://localhost:8080/"
    },
    "id": "K7rfT4-hpfDK",
    "outputId": "532707fd-6feb-4bc6-84a3-325b5d16303c"
   },
   "outputs": [],
   "source": [
    "!{command}"
   ]
  },
  {
   "cell_type": "code",
   "execution_count": null,
   "metadata": {
    "id": "o8_hm-itpfDK"
   },
   "outputs": [],
   "source": [
    "# Test Code: https://github.com/nicknochnack/RealTimeSignLanguageDetectionwithTFJS"
   ]
  },
  {
   "cell_type": "markdown",
   "metadata": {
    "id": "VtUw73FHpfDK"
   },
   "source": [
    "# 12. Conversion to TFLite"
   ]
  },
  {
   "cell_type": "code",
   "execution_count": null,
   "metadata": {
    "id": "XviMtewLpfDK"
   },
   "outputs": [],
   "source": [
    "TFLITE_SCRIPT = os.path.join(paths['APIMODEL_PATH'], 'research', 'object_detection', 'export_tflite_graph_tf2.py ')"
   ]
  },
  {
   "cell_type": "code",
   "execution_count": null,
   "metadata": {
    "id": "us86cjC4pfDL"
   },
   "outputs": [],
   "source": [
    "command = \"python {} --pipeline_config_path={} --trained_checkpoint_dir={} --output_directory={}\".format(TFLITE_SCRIPT ,files['PIPELINE_CONFIG'], paths['CHECKPOINT_PATH'], paths['TFLITE_PATH'])"
   ]
  },
  {
   "cell_type": "code",
   "execution_count": null,
   "metadata": {
    "colab": {
     "base_uri": "https://localhost:8080/"
    },
    "id": "n1r5YO3rpfDL",
    "outputId": "5fcdf7a4-eee2-4365-f1ca-1751968379ea"
   },
   "outputs": [],
   "source": [
    "print(command)"
   ]
  },
  {
   "cell_type": "code",
   "execution_count": null,
   "metadata": {
    "colab": {
     "base_uri": "https://localhost:8080/"
    },
    "id": "I-xWpHN8pfDL",
    "outputId": "7f6bacd8-d077-43b5-c131-5b081fba24a4"
   },
   "outputs": [],
   "source": [
    "!{command}"
   ]
  },
  {
   "cell_type": "code",
   "execution_count": null,
   "metadata": {
    "id": "iJfYMbN6pfDL"
   },
   "outputs": [],
   "source": [
    "FROZEN_TFLITE_PATH = os.path.join(paths['TFLITE_PATH'], 'saved_model')\n",
    "TFLITE_MODEL = os.path.join(paths['TFLITE_PATH'], 'saved_model', 'detect.tflite')"
   ]
  },
  {
   "cell_type": "code",
   "execution_count": null,
   "metadata": {},
   "outputs": [],
   "source": [
    "command = \"tflite_convert \\\n",
    "--saved_model_dir={} \\\n",
    "--output_file={} \\\n",
    "--input_shapes=1,300,300,3 \\\n",
    "--input_arrays=normalized_input_image_tensor \\\n",
    "--output_arrays='TFLite_Detection_PostProcess','TFLite_Detection_PostProcess:1','TFLite_Detection_PostProcess:2','TFLite_Detection_PostProcess:3' \\\n",
    "--inference_type=FLOAT \\\n",
    "--allow_custom_ops\".format(FROZEN_TFLITE_PATH, TFLITE_MODEL, )"
   ]
  },
  {
   "cell_type": "code",
   "execution_count": null,
   "metadata": {
    "colab": {
     "base_uri": "https://localhost:8080/"
    },
    "id": "E8GwUeoFpfDL",
    "outputId": "fac43ea4-cc85-471b-a362-e994b06fd583"
   },
   "outputs": [],
   "source": [
    "print(command)"
   ]
  },
  {
   "cell_type": "code",
   "execution_count": null,
   "metadata": {
    "colab": {
     "base_uri": "https://localhost:8080/"
    },
    "id": "Nbd7gqHMpfDL",
    "outputId": "7c8fe6d5-2415-4641-8548-39d425c202f7"
   },
   "outputs": [],
   "source": [
    "!{command}"
   ]
  },
  {
   "cell_type": "markdown",
   "metadata": {
    "id": "5NQqZRdA21Uc"
   },
   "source": [
    "# 13. Zip and Export Models "
   ]
  },
  {
   "cell_type": "code",
   "execution_count": null,
   "metadata": {
    "id": "tTVTGCQp2ZJJ"
   },
   "outputs": [],
   "source": [
    "!tar -czf models.tar.gz {paths['CHECKPOINT_PATH']}"
   ]
  },
  {
   "cell_type": "code",
   "execution_count": null,
   "metadata": {
    "colab": {
     "base_uri": "https://localhost:8080/"
    },
    "id": "whShhB0x3PYJ",
    "outputId": "b773201d-35c9-46a8-b893-4a76bd4d5d97"
   },
   "outputs": [],
   "source": [
    "from google.colab import drive\n",
    "drive.mount('/content/drive')"
   ]
  }
 ],
 "metadata": {
  "accelerator": "GPU",
  "colab": {
   "name": "3. Training and Detection.ipynb",
   "provenance": []
  },
  "kernelspec": {
   "display_name": "tfod",
   "language": "python",
   "name": "tfod"
  },
  "language_info": {
   "codemirror_mode": {
    "name": "ipython",
    "version": 3
   },
   "file_extension": ".py",
   "mimetype": "text/x-python",
   "name": "python",
   "nbconvert_exporter": "python",
   "pygments_lexer": "ipython3",
   "version": "3.8.2"
  }
 },
 "nbformat": 4,
 "nbformat_minor": 1
}
